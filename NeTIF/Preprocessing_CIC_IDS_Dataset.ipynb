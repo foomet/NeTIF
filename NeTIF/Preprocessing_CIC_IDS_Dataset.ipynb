{
 "cells": [
  {
   "cell_type": "markdown",
   "id": "7fb9a9a5",
   "metadata": {},
   "source": [
    "# Pre-processing of CIC-IDS-2017 Dataset\n",
    "\n",
    "Pre-processing CICIDS 2017 dataset, cleaning and handling values discrepancies. All four CSV files are combined and processed before exporting it to combined CSV file."
   ]
  },
  {
   "cell_type": "code",
   "id": "031d8f56",
   "metadata": {
    "ExecuteTime": {
     "end_time": "2025-01-15T11:22:22.372319Z",
     "start_time": "2025-01-15T11:22:21.913573Z"
    }
   },
   "source": [
    "import pandas as pd\n",
    "import numpy as np\n",
    "import matplotlib.pyplot as plt\n",
    "from pathlib import Path\n",
    "\n",
    "%matplotlib inline"
   ],
   "outputs": [],
   "execution_count": 2
  },
  {
   "cell_type": "code",
   "id": "54b0a3a3",
   "metadata": {
    "ExecuteTime": {
     "end_time": "2025-01-15T11:22:37.098680Z",
     "start_time": "2025-01-15T11:22:22.376326Z"
    }
   },
   "source": [
    "## Reading all files of CICIDS 2017 Dataset\n",
    "\n",
    "output_file = \"./CICIDS2017_preprocessed.csv\"\n",
    "label_folder = \"./GeneratedLabelledFlows/TrafficLabelling\"\n",
    "df1 = pd.read_csv(label_folder + \"/Monday-WorkingHours.pcap_ISCX.csv\")\n",
    "df2 = pd.read_csv(label_folder + \"/Tuesday-WorkingHours.pcap_ISCX.csv\")\n",
    "df3 = pd.read_csv(label_folder + \"/Wednesday-workingHours.pcap_ISCX.csv\")\n",
    "df4 = pd.read_csv(label_folder + \"/Thursday-WorkingHours-Afternoon-Infilteration.pcap_ISCX.csv\")\n",
    "df5 = pd.read_csv(\n",
    "    label_folder + \"/Thursday-WorkingHours-Morning-WebAttacks.pcap_ISCX.csv\",\n",
    "    encoding=\"cp1252\",\n",
    "    low_memory=False,\n",
    ")\n",
    "df6 = pd.read_csv(label_folder + \"/Friday-WorkingHours-Morning.pcap_ISCX.csv\")\n",
    "df7 = pd.read_csv(label_folder + \"/Friday-WorkingHours-Afternoon-PortScan.pcap_ISCX.csv\")\n",
    "df8 = pd.read_csv(label_folder + \"/Friday-WorkingHours-Afternoon-DDos.pcap_ISCX.csv\")"
   ],
   "outputs": [],
   "execution_count": 3
  },
  {
   "cell_type": "code",
   "id": "f5aff1a8",
   "metadata": {
    "ExecuteTime": {
     "end_time": "2025-01-15T11:22:38.522905Z",
     "start_time": "2025-01-15T11:22:37.177674Z"
    }
   },
   "source": [
    "df = pd.concat([df1, df2, df3, df4, df5, df6, df7, df8], ignore_index=True)\n",
    "df.shape"
   ],
   "outputs": [
    {
     "data": {
      "text/plain": [
       "(3119345, 85)"
      ]
     },
     "execution_count": 4,
     "metadata": {},
     "output_type": "execute_result"
    }
   ],
   "execution_count": 4
  },
  {
   "cell_type": "code",
   "id": "7de0ec65",
   "metadata": {
    "ExecuteTime": {
     "end_time": "2025-01-15T11:22:38.616450Z",
     "start_time": "2025-01-15T11:22:38.607450Z"
    }
   },
   "source": [
    "df.columns"
   ],
   "outputs": [
    {
     "data": {
      "text/plain": [
       "Index(['Flow ID', ' Source IP', ' Source Port', ' Destination IP',\n",
       "       ' Destination Port', ' Protocol', ' Timestamp', ' Flow Duration',\n",
       "       ' Total Fwd Packets', ' Total Backward Packets',\n",
       "       'Total Length of Fwd Packets', ' Total Length of Bwd Packets',\n",
       "       ' Fwd Packet Length Max', ' Fwd Packet Length Min',\n",
       "       ' Fwd Packet Length Mean', ' Fwd Packet Length Std',\n",
       "       'Bwd Packet Length Max', ' Bwd Packet Length Min',\n",
       "       ' Bwd Packet Length Mean', ' Bwd Packet Length Std', 'Flow Bytes/s',\n",
       "       ' Flow Packets/s', ' Flow IAT Mean', ' Flow IAT Std', ' Flow IAT Max',\n",
       "       ' Flow IAT Min', 'Fwd IAT Total', ' Fwd IAT Mean', ' Fwd IAT Std',\n",
       "       ' Fwd IAT Max', ' Fwd IAT Min', 'Bwd IAT Total', ' Bwd IAT Mean',\n",
       "       ' Bwd IAT Std', ' Bwd IAT Max', ' Bwd IAT Min', 'Fwd PSH Flags',\n",
       "       ' Bwd PSH Flags', ' Fwd URG Flags', ' Bwd URG Flags',\n",
       "       ' Fwd Header Length', ' Bwd Header Length', 'Fwd Packets/s',\n",
       "       ' Bwd Packets/s', ' Min Packet Length', ' Max Packet Length',\n",
       "       ' Packet Length Mean', ' Packet Length Std', ' Packet Length Variance',\n",
       "       'FIN Flag Count', ' SYN Flag Count', ' RST Flag Count',\n",
       "       ' PSH Flag Count', ' ACK Flag Count', ' URG Flag Count',\n",
       "       ' CWE Flag Count', ' ECE Flag Count', ' Down/Up Ratio',\n",
       "       ' Average Packet Size', ' Avg Fwd Segment Size',\n",
       "       ' Avg Bwd Segment Size', ' Fwd Header Length.1', 'Fwd Avg Bytes/Bulk',\n",
       "       ' Fwd Avg Packets/Bulk', ' Fwd Avg Bulk Rate', ' Bwd Avg Bytes/Bulk',\n",
       "       ' Bwd Avg Packets/Bulk', 'Bwd Avg Bulk Rate', 'Subflow Fwd Packets',\n",
       "       ' Subflow Fwd Bytes', ' Subflow Bwd Packets', ' Subflow Bwd Bytes',\n",
       "       'Init_Win_bytes_forward', ' Init_Win_bytes_backward',\n",
       "       ' act_data_pkt_fwd', ' min_seg_size_forward', 'Active Mean',\n",
       "       ' Active Std', ' Active Max', ' Active Min', 'Idle Mean', ' Idle Std',\n",
       "       ' Idle Max', ' Idle Min', ' Label'],\n",
       "      dtype='object')"
      ]
     },
     "execution_count": 5,
     "metadata": {},
     "output_type": "execute_result"
    }
   ],
   "execution_count": 5
  },
  {
   "cell_type": "code",
   "id": "1784a424",
   "metadata": {
    "ExecuteTime": {
     "end_time": "2025-01-15T11:22:40.634017Z",
     "start_time": "2025-01-15T11:22:38.735976Z"
    }
   },
   "source": [
    "df.columns = df.columns.str.strip()\n",
    "## Duplicate Column; Removal\n",
    "df.drop(columns=[\"Fwd Header Length.1\"], inplace=True)\n",
    "df.shape"
   ],
   "outputs": [
    {
     "data": {
      "text/plain": [
       "(3119345, 84)"
      ]
     },
     "execution_count": 6,
     "metadata": {},
     "output_type": "execute_result"
    }
   ],
   "execution_count": 6
  },
  {
   "cell_type": "code",
   "id": "dc6498ac",
   "metadata": {
    "ExecuteTime": {
     "end_time": "2025-01-15T11:22:45.547193Z",
     "start_time": "2025-01-15T11:22:40.725534Z"
    }
   },
   "source": [
    "df[pd.isnull(df[\"Flow ID\"])]"
   ],
   "outputs": [
    {
     "data": {
      "text/plain": [
       "        Flow ID Source IP  Source Port Destination IP  Destination Port  \\\n",
       "2127498     NaN       NaN          NaN            NaN               NaN   \n",
       "2127499     NaN       NaN          NaN            NaN               NaN   \n",
       "2127500     NaN       NaN          NaN            NaN               NaN   \n",
       "2127501     NaN       NaN          NaN            NaN               NaN   \n",
       "2127502     NaN       NaN          NaN            NaN               NaN   \n",
       "...         ...       ...          ...            ...               ...   \n",
       "2416095     NaN       NaN          NaN            NaN               NaN   \n",
       "2416096     NaN       NaN          NaN            NaN               NaN   \n",
       "2416097     NaN       NaN          NaN            NaN               NaN   \n",
       "2416098     NaN       NaN          NaN            NaN               NaN   \n",
       "2416099     NaN       NaN          NaN            NaN               NaN   \n",
       "\n",
       "         Protocol Timestamp  Flow Duration  Total Fwd Packets  \\\n",
       "2127498       NaN       NaN            NaN                NaN   \n",
       "2127499       NaN       NaN            NaN                NaN   \n",
       "2127500       NaN       NaN            NaN                NaN   \n",
       "2127501       NaN       NaN            NaN                NaN   \n",
       "2127502       NaN       NaN            NaN                NaN   \n",
       "...           ...       ...            ...                ...   \n",
       "2416095       NaN       NaN            NaN                NaN   \n",
       "2416096       NaN       NaN            NaN                NaN   \n",
       "2416097       NaN       NaN            NaN                NaN   \n",
       "2416098       NaN       NaN            NaN                NaN   \n",
       "2416099       NaN       NaN            NaN                NaN   \n",
       "\n",
       "         Total Backward Packets  ...  min_seg_size_forward  Active Mean  \\\n",
       "2127498                     NaN  ...                   NaN          NaN   \n",
       "2127499                     NaN  ...                   NaN          NaN   \n",
       "2127500                     NaN  ...                   NaN          NaN   \n",
       "2127501                     NaN  ...                   NaN          NaN   \n",
       "2127502                     NaN  ...                   NaN          NaN   \n",
       "...                         ...  ...                   ...          ...   \n",
       "2416095                     NaN  ...                   NaN          NaN   \n",
       "2416096                     NaN  ...                   NaN          NaN   \n",
       "2416097                     NaN  ...                   NaN          NaN   \n",
       "2416098                     NaN  ...                   NaN          NaN   \n",
       "2416099                     NaN  ...                   NaN          NaN   \n",
       "\n",
       "         Active Std  Active Max  Active Min  Idle Mean  Idle Std  Idle Max  \\\n",
       "2127498         NaN         NaN         NaN        NaN       NaN       NaN   \n",
       "2127499         NaN         NaN         NaN        NaN       NaN       NaN   \n",
       "2127500         NaN         NaN         NaN        NaN       NaN       NaN   \n",
       "2127501         NaN         NaN         NaN        NaN       NaN       NaN   \n",
       "2127502         NaN         NaN         NaN        NaN       NaN       NaN   \n",
       "...             ...         ...         ...        ...       ...       ...   \n",
       "2416095         NaN         NaN         NaN        NaN       NaN       NaN   \n",
       "2416096         NaN         NaN         NaN        NaN       NaN       NaN   \n",
       "2416097         NaN         NaN         NaN        NaN       NaN       NaN   \n",
       "2416098         NaN         NaN         NaN        NaN       NaN       NaN   \n",
       "2416099         NaN         NaN         NaN        NaN       NaN       NaN   \n",
       "\n",
       "         Idle Min  Label  \n",
       "2127498       NaN    NaN  \n",
       "2127499       NaN    NaN  \n",
       "2127500       NaN    NaN  \n",
       "2127501       NaN    NaN  \n",
       "2127502       NaN    NaN  \n",
       "...           ...    ...  \n",
       "2416095       NaN    NaN  \n",
       "2416096       NaN    NaN  \n",
       "2416097       NaN    NaN  \n",
       "2416098       NaN    NaN  \n",
       "2416099       NaN    NaN  \n",
       "\n",
       "[288602 rows x 84 columns]"
      ],
      "text/html": [
       "<div>\n",
       "<style scoped>\n",
       "    .dataframe tbody tr th:only-of-type {\n",
       "        vertical-align: middle;\n",
       "    }\n",
       "\n",
       "    .dataframe tbody tr th {\n",
       "        vertical-align: top;\n",
       "    }\n",
       "\n",
       "    .dataframe thead th {\n",
       "        text-align: right;\n",
       "    }\n",
       "</style>\n",
       "<table border=\"1\" class=\"dataframe\">\n",
       "  <thead>\n",
       "    <tr style=\"text-align: right;\">\n",
       "      <th></th>\n",
       "      <th>Flow ID</th>\n",
       "      <th>Source IP</th>\n",
       "      <th>Source Port</th>\n",
       "      <th>Destination IP</th>\n",
       "      <th>Destination Port</th>\n",
       "      <th>Protocol</th>\n",
       "      <th>Timestamp</th>\n",
       "      <th>Flow Duration</th>\n",
       "      <th>Total Fwd Packets</th>\n",
       "      <th>Total Backward Packets</th>\n",
       "      <th>...</th>\n",
       "      <th>min_seg_size_forward</th>\n",
       "      <th>Active Mean</th>\n",
       "      <th>Active Std</th>\n",
       "      <th>Active Max</th>\n",
       "      <th>Active Min</th>\n",
       "      <th>Idle Mean</th>\n",
       "      <th>Idle Std</th>\n",
       "      <th>Idle Max</th>\n",
       "      <th>Idle Min</th>\n",
       "      <th>Label</th>\n",
       "    </tr>\n",
       "  </thead>\n",
       "  <tbody>\n",
       "    <tr>\n",
       "      <th>2127498</th>\n",
       "      <td>NaN</td>\n",
       "      <td>NaN</td>\n",
       "      <td>NaN</td>\n",
       "      <td>NaN</td>\n",
       "      <td>NaN</td>\n",
       "      <td>NaN</td>\n",
       "      <td>NaN</td>\n",
       "      <td>NaN</td>\n",
       "      <td>NaN</td>\n",
       "      <td>NaN</td>\n",
       "      <td>...</td>\n",
       "      <td>NaN</td>\n",
       "      <td>NaN</td>\n",
       "      <td>NaN</td>\n",
       "      <td>NaN</td>\n",
       "      <td>NaN</td>\n",
       "      <td>NaN</td>\n",
       "      <td>NaN</td>\n",
       "      <td>NaN</td>\n",
       "      <td>NaN</td>\n",
       "      <td>NaN</td>\n",
       "    </tr>\n",
       "    <tr>\n",
       "      <th>2127499</th>\n",
       "      <td>NaN</td>\n",
       "      <td>NaN</td>\n",
       "      <td>NaN</td>\n",
       "      <td>NaN</td>\n",
       "      <td>NaN</td>\n",
       "      <td>NaN</td>\n",
       "      <td>NaN</td>\n",
       "      <td>NaN</td>\n",
       "      <td>NaN</td>\n",
       "      <td>NaN</td>\n",
       "      <td>...</td>\n",
       "      <td>NaN</td>\n",
       "      <td>NaN</td>\n",
       "      <td>NaN</td>\n",
       "      <td>NaN</td>\n",
       "      <td>NaN</td>\n",
       "      <td>NaN</td>\n",
       "      <td>NaN</td>\n",
       "      <td>NaN</td>\n",
       "      <td>NaN</td>\n",
       "      <td>NaN</td>\n",
       "    </tr>\n",
       "    <tr>\n",
       "      <th>2127500</th>\n",
       "      <td>NaN</td>\n",
       "      <td>NaN</td>\n",
       "      <td>NaN</td>\n",
       "      <td>NaN</td>\n",
       "      <td>NaN</td>\n",
       "      <td>NaN</td>\n",
       "      <td>NaN</td>\n",
       "      <td>NaN</td>\n",
       "      <td>NaN</td>\n",
       "      <td>NaN</td>\n",
       "      <td>...</td>\n",
       "      <td>NaN</td>\n",
       "      <td>NaN</td>\n",
       "      <td>NaN</td>\n",
       "      <td>NaN</td>\n",
       "      <td>NaN</td>\n",
       "      <td>NaN</td>\n",
       "      <td>NaN</td>\n",
       "      <td>NaN</td>\n",
       "      <td>NaN</td>\n",
       "      <td>NaN</td>\n",
       "    </tr>\n",
       "    <tr>\n",
       "      <th>2127501</th>\n",
       "      <td>NaN</td>\n",
       "      <td>NaN</td>\n",
       "      <td>NaN</td>\n",
       "      <td>NaN</td>\n",
       "      <td>NaN</td>\n",
       "      <td>NaN</td>\n",
       "      <td>NaN</td>\n",
       "      <td>NaN</td>\n",
       "      <td>NaN</td>\n",
       "      <td>NaN</td>\n",
       "      <td>...</td>\n",
       "      <td>NaN</td>\n",
       "      <td>NaN</td>\n",
       "      <td>NaN</td>\n",
       "      <td>NaN</td>\n",
       "      <td>NaN</td>\n",
       "      <td>NaN</td>\n",
       "      <td>NaN</td>\n",
       "      <td>NaN</td>\n",
       "      <td>NaN</td>\n",
       "      <td>NaN</td>\n",
       "    </tr>\n",
       "    <tr>\n",
       "      <th>2127502</th>\n",
       "      <td>NaN</td>\n",
       "      <td>NaN</td>\n",
       "      <td>NaN</td>\n",
       "      <td>NaN</td>\n",
       "      <td>NaN</td>\n",
       "      <td>NaN</td>\n",
       "      <td>NaN</td>\n",
       "      <td>NaN</td>\n",
       "      <td>NaN</td>\n",
       "      <td>NaN</td>\n",
       "      <td>...</td>\n",
       "      <td>NaN</td>\n",
       "      <td>NaN</td>\n",
       "      <td>NaN</td>\n",
       "      <td>NaN</td>\n",
       "      <td>NaN</td>\n",
       "      <td>NaN</td>\n",
       "      <td>NaN</td>\n",
       "      <td>NaN</td>\n",
       "      <td>NaN</td>\n",
       "      <td>NaN</td>\n",
       "    </tr>\n",
       "    <tr>\n",
       "      <th>...</th>\n",
       "      <td>...</td>\n",
       "      <td>...</td>\n",
       "      <td>...</td>\n",
       "      <td>...</td>\n",
       "      <td>...</td>\n",
       "      <td>...</td>\n",
       "      <td>...</td>\n",
       "      <td>...</td>\n",
       "      <td>...</td>\n",
       "      <td>...</td>\n",
       "      <td>...</td>\n",
       "      <td>...</td>\n",
       "      <td>...</td>\n",
       "      <td>...</td>\n",
       "      <td>...</td>\n",
       "      <td>...</td>\n",
       "      <td>...</td>\n",
       "      <td>...</td>\n",
       "      <td>...</td>\n",
       "      <td>...</td>\n",
       "      <td>...</td>\n",
       "    </tr>\n",
       "    <tr>\n",
       "      <th>2416095</th>\n",
       "      <td>NaN</td>\n",
       "      <td>NaN</td>\n",
       "      <td>NaN</td>\n",
       "      <td>NaN</td>\n",
       "      <td>NaN</td>\n",
       "      <td>NaN</td>\n",
       "      <td>NaN</td>\n",
       "      <td>NaN</td>\n",
       "      <td>NaN</td>\n",
       "      <td>NaN</td>\n",
       "      <td>...</td>\n",
       "      <td>NaN</td>\n",
       "      <td>NaN</td>\n",
       "      <td>NaN</td>\n",
       "      <td>NaN</td>\n",
       "      <td>NaN</td>\n",
       "      <td>NaN</td>\n",
       "      <td>NaN</td>\n",
       "      <td>NaN</td>\n",
       "      <td>NaN</td>\n",
       "      <td>NaN</td>\n",
       "    </tr>\n",
       "    <tr>\n",
       "      <th>2416096</th>\n",
       "      <td>NaN</td>\n",
       "      <td>NaN</td>\n",
       "      <td>NaN</td>\n",
       "      <td>NaN</td>\n",
       "      <td>NaN</td>\n",
       "      <td>NaN</td>\n",
       "      <td>NaN</td>\n",
       "      <td>NaN</td>\n",
       "      <td>NaN</td>\n",
       "      <td>NaN</td>\n",
       "      <td>...</td>\n",
       "      <td>NaN</td>\n",
       "      <td>NaN</td>\n",
       "      <td>NaN</td>\n",
       "      <td>NaN</td>\n",
       "      <td>NaN</td>\n",
       "      <td>NaN</td>\n",
       "      <td>NaN</td>\n",
       "      <td>NaN</td>\n",
       "      <td>NaN</td>\n",
       "      <td>NaN</td>\n",
       "    </tr>\n",
       "    <tr>\n",
       "      <th>2416097</th>\n",
       "      <td>NaN</td>\n",
       "      <td>NaN</td>\n",
       "      <td>NaN</td>\n",
       "      <td>NaN</td>\n",
       "      <td>NaN</td>\n",
       "      <td>NaN</td>\n",
       "      <td>NaN</td>\n",
       "      <td>NaN</td>\n",
       "      <td>NaN</td>\n",
       "      <td>NaN</td>\n",
       "      <td>...</td>\n",
       "      <td>NaN</td>\n",
       "      <td>NaN</td>\n",
       "      <td>NaN</td>\n",
       "      <td>NaN</td>\n",
       "      <td>NaN</td>\n",
       "      <td>NaN</td>\n",
       "      <td>NaN</td>\n",
       "      <td>NaN</td>\n",
       "      <td>NaN</td>\n",
       "      <td>NaN</td>\n",
       "    </tr>\n",
       "    <tr>\n",
       "      <th>2416098</th>\n",
       "      <td>NaN</td>\n",
       "      <td>NaN</td>\n",
       "      <td>NaN</td>\n",
       "      <td>NaN</td>\n",
       "      <td>NaN</td>\n",
       "      <td>NaN</td>\n",
       "      <td>NaN</td>\n",
       "      <td>NaN</td>\n",
       "      <td>NaN</td>\n",
       "      <td>NaN</td>\n",
       "      <td>...</td>\n",
       "      <td>NaN</td>\n",
       "      <td>NaN</td>\n",
       "      <td>NaN</td>\n",
       "      <td>NaN</td>\n",
       "      <td>NaN</td>\n",
       "      <td>NaN</td>\n",
       "      <td>NaN</td>\n",
       "      <td>NaN</td>\n",
       "      <td>NaN</td>\n",
       "      <td>NaN</td>\n",
       "    </tr>\n",
       "    <tr>\n",
       "      <th>2416099</th>\n",
       "      <td>NaN</td>\n",
       "      <td>NaN</td>\n",
       "      <td>NaN</td>\n",
       "      <td>NaN</td>\n",
       "      <td>NaN</td>\n",
       "      <td>NaN</td>\n",
       "      <td>NaN</td>\n",
       "      <td>NaN</td>\n",
       "      <td>NaN</td>\n",
       "      <td>NaN</td>\n",
       "      <td>...</td>\n",
       "      <td>NaN</td>\n",
       "      <td>NaN</td>\n",
       "      <td>NaN</td>\n",
       "      <td>NaN</td>\n",
       "      <td>NaN</td>\n",
       "      <td>NaN</td>\n",
       "      <td>NaN</td>\n",
       "      <td>NaN</td>\n",
       "      <td>NaN</td>\n",
       "      <td>NaN</td>\n",
       "    </tr>\n",
       "  </tbody>\n",
       "</table>\n",
       "<p>288602 rows × 84 columns</p>\n",
       "</div>"
      ]
     },
     "execution_count": 7,
     "metadata": {},
     "output_type": "execute_result"
    }
   ],
   "execution_count": 7
  },
  {
   "cell_type": "code",
   "id": "252c1bbc",
   "metadata": {
    "ExecuteTime": {
     "end_time": "2025-01-15T11:22:46.596418Z",
     "start_time": "2025-01-15T11:22:45.643239Z"
    }
   },
   "source": [
    "df = df.drop(df[pd.isnull(df[\"Flow ID\"])].index)\n",
    "df.shape"
   ],
   "outputs": [
    {
     "data": {
      "text/plain": [
       "(2830743, 84)"
      ]
     },
     "execution_count": 8,
     "metadata": {},
     "output_type": "execute_result"
    }
   ],
   "execution_count": 8
  },
  {
   "cell_type": "code",
   "id": "124cc1d7",
   "metadata": {
    "ExecuteTime": {
     "end_time": "2025-01-15T11:22:49.756971Z",
     "start_time": "2025-01-15T11:22:46.687932Z"
    }
   },
   "source": [
    "df.replace([np.inf, -np.inf], np.nan, inplace=True)\n",
    "df.dropna(inplace=True)\n",
    "df.shape"
   ],
   "outputs": [
    {
     "data": {
      "text/plain": [
       "(2827876, 84)"
      ]
     },
     "execution_count": 9,
     "metadata": {},
     "output_type": "execute_result"
    }
   ],
   "execution_count": 9
  },
  {
   "cell_type": "code",
   "id": "6a9dbe46",
   "metadata": {
    "ExecuteTime": {
     "end_time": "2025-01-15T11:23:02.170501Z",
     "start_time": "2025-01-15T11:22:49.779968Z"
    }
   },
   "source": [
    "df.drop_duplicates(inplace=True)\n",
    "df.shape"
   ],
   "outputs": [
    {
     "data": {
      "text/plain": [
       "(2827677, 84)"
      ]
     },
     "execution_count": 10,
     "metadata": {},
     "output_type": "execute_result"
    }
   ],
   "execution_count": 10
  },
  {
   "cell_type": "code",
   "id": "d0c7d60b",
   "metadata": {
    "ExecuteTime": {
     "end_time": "2025-01-15T11:23:02.325412Z",
     "start_time": "2025-01-15T11:23:02.238019Z"
    }
   },
   "source": [
    "df.Label.unique()"
   ],
   "outputs": [
    {
     "data": {
      "text/plain": [
       "array(['BENIGN', 'FTP-Patator', 'SSH-Patator', 'DoS slowloris',\n",
       "       'DoS Slowhttptest', 'DoS Hulk', 'DoS GoldenEye', 'Heartbleed',\n",
       "       'Infiltration', 'Web Attack – Brute Force', 'Web Attack – XSS',\n",
       "       'Web Attack – Sql Injection', 'Bot', 'PortScan', 'DDoS'],\n",
       "      dtype=object)"
      ]
     },
     "execution_count": 11,
     "metadata": {},
     "output_type": "execute_result"
    }
   ],
   "execution_count": 11
  },
  {
   "cell_type": "code",
   "id": "571eb2d5",
   "metadata": {
    "ExecuteTime": {
     "end_time": "2025-01-15T11:23:02.669948Z",
     "start_time": "2025-01-15T11:23:02.406930Z"
    }
   },
   "source": [
    "plt.figure(figsize=(15, 10))\n",
    "\n",
    "attack = (\n",
    "    \"DoS Hulk\",\n",
    "    \"PortScan\",\n",
    "    \"DDoS\",\n",
    "    \"DoS GoldenEye\",\n",
    "    \"FTP-Patator\",\n",
    "    \"SSH-Patator\",\n",
    "    \"DoS Slowloris\",\n",
    "    \"DoS Slowhttptest\",\n",
    "    \"Bot\",\n",
    "    \"Web Attack: Brute Force\",\n",
    "    \"Web Attack: XSS\",\n",
    "    \"Infiltration\",\n",
    "    \"Web Attack: SQL Injection\",\n",
    "    \"Heartbleed\",\n",
    ")\n",
    "y_pos = np.arange(len(attack))\n",
    "amount = df[\"Label\"].value_counts()[1:]\n",
    "plt.barh(y_pos, amount, align=\"center\", color=\"#a3c1ad\")\n",
    "plt.yticks(y_pos, attack, fontsize=16)\n",
    "plt.title(\"Distribution of different types of attacks in the dataset\", fontsize=16)\n",
    "plt.xlabel(\"Number of occurences\", fontsize=18)\n",
    "plt.ylabel(\"Attack types\", fontsize=16)\n",
    "for i, v in enumerate(amount):\n",
    "    plt.text(v + 3, i - 0.1, str(v))\n",
    "\n",
    "plt.show()"
   ],
   "outputs": [
    {
     "data": {
      "text/plain": [
       "<Figure size 1500x1000 with 1 Axes>"
      ],
      "image/png": "[encoded data removed]"
     },
     "metadata": {},
     "output_type": "display_data"
    }
   ],
   "execution_count": 12
  },
  {
   "cell_type": "code",
   "id": "b90178b5",
   "metadata": {
    "ExecuteTime": {
     "end_time": "2025-01-15T11:23:02.747462Z",
     "start_time": "2025-01-15T11:23:02.733465Z"
    }
   },
   "source": [
    "df.shape"
   ],
   "outputs": [
    {
     "data": {
      "text/plain": [
       "(2827677, 84)"
      ]
     },
     "execution_count": 13,
     "metadata": {},
     "output_type": "execute_result"
    }
   ],
   "execution_count": 13
  },
  {
   "cell_type": "code",
   "id": "a86ec520",
   "metadata": {
    "ExecuteTime": {
     "end_time": "2025-01-15T11:24:26.091682Z",
     "start_time": "2025-01-15T11:23:02.816980Z"
    }
   },
   "source": [
    "Path(output_file).parent.mkdir(parents=True, exist_ok=True)\n",
    "df.to_csv(output_file, index=False)"
   ],
   "outputs": [],
   "execution_count": 14
  },
  {
   "cell_type": "code",
   "id": "218af292",
   "metadata": {
    "ExecuteTime": {
     "end_time": "2025-01-15T11:24:40.313118Z",
     "start_time": "2025-01-15T11:24:26.139732Z"
    }
   },
   "source": [
    "df_p = pd.read_csv(output_file)"
   ],
   "outputs": [],
   "execution_count": 15
  },
  {
   "cell_type": "code",
   "id": "89432f78",
   "metadata": {
    "ExecuteTime": {
     "end_time": "2025-01-15T11:24:40.484800Z",
     "start_time": "2025-01-15T11:24:40.361633Z"
    }
   },
   "source": [
    "df_p.Label.value_counts()"
   ],
   "outputs": [
    {
     "data": {
      "text/plain": [
       "BENIGN                        2271122\n",
       "DoS Hulk                       230123\n",
       "PortScan                       158804\n",
       "DDoS                           128025\n",
       "DoS GoldenEye                   10293\n",
       "FTP-Patator                      7935\n",
       "SSH-Patator                      5897\n",
       "DoS slowloris                    5796\n",
       "DoS Slowhttptest                 5499\n",
       "Bot                              1956\n",
       "Web Attack – Brute Force         1507\n",
       "Web Attack – XSS                  652\n",
       "Infiltration                       36\n",
       "Web Attack – Sql Injection         21\n",
       "Heartbleed                         11\n",
       "Name: Label, dtype: int64"
      ]
     },
     "execution_count": 16,
     "metadata": {},
     "output_type": "execute_result"
    }
   ],
   "execution_count": 16
  },
  {
   "cell_type": "code",
   "id": "3917666a",
   "metadata": {
    "ExecuteTime": {
     "end_time": "2025-01-15T11:24:40.594307Z",
     "start_time": "2025-01-15T11:24:40.579308Z"
    }
   },
   "source": [],
   "outputs": [],
   "execution_count": null
  }
 ],
 "metadata": {
  "kernelspec": {
   "display_name": "Python 3 (ipykernel)",
   "language": "python",
   "name": "python3"
  },
  "language_info": {
   "codemirror_mode": {
    "name": "ipython",
    "version": 3
   },
   "file_extension": ".py",
   "mimetype": "text/x-python",
   "name": "python",
   "nbconvert_exporter": "python",
   "pygments_lexer": "ipython3",
   "version": "3.9.13"
  },
  "vscode": {
   "interpreter": {
    "hash": "8872302ade4135be6f44987c58386caa48e80523f2e62f5a2979b5010348a56a"
   }
  }
 },
 "nbformat": 4,
 "nbformat_minor": 5
}
