{
 "cells": [
  {
   "cell_type": "markdown",
   "id": "bc49dd8e",
   "metadata": {},
   "source": [
    "# Pipeline For Computing Complete Payload Data\n",
    "\n",
    "This pipeline is created for the ease of users willing to generate the complete data on their own. There are few things that should be kept in mind before executing this. \n",
    "\n",
    ">1. You should have enough space in your hard drive before executing this notebook. Approximately you should have atleast 400GB of space for storing and saving results of PCAP files.\n",
    ">2. This notebook is compatible with python version 3.7.13. \n",
    ">3. Developed parser is based on Scapy module. Make sure it is installed. \n",
    ">4. Code processing might requrie high RAM space, therefore if you are on low resources try other method. \n"
   ]
  },
  {
   "cell_type": "code",
   "id": "4f76711f",
   "metadata": {
    "ExecuteTime": {
     "end_time": "2025-05-08T21:13:29.001854Z",
     "start_time": "2025-05-08T21:13:28.076412Z"
    }
   },
   "source": [
    "from imblearn.under_sampling import RandomUnderSampler\n",
    "from Functions.Pipeline import pipeline\n",
    "import pandas as pd\n",
    "import numpy as np\n",
    "from sklearn.preprocessing import LabelEncoder\n",
    "from Functions.Optimized_Parser_Labelling import pcap_parser"
   ],
   "outputs": [
    {
     "name": "stderr",
     "output_type": "stream",
     "text": [
      "WARNING: No libpcap provider available ! pcap won't be used\n"
     ]
    }
   ],
   "execution_count": 1
  },
  {
   "cell_type": "markdown",
   "id": "5213dc11",
   "metadata": {},
   "source": [
    "#### There are three inputs for the pipeline:\n",
    "\n",
    ">1. In_directory (in_dir) = The directory where PCAP files are stored. For UNSW there are two folders wheras for CICIDS there are five individual files.\n",
    ">2. Out_directory (out_dir) = The directory where you want the outcome of the tool to be stored.\n",
    ">3. Dataset Name= `UNSW` or `CICIDS`.\n",
    ">4. Processed CSV File = The directory for combined and processed CSV file. For processing the CSV files navigate to `CSV_data_preprocessing` folder. MUST BE RUN BEFORE PIPELINE."
   ]
  },
  {
   "cell_type": "code",
   "id": "f375feca",
   "metadata": {
    "ExecuteTime": {
     "end_time": "2025-05-08T21:13:29.189236Z",
     "start_time": "2025-05-08T21:13:29.174213Z"
    }
   },
   "source": [
    "in_dir = \"./UNSW_pcap_files/\"\n",
    "out_dir = \"./UNSW_results/\"\n",
    "Dataset_name = \"UNSW\"\n",
    "processed_csv_file = \"./UNSW-NB15_preprocessed.csv\""
   ],
   "outputs": [],
   "execution_count": 2
  },
  {
   "cell_type": "code",
   "id": "0c0a1d55",
   "metadata": {
    "ExecuteTime": {
     "end_time": "2025-05-08T17:03:03.788875Z",
     "start_time": "2025-05-08T11:34:50.143152Z"
    }
   },
   "source": [
    "df = pipeline(in_dir, out_dir, Dataset_name, processed_csv_file)\n",
    "# df = pipeline(in_dir, out_dir, Dataset_name, processed_csv_file, just_label=True)"
   ],
   "outputs": [
    {
     "name": "stderr",
     "output_type": "stream",
     "text": [
      "2025-05-08 05:34:50,145 - INFO -Checking directory for files ......\n",
      "2025-05-08 05:34:50,147 - INFO -Files found. Initiating PCAP Parsing.......\n"
     ]
    },
    {
     "name": "stdout",
     "output_type": "stream",
     "text": [
      "[INFO] Found 21 PCAP files in ./UNSW_pcap_files//pcap 22-1-2015/\n"
     ]
    },
    {
     "name": "stderr",
     "output_type": "stream",
     "text": [
      "2025-05-08 05:34:50,149 - INFO -Parsing 22-1-2015 Files .........\n",
      "2025-05-08 05:34:50,151 - INFO -Reading input file:  ./UNSW_pcap_files//pcap 22-1-2015\\1.pcap\n",
      "2025-05-08 05:35:15,896 - INFO -Done with 100000 Packets\n",
      "2025-05-08 05:35:41,249 - INFO -Done with 200000 Packets\n",
      "2025-05-08 05:36:06,537 - INFO -Done with 300000 Packets\n",
      "2025-05-08 05:36:32,055 - INFO -Done with 400000 Packets\n",
      "2025-05-08 05:36:57,592 - INFO -Done with 500000 Packets\n",
      "2025-05-08 05:37:22,971 - INFO -Done with 600000 Packets\n",
      "2025-05-08 05:37:49,670 - INFO -Done with 700000 Packets\n",
      "2025-05-08 05:38:15,745 - INFO -Done with 800000 Packets\n",
      "2025-05-08 05:38:41,931 - INFO -Done with 900000 Packets\n",
      "2025-05-08 05:39:06,885 - INFO -Done with 1000000 Packets\n",
      "2025-05-08 05:39:31,566 - INFO -Done with 1100000 Packets\n",
      "2025-05-08 05:39:56,438 - INFO -Done with 1200000 Packets\n",
      "2025-05-08 05:40:21,049 - INFO -Done with 1300000 Packets\n",
      "2025-05-08 05:40:45,540 - INFO -Done with 1400000 Packets\n",
      "WARNING: DNS decompression loop detected\n",
      "WARNING: DNS decompression loop detected\n",
      "2025-05-08 05:41:10,448 - INFO -Done with 1500000 Packets\n",
      "WARNING: DNS decompression loop detected\n",
      "WARNING: DNS decompression loop detected\n",
      "2025-05-08 05:41:34,846 - INFO -Done with 1600000 Packets\n",
      "2025-05-08 05:41:59,305 - INFO -Done with 1700000 Packets\n",
      "2025-05-08 05:42:23,730 - INFO -Done with 1800000 Packets\n"
     ]
    },
    {
     "name": "stdout",
     "output_type": "stream",
     "text": [
      "\n"
     ]
    },
    {
     "name": "stderr",
     "output_type": "stream",
     "text": [
      "C:\\Users\\steph\\PycharmProjects\\payloadbyte\\Functions\\Optimized_Parser_Labelling.py:163: SettingWithCopyWarning: \n",
      "A value is trying to be set on a copy of a slice from a DataFrame\n",
      "\n",
      "See the caveats in the documentation: https://pandas.pydata.org/pandas-docs/stable/user_guide/indexing.html#returning-a-view-versus-a-copy\n",
      "  out.t_delta[0]=0\n",
      "2025-05-08 05:42:32,028 - INFO -Exporting CSV File#1\n",
      "2025-05-08 05:42:57,725 - INFO -Reading input file:  ./UNSW_pcap_files//pcap 22-1-2015\\10.pcap\n",
      "2025-05-08 05:43:22,789 - INFO -Done with 100000 Packets\n",
      "2025-05-08 05:43:47,343 - INFO -Done with 200000 Packets\n",
      "2025-05-08 05:44:11,765 - INFO -Done with 300000 Packets\n",
      "2025-05-08 05:44:36,004 - INFO -Done with 400000 Packets\n",
      "2025-05-08 05:45:00,315 - INFO -Done with 500000 Packets\n",
      "2025-05-08 05:45:25,041 - INFO -Done with 600000 Packets\n",
      "2025-05-08 05:45:49,404 - INFO -Done with 700000 Packets\n",
      "2025-05-08 05:46:13,916 - INFO -Done with 800000 Packets\n",
      "2025-05-08 05:46:38,567 - INFO -Done with 900000 Packets\n",
      "2025-05-08 05:47:02,894 - INFO -Done with 1000000 Packets\n",
      "2025-05-08 05:47:27,167 - INFO -Done with 1100000 Packets\n",
      "2025-05-08 05:47:51,733 - INFO -Done with 1200000 Packets\n",
      "2025-05-08 05:48:15,863 - INFO -Done with 1300000 Packets\n",
      "2025-05-08 05:48:40,004 - INFO -Done with 1400000 Packets\n",
      "2025-05-08 05:49:04,858 - INFO -Done with 1500000 Packets\n",
      "2025-05-08 05:49:29,031 - INFO -Done with 1600000 Packets\n",
      "2025-05-08 05:49:53,199 - INFO -Done with 1700000 Packets\n",
      "2025-05-08 05:50:17,928 - INFO -Done with 1800000 Packets\n"
     ]
    },
    {
     "name": "stdout",
     "output_type": "stream",
     "text": [
      "\n"
     ]
    },
    {
     "name": "stderr",
     "output_type": "stream",
     "text": [
      "2025-05-08 05:50:45,933 - INFO -Exporting CSV File#2\n",
      "2025-05-08 05:51:11,547 - INFO -Reading input file:  ./UNSW_pcap_files//pcap 22-1-2015\\11.pcap\n",
      "2025-05-08 05:51:36,093 - INFO -Done with 100000 Packets\n",
      "2025-05-08 05:52:00,336 - INFO -Done with 200000 Packets\n",
      "2025-05-08 05:52:24,796 - INFO -Done with 300000 Packets\n",
      "2025-05-08 05:52:49,255 - INFO -Done with 400000 Packets\n",
      "2025-05-08 05:53:13,784 - INFO -Done with 500000 Packets\n",
      "2025-05-08 05:53:37,900 - INFO -Done with 600000 Packets\n",
      "2025-05-08 05:54:02,539 - INFO -Done with 700000 Packets\n",
      "2025-05-08 05:54:27,230 - INFO -Done with 800000 Packets\n",
      "2025-05-08 05:54:51,529 - INFO -Done with 900000 Packets\n",
      "2025-05-08 05:55:15,884 - INFO -Done with 1000000 Packets\n",
      "2025-05-08 05:55:40,605 - INFO -Done with 1100000 Packets\n",
      "2025-05-08 05:56:04,869 - INFO -Done with 1200000 Packets\n",
      "2025-05-08 05:56:29,550 - INFO -Done with 1300000 Packets\n",
      "2025-05-08 05:56:53,847 - INFO -Done with 1400000 Packets\n",
      "2025-05-08 05:57:18,158 - INFO -Done with 1500000 Packets\n",
      "2025-05-08 05:57:43,099 - INFO -Done with 1600000 Packets\n",
      "2025-05-08 05:58:07,171 - INFO -Done with 1700000 Packets\n"
     ]
    },
    {
     "name": "stdout",
     "output_type": "stream",
     "text": [
      "\n"
     ]
    },
    {
     "name": "stderr",
     "output_type": "stream",
     "text": [
      "2025-05-08 05:58:26,266 - INFO -Exporting CSV File#3\n",
      "2025-05-08 05:58:51,713 - INFO -Reading input file:  ./UNSW_pcap_files//pcap 22-1-2015\\12.pcap\n",
      "2025-05-08 05:59:16,198 - INFO -Done with 100000 Packets\n",
      "2025-05-08 05:59:40,172 - INFO -Done with 200000 Packets\n",
      "2025-05-08 06:00:04,509 - INFO -Done with 300000 Packets\n",
      "2025-05-08 06:00:28,736 - INFO -Done with 400000 Packets\n",
      "2025-05-08 06:00:53,131 - INFO -Done with 500000 Packets\n",
      "2025-05-08 06:01:17,258 - INFO -Done with 600000 Packets\n",
      "2025-05-08 06:01:41,746 - INFO -Done with 700000 Packets\n",
      "2025-05-08 06:02:06,269 - INFO -Done with 800000 Packets\n",
      "2025-05-08 06:02:30,434 - INFO -Done with 900000 Packets\n",
      "2025-05-08 06:02:55,105 - INFO -Done with 1000000 Packets\n",
      "2025-05-08 06:03:19,277 - INFO -Done with 1100000 Packets\n",
      "2025-05-08 06:03:43,507 - INFO -Done with 1200000 Packets\n",
      "2025-05-08 06:04:08,223 - INFO -Done with 1300000 Packets\n",
      "2025-05-08 06:04:32,445 - INFO -Done with 1400000 Packets\n",
      "2025-05-08 06:04:56,783 - INFO -Done with 1500000 Packets\n",
      "2025-05-08 06:05:21,682 - INFO -Done with 1600000 Packets\n",
      "2025-05-08 06:05:46,010 - INFO -Done with 1700000 Packets\n",
      "2025-05-08 06:06:10,435 - INFO -Done with 1800000 Packets\n"
     ]
    },
    {
     "name": "stdout",
     "output_type": "stream",
     "text": [
      "\n"
     ]
    },
    {
     "name": "stderr",
     "output_type": "stream",
     "text": [
      "2025-05-08 06:06:31,439 - INFO -Exporting CSV File#4\n",
      "2025-05-08 06:06:57,159 - INFO -Reading input file:  ./UNSW_pcap_files//pcap 22-1-2015\\13.pcap\n",
      "2025-05-08 06:07:22,590 - INFO -Done with 100000 Packets\n",
      "2025-05-08 06:07:47,807 - INFO -Done with 200000 Packets\n",
      "2025-05-08 06:08:13,048 - INFO -Done with 300000 Packets\n",
      "2025-05-08 06:08:38,283 - INFO -Done with 400000 Packets\n",
      "2025-05-08 06:09:03,632 - INFO -Done with 500000 Packets\n",
      "2025-05-08 06:09:28,938 - INFO -Done with 600000 Packets\n",
      "2025-05-08 06:09:54,052 - INFO -Done with 700000 Packets\n",
      "2025-05-08 06:10:19,384 - INFO -Done with 800000 Packets\n",
      "2025-05-08 06:10:44,409 - INFO -Done with 900000 Packets\n",
      "2025-05-08 06:11:09,664 - INFO -Done with 1000000 Packets\n",
      "2025-05-08 06:11:34,834 - INFO -Done with 1100000 Packets\n",
      "2025-05-08 06:12:00,296 - INFO -Done with 1200000 Packets\n",
      "2025-05-08 06:12:25,322 - INFO -Done with 1300000 Packets\n",
      "2025-05-08 06:12:50,392 - INFO -Done with 1400000 Packets\n",
      "2025-05-08 06:13:16,071 - INFO -Done with 1500000 Packets\n",
      "2025-05-08 06:13:41,306 - INFO -Done with 1600000 Packets\n",
      "2025-05-08 06:14:06,416 - INFO -Done with 1700000 Packets\n"
     ]
    },
    {
     "name": "stdout",
     "output_type": "stream",
     "text": [
      "\n"
     ]
    },
    {
     "name": "stderr",
     "output_type": "stream",
     "text": [
      "2025-05-08 06:14:26,041 - INFO -Exporting CSV File#5\n",
      "2025-05-08 06:14:51,692 - INFO -Reading input file:  ./UNSW_pcap_files//pcap 22-1-2015\\14.pcap\n",
      "2025-05-08 06:15:16,970 - INFO -Done with 100000 Packets\n",
      "2025-05-08 06:15:42,037 - INFO -Done with 200000 Packets\n",
      "2025-05-08 06:16:07,238 - INFO -Done with 300000 Packets\n",
      "2025-05-08 06:16:32,202 - INFO -Done with 400000 Packets\n",
      "2025-05-08 06:16:57,281 - INFO -Done with 500000 Packets\n",
      "2025-05-08 06:17:22,533 - INFO -Done with 600000 Packets\n",
      "2025-05-08 06:17:47,857 - INFO -Done with 700000 Packets\n",
      "2025-05-08 06:18:12,852 - INFO -Done with 800000 Packets\n",
      "2025-05-08 06:18:38,301 - INFO -Done with 900000 Packets\n",
      "2025-05-08 06:19:03,414 - INFO -Done with 1000000 Packets\n",
      "2025-05-08 06:19:28,417 - INFO -Done with 1100000 Packets\n",
      "2025-05-08 06:19:53,979 - INFO -Done with 1200000 Packets\n",
      "2025-05-08 06:20:19,120 - INFO -Done with 1300000 Packets\n",
      "2025-05-08 06:20:44,692 - INFO -Done with 1400000 Packets\n",
      "2025-05-08 06:21:09,738 - INFO -Done with 1500000 Packets\n",
      "2025-05-08 06:21:34,797 - INFO -Done with 1600000 Packets\n",
      "2025-05-08 06:21:59,801 - INFO -Done with 1700000 Packets\n"
     ]
    },
    {
     "name": "stdout",
     "output_type": "stream",
     "text": [
      "\n"
     ]
    },
    {
     "name": "stderr",
     "output_type": "stream",
     "text": [
      "2025-05-08 06:22:26,838 - INFO -Exporting CSV File#6\n",
      "2025-05-08 06:22:52,211 - INFO -Reading input file:  ./UNSW_pcap_files//pcap 22-1-2015\\15.pcap\n",
      "2025-05-08 06:23:16,671 - INFO -Done with 100000 Packets\n",
      "2025-05-08 06:23:40,803 - INFO -Done with 200000 Packets\n",
      "2025-05-08 06:24:04,925 - INFO -Done with 300000 Packets\n",
      "2025-05-08 06:24:29,356 - INFO -Done with 400000 Packets\n",
      "2025-05-08 06:24:53,817 - INFO -Done with 500000 Packets\n",
      "2025-05-08 06:25:18,197 - INFO -Done with 600000 Packets\n",
      "2025-05-08 06:25:42,398 - INFO -Done with 700000 Packets\n",
      "2025-05-08 06:26:06,823 - INFO -Done with 800000 Packets\n",
      "2025-05-08 06:26:30,954 - INFO -Done with 900000 Packets\n",
      "2025-05-08 06:26:55,623 - INFO -Done with 1000000 Packets\n",
      "2025-05-08 06:27:19,988 - INFO -Done with 1100000 Packets\n",
      "2025-05-08 06:27:44,189 - INFO -Done with 1200000 Packets\n",
      "2025-05-08 06:28:08,922 - INFO -Done with 1300000 Packets\n",
      "2025-05-08 06:28:33,102 - INFO -Done with 1400000 Packets\n",
      "2025-05-08 06:28:57,311 - INFO -Done with 1500000 Packets\n",
      "2025-05-08 06:29:22,190 - INFO -Done with 1600000 Packets\n",
      "2025-05-08 06:29:46,482 - INFO -Done with 1700000 Packets\n",
      "2025-05-08 06:30:10,726 - INFO -Done with 1800000 Packets\n"
     ]
    },
    {
     "name": "stdout",
     "output_type": "stream",
     "text": [
      "\n"
     ]
    },
    {
     "name": "stderr",
     "output_type": "stream",
     "text": [
      "2025-05-08 06:30:35,386 - INFO -Exporting CSV File#7\n",
      "2025-05-08 06:31:01,141 - INFO -Reading input file:  ./UNSW_pcap_files//pcap 22-1-2015\\16.pcap\n",
      "2025-05-08 06:31:26,357 - INFO -Done with 100000 Packets\n",
      "2025-05-08 06:31:51,217 - INFO -Done with 200000 Packets\n",
      "2025-05-08 06:32:16,383 - INFO -Done with 300000 Packets\n",
      "2025-05-08 06:32:41,404 - INFO -Done with 400000 Packets\n",
      "2025-05-08 06:33:06,454 - INFO -Done with 500000 Packets\n",
      "2025-05-08 06:33:31,592 - INFO -Done with 600000 Packets\n",
      "2025-05-08 06:33:56,937 - INFO -Done with 700000 Packets\n",
      "2025-05-08 06:34:22,024 - INFO -Done with 800000 Packets\n",
      "2025-05-08 06:34:47,385 - INFO -Done with 900000 Packets\n",
      "2025-05-08 06:35:12,309 - INFO -Done with 1000000 Packets\n",
      "2025-05-08 06:35:37,287 - INFO -Done with 1100000 Packets\n",
      "2025-05-08 06:36:02,737 - INFO -Done with 1200000 Packets\n",
      "2025-05-08 06:36:27,736 - INFO -Done with 1300000 Packets\n",
      "2025-05-08 06:36:53,411 - INFO -Done with 1400000 Packets\n",
      "2025-05-08 06:37:18,486 - INFO -Done with 1500000 Packets\n",
      "2025-05-08 06:37:43,614 - INFO -Done with 1600000 Packets\n",
      "2025-05-08 06:38:08,590 - INFO -Done with 1700000 Packets\n",
      "2025-05-08 06:38:34,337 - INFO -Done with 1800000 Packets\n"
     ]
    },
    {
     "name": "stdout",
     "output_type": "stream",
     "text": [
      "\n"
     ]
    },
    {
     "name": "stderr",
     "output_type": "stream",
     "text": [
      "2025-05-08 06:39:02,729 - INFO -Exporting CSV File#8\n",
      "2025-05-08 06:39:28,348 - INFO -Reading input file:  ./UNSW_pcap_files//pcap 22-1-2015\\17.pcap\n",
      "2025-05-08 06:39:53,569 - INFO -Done with 100000 Packets\n",
      "2025-05-08 06:40:18,491 - INFO -Done with 200000 Packets\n",
      "2025-05-08 06:40:43,547 - INFO -Done with 300000 Packets\n",
      "2025-05-08 06:41:08,732 - INFO -Done with 400000 Packets\n",
      "2025-05-08 06:41:34,005 - INFO -Done with 500000 Packets\n",
      "2025-05-08 06:41:59,114 - INFO -Done with 600000 Packets\n",
      "2025-05-08 06:42:24,251 - INFO -Done with 700000 Packets\n",
      "2025-05-08 06:42:49,631 - INFO -Done with 800000 Packets\n",
      "2025-05-08 06:43:14,573 - INFO -Done with 900000 Packets\n",
      "2025-05-08 06:43:40,057 - INFO -Done with 1000000 Packets\n",
      "2025-05-08 06:44:05,046 - INFO -Done with 1100000 Packets\n",
      "2025-05-08 06:44:30,058 - INFO -Done with 1200000 Packets\n",
      "2025-05-08 06:44:55,497 - INFO -Done with 1300000 Packets\n",
      "2025-05-08 06:45:20,435 - INFO -Done with 1400000 Packets\n",
      "2025-05-08 06:45:45,480 - INFO -Done with 1500000 Packets\n",
      "2025-05-08 06:46:11,122 - INFO -Done with 1600000 Packets\n",
      "2025-05-08 06:46:36,276 - INFO -Done with 1700000 Packets\n",
      "2025-05-08 06:47:01,277 - INFO -Done with 1800000 Packets\n"
     ]
    },
    {
     "name": "stdout",
     "output_type": "stream",
     "text": [
      "\n"
     ]
    },
    {
     "name": "stderr",
     "output_type": "stream",
     "text": [
      "2025-05-08 06:47:20,488 - INFO -Exporting CSV File#9\n",
      "2025-05-08 06:47:46,170 - INFO -Reading input file:  ./UNSW_pcap_files//pcap 22-1-2015\\18.pcap\n",
      "2025-05-08 06:48:11,386 - INFO -Done with 100000 Packets\n",
      "2025-05-08 06:48:36,517 - INFO -Done with 200000 Packets\n",
      "2025-05-08 06:49:01,640 - INFO -Done with 300000 Packets\n",
      "2025-05-08 06:49:26,894 - INFO -Done with 400000 Packets\n",
      "2025-05-08 06:49:52,176 - INFO -Done with 500000 Packets\n",
      "2025-05-08 06:50:17,404 - INFO -Done with 600000 Packets\n",
      "2025-05-08 06:50:42,280 - INFO -Done with 700000 Packets\n",
      "2025-05-08 06:51:07,546 - INFO -Done with 800000 Packets\n",
      "2025-05-08 06:51:32,469 - INFO -Done with 900000 Packets\n",
      "2025-05-08 06:51:57,799 - INFO -Done with 1000000 Packets\n",
      "2025-05-08 06:52:22,853 - INFO -Done with 1100000 Packets\n",
      "2025-05-08 06:52:48,611 - INFO -Done with 1200000 Packets\n",
      "2025-05-08 06:53:15,281 - INFO -Done with 1300000 Packets\n",
      "2025-05-08 06:53:42,873 - INFO -Done with 1400000 Packets\n",
      "2025-05-08 06:54:11,316 - INFO -Done with 1500000 Packets\n",
      "2025-05-08 06:54:37,181 - INFO -Done with 1600000 Packets\n",
      "2025-05-08 06:55:02,638 - INFO -Done with 1700000 Packets\n"
     ]
    },
    {
     "name": "stdout",
     "output_type": "stream",
     "text": [
      "\n"
     ]
    },
    {
     "name": "stderr",
     "output_type": "stream",
     "text": [
      "2025-05-08 06:55:32,940 - INFO -Exporting CSV File#10\n",
      "2025-05-08 06:55:58,951 - INFO -Reading input file:  ./UNSW_pcap_files//pcap 22-1-2015\\19.pcap\n",
      "2025-05-08 06:56:24,364 - INFO -Done with 100000 Packets\n",
      "2025-05-08 06:56:49,504 - INFO -Done with 200000 Packets\n",
      "2025-05-08 06:57:14,707 - INFO -Done with 300000 Packets\n",
      "2025-05-08 06:57:39,968 - INFO -Done with 400000 Packets\n",
      "2025-05-08 06:58:05,305 - INFO -Done with 500000 Packets\n",
      "2025-05-08 06:58:30,783 - INFO -Done with 600000 Packets\n",
      "2025-05-08 06:58:56,177 - INFO -Done with 700000 Packets\n",
      "2025-05-08 06:59:21,300 - INFO -Done with 800000 Packets\n",
      "2025-05-08 06:59:46,692 - INFO -Done with 900000 Packets\n",
      "2025-05-08 07:00:11,811 - INFO -Done with 1000000 Packets\n",
      "2025-05-08 07:00:37,325 - INFO -Done with 1100000 Packets\n",
      "2025-05-08 07:01:02,348 - INFO -Done with 1200000 Packets\n",
      "2025-05-08 07:01:27,505 - INFO -Done with 1300000 Packets\n",
      "2025-05-08 07:01:53,134 - INFO -Done with 1400000 Packets\n",
      "2025-05-08 07:02:18,284 - INFO -Done with 1500000 Packets\n",
      "2025-05-08 07:02:43,312 - INFO -Done with 1600000 Packets\n",
      "2025-05-08 07:03:09,109 - INFO -Done with 1700000 Packets\n"
     ]
    },
    {
     "name": "stdout",
     "output_type": "stream",
     "text": [
      "\n"
     ]
    },
    {
     "name": "stderr",
     "output_type": "stream",
     "text": [
      "2025-05-08 07:03:26,526 - INFO -Exporting CSV File#11\n",
      "2025-05-08 07:03:51,930 - INFO -Reading input file:  ./UNSW_pcap_files//pcap 22-1-2015\\2.pcap\n",
      "2025-05-08 07:04:16,420 - INFO -Done with 100000 Packets\n",
      "2025-05-08 07:04:40,725 - INFO -Done with 200000 Packets\n",
      "2025-05-08 07:05:05,377 - INFO -Done with 300000 Packets\n",
      "2025-05-08 07:05:30,048 - INFO -Done with 400000 Packets\n",
      "2025-05-08 07:05:54,831 - INFO -Done with 500000 Packets\n",
      "2025-05-08 07:06:19,745 - INFO -Done with 600000 Packets\n",
      "2025-05-08 07:06:44,120 - INFO -Done with 700000 Packets\n",
      "2025-05-08 07:07:08,594 - INFO -Done with 800000 Packets\n",
      "2025-05-08 07:07:32,936 - INFO -Done with 900000 Packets\n",
      "2025-05-08 07:07:57,687 - INFO -Done with 1000000 Packets\n",
      "2025-05-08 07:08:22,049 - INFO -Done with 1100000 Packets\n",
      "2025-05-08 07:08:47,094 - INFO -Done with 1200000 Packets\n",
      "2025-05-08 07:09:11,407 - INFO -Done with 1300000 Packets\n",
      "2025-05-08 07:09:35,691 - INFO -Done with 1400000 Packets\n",
      "2025-05-08 07:10:00,636 - INFO -Done with 1500000 Packets\n",
      "2025-05-08 07:10:25,013 - INFO -Done with 1600000 Packets\n"
     ]
    },
    {
     "name": "stdout",
     "output_type": "stream",
     "text": [
      "\n"
     ]
    },
    {
     "name": "stderr",
     "output_type": "stream",
     "text": [
      "2025-05-08 07:10:36,821 - INFO -Exporting CSV File#12\n",
      "2025-05-08 07:11:02,197 - INFO -Reading input file:  ./UNSW_pcap_files//pcap 22-1-2015\\20.pcap\n",
      "2025-05-08 07:11:27,372 - INFO -Done with 100000 Packets\n",
      "2025-05-08 07:11:52,482 - INFO -Done with 200000 Packets\n",
      "2025-05-08 07:12:17,435 - INFO -Done with 300000 Packets\n",
      "2025-05-08 07:12:42,649 - INFO -Done with 400000 Packets\n",
      "2025-05-08 07:13:07,827 - INFO -Done with 500000 Packets\n",
      "2025-05-08 07:13:33,186 - INFO -Done with 600000 Packets\n",
      "2025-05-08 07:13:58,196 - INFO -Done with 700000 Packets\n",
      "2025-05-08 07:14:23,508 - INFO -Done with 800000 Packets\n",
      "2025-05-08 07:14:48,514 - INFO -Done with 900000 Packets\n",
      "2025-05-08 07:15:13,880 - INFO -Done with 1000000 Packets\n",
      "2025-05-08 07:15:38,812 - INFO -Done with 1100000 Packets\n",
      "2025-05-08 07:16:04,218 - INFO -Done with 1200000 Packets\n",
      "2025-05-08 07:16:28,976 - INFO -Done with 1300000 Packets\n",
      "2025-05-08 07:16:53,955 - INFO -Done with 1400000 Packets\n",
      "2025-05-08 07:17:19,535 - INFO -Done with 1500000 Packets\n",
      "2025-05-08 07:17:44,550 - INFO -Done with 1600000 Packets\n",
      "2025-05-08 07:18:09,558 - INFO -Done with 1700000 Packets\n",
      "2025-05-08 07:18:34,641 - INFO -Done with 1800000 Packets\n"
     ]
    },
    {
     "name": "stdout",
     "output_type": "stream",
     "text": [
      "\n"
     ]
    },
    {
     "name": "stderr",
     "output_type": "stream",
     "text": [
      "2025-05-08 07:18:54,741 - INFO -Exporting CSV File#13\n",
      "2025-05-08 07:19:20,671 - INFO -Reading input file:  ./UNSW_pcap_files//pcap 22-1-2015\\21.pcap\n",
      "2025-05-08 07:19:45,929 - INFO -Done with 100000 Packets\n",
      "2025-05-08 07:20:10,769 - INFO -Done with 200000 Packets\n",
      "2025-05-08 07:20:35,673 - INFO -Done with 300000 Packets\n",
      "2025-05-08 07:21:00,771 - INFO -Done with 400000 Packets\n",
      "2025-05-08 07:21:26,039 - INFO -Done with 500000 Packets\n",
      "2025-05-08 07:21:51,191 - INFO -Done with 600000 Packets\n",
      "2025-05-08 07:22:16,667 - INFO -Done with 700000 Packets\n",
      "2025-05-08 07:22:42,103 - INFO -Done with 800000 Packets\n",
      "2025-05-08 07:23:07,249 - INFO -Done with 900000 Packets\n",
      "2025-05-08 07:23:32,298 - INFO -Done with 1000000 Packets\n",
      "2025-05-08 07:23:57,692 - INFO -Done with 1100000 Packets\n",
      "2025-05-08 07:24:22,783 - INFO -Done with 1200000 Packets\n",
      "2025-05-08 07:24:48,190 - INFO -Done with 1300000 Packets\n",
      "2025-05-08 07:25:13,201 - INFO -Done with 1400000 Packets\n",
      "2025-05-08 07:25:38,138 - INFO -Done with 1500000 Packets\n",
      "2025-05-08 07:26:03,869 - INFO -Done with 1600000 Packets\n",
      "2025-05-08 07:26:28,806 - INFO -Done with 1700000 Packets\n"
     ]
    },
    {
     "name": "stdout",
     "output_type": "stream",
     "text": [
      "\n"
     ]
    },
    {
     "name": "stderr",
     "output_type": "stream",
     "text": [
      "2025-05-08 07:26:51,191 - INFO -Exporting CSV File#14\n",
      "2025-05-08 07:27:16,786 - INFO -Reading input file:  ./UNSW_pcap_files//pcap 22-1-2015\\22.pcap\n",
      "2025-05-08 07:27:41,997 - INFO -Done with 100000 Packets\n",
      "2025-05-08 07:28:06,851 - INFO -Done with 200000 Packets\n",
      "2025-05-08 07:28:31,816 - INFO -Done with 300000 Packets\n",
      "2025-05-08 07:28:56,891 - INFO -Done with 400000 Packets\n",
      "2025-05-08 07:29:22,069 - INFO -Done with 500000 Packets\n",
      "2025-05-08 07:29:47,560 - INFO -Done with 600000 Packets\n",
      "2025-05-08 07:30:12,627 - INFO -Done with 700000 Packets\n",
      "2025-05-08 07:30:38,080 - INFO -Done with 800000 Packets\n",
      "2025-05-08 07:31:03,245 - INFO -Done with 900000 Packets\n",
      "2025-05-08 07:31:28,627 - INFO -Done with 1000000 Packets\n",
      "2025-05-08 07:31:53,596 - INFO -Done with 1100000 Packets\n",
      "2025-05-08 07:32:18,450 - INFO -Done with 1200000 Packets\n",
      "2025-05-08 07:32:43,991 - INFO -Done with 1300000 Packets\n",
      "2025-05-08 07:33:08,962 - INFO -Done with 1400000 Packets\n",
      "2025-05-08 07:33:33,896 - INFO -Done with 1500000 Packets\n",
      "2025-05-08 07:33:59,471 - INFO -Done with 1600000 Packets\n",
      "2025-05-08 07:34:24,653 - INFO -Done with 1700000 Packets\n"
     ]
    },
    {
     "name": "stdout",
     "output_type": "stream",
     "text": [
      "\n"
     ]
    },
    {
     "name": "stderr",
     "output_type": "stream",
     "text": [
      "2025-05-08 07:34:51,230 - INFO -Exporting CSV File#15\n",
      "2025-05-08 07:35:16,885 - INFO -Reading input file:  ./UNSW_pcap_files//pcap 22-1-2015\\23.pcap\n",
      "2025-05-08 07:35:42,174 - INFO -Done with 100000 Packets\n",
      "2025-05-08 07:36:07,049 - INFO -Done with 200000 Packets\n",
      "2025-05-08 07:36:32,173 - INFO -Done with 300000 Packets\n",
      "2025-05-08 07:36:57,252 - INFO -Done with 400000 Packets\n",
      "2025-05-08 07:37:22,459 - INFO -Done with 500000 Packets\n",
      "2025-05-08 07:37:47,589 - INFO -Done with 600000 Packets\n",
      "2025-05-08 07:38:12,952 - INFO -Done with 700000 Packets\n",
      "2025-05-08 07:38:38,408 - INFO -Done with 800000 Packets\n",
      "2025-05-08 07:39:03,584 - INFO -Done with 900000 Packets\n",
      "2025-05-08 07:39:29,045 - INFO -Done with 1000000 Packets\n",
      "2025-05-08 07:39:53,999 - INFO -Done with 1100000 Packets\n",
      "2025-05-08 07:40:19,021 - INFO -Done with 1200000 Packets\n",
      "2025-05-08 07:40:44,527 - INFO -Done with 1300000 Packets\n",
      "2025-05-08 07:41:09,485 - INFO -Done with 1400000 Packets\n",
      "2025-05-08 07:41:34,349 - INFO -Done with 1500000 Packets\n",
      "2025-05-08 07:41:59,950 - INFO -Done with 1600000 Packets\n",
      "2025-05-08 07:42:25,000 - INFO -Done with 1700000 Packets\n"
     ]
    },
    {
     "name": "stdout",
     "output_type": "stream",
     "text": [
      "\n"
     ]
    },
    {
     "name": "stderr",
     "output_type": "stream",
     "text": [
      "2025-05-08 07:42:52,966 - INFO -Exporting CSV File#16\n",
      "2025-05-08 07:43:18,729 - INFO -Reading input file:  ./UNSW_pcap_files//pcap 22-1-2015\\24.pcap\n",
      "2025-05-08 07:43:43,957 - INFO -Done with 100000 Packets\n",
      "2025-05-08 07:44:08,919 - INFO -Done with 200000 Packets\n",
      "2025-05-08 07:44:33,930 - INFO -Done with 300000 Packets\n",
      "2025-05-08 07:44:59,047 - INFO -Done with 400000 Packets\n",
      "2025-05-08 07:45:24,155 - INFO -Done with 500000 Packets\n",
      "2025-05-08 07:45:49,260 - INFO -Done with 600000 Packets\n",
      "2025-05-08 07:46:14,286 - INFO -Done with 700000 Packets\n",
      "2025-05-08 07:46:39,429 - INFO -Done with 800000 Packets\n",
      "2025-05-08 07:47:04,957 - INFO -Done with 900000 Packets\n",
      "2025-05-08 07:47:29,892 - INFO -Done with 1000000 Packets\n",
      "2025-05-08 07:47:54,912 - INFO -Done with 1100000 Packets\n",
      "2025-05-08 07:48:20,206 - INFO -Done with 1200000 Packets\n",
      "2025-05-08 07:48:45,204 - INFO -Done with 1300000 Packets\n",
      "2025-05-08 07:49:10,128 - INFO -Done with 1400000 Packets\n",
      "2025-05-08 07:49:35,547 - INFO -Done with 1500000 Packets\n",
      "2025-05-08 07:50:00,459 - INFO -Done with 1600000 Packets\n",
      "2025-05-08 07:50:25,405 - INFO -Done with 1700000 Packets\n",
      "2025-05-08 07:50:51,082 - INFO -Done with 1800000 Packets\n"
     ]
    },
    {
     "name": "stdout",
     "output_type": "stream",
     "text": [
      "\n"
     ]
    },
    {
     "name": "stderr",
     "output_type": "stream",
     "text": [
      "2025-05-08 07:51:04,520 - INFO -Exporting CSV File#17\n",
      "2025-05-08 07:51:30,017 - INFO -Reading input file:  ./UNSW_pcap_files//pcap 22-1-2015\\25.pcap\n",
      "2025-05-08 07:51:55,096 - INFO -Done with 100000 Packets\n",
      "2025-05-08 07:52:19,948 - INFO -Done with 200000 Packets\n",
      "2025-05-08 07:52:44,826 - INFO -Done with 300000 Packets\n",
      "2025-05-08 07:53:09,655 - INFO -Done with 400000 Packets\n",
      "2025-05-08 07:53:34,763 - INFO -Done with 500000 Packets\n",
      "2025-05-08 07:53:59,893 - INFO -Done with 600000 Packets\n",
      "2025-05-08 07:54:24,748 - INFO -Done with 700000 Packets\n",
      "2025-05-08 07:54:50,084 - INFO -Done with 800000 Packets\n",
      "2025-05-08 07:55:15,242 - INFO -Done with 900000 Packets\n",
      "2025-05-08 07:55:40,732 - INFO -Done with 1000000 Packets\n",
      "2025-05-08 07:56:05,770 - INFO -Done with 1100000 Packets\n",
      "2025-05-08 07:56:31,288 - INFO -Done with 1200000 Packets\n",
      "2025-05-08 07:56:56,167 - INFO -Done with 1300000 Packets\n",
      "2025-05-08 07:57:21,107 - INFO -Done with 1400000 Packets\n",
      "2025-05-08 07:57:46,640 - INFO -Done with 1500000 Packets\n",
      "2025-05-08 07:58:11,508 - INFO -Done with 1600000 Packets\n",
      "2025-05-08 07:58:36,522 - INFO -Done with 1700000 Packets\n",
      "2025-05-08 07:59:01,574 - INFO -Done with 1800000 Packets\n"
     ]
    },
    {
     "name": "stdout",
     "output_type": "stream",
     "text": [
      "\n"
     ]
    },
    {
     "name": "stderr",
     "output_type": "stream",
     "text": [
      "2025-05-08 07:59:16,292 - INFO -Exporting CSV File#18\n",
      "2025-05-08 07:59:42,275 - INFO -Reading input file:  ./UNSW_pcap_files//pcap 22-1-2015\\26.pcap\n",
      "2025-05-08 08:00:07,458 - INFO -Done with 100000 Packets\n",
      "2025-05-08 08:00:32,247 - INFO -Done with 200000 Packets\n",
      "2025-05-08 08:00:57,114 - INFO -Done with 300000 Packets\n",
      "2025-05-08 08:01:22,043 - INFO -Done with 400000 Packets\n",
      "2025-05-08 08:01:46,928 - INFO -Done with 500000 Packets\n",
      "2025-05-08 08:02:11,909 - INFO -Done with 600000 Packets\n",
      "2025-05-08 08:02:37,120 - INFO -Done with 700000 Packets\n",
      "2025-05-08 08:03:02,151 - INFO -Done with 800000 Packets\n",
      "2025-05-08 08:03:27,509 - INFO -Done with 900000 Packets\n",
      "2025-05-08 08:03:52,398 - INFO -Done with 1000000 Packets\n",
      "2025-05-08 08:04:17,915 - INFO -Done with 1100000 Packets\n",
      "2025-05-08 08:04:42,925 - INFO -Done with 1200000 Packets\n",
      "2025-05-08 08:05:07,837 - INFO -Done with 1300000 Packets\n",
      "2025-05-08 08:05:33,182 - INFO -Done with 1400000 Packets\n",
      "2025-05-08 08:05:58,155 - INFO -Done with 1500000 Packets\n",
      "2025-05-08 08:06:23,150 - INFO -Done with 1600000 Packets\n",
      "2025-05-08 08:06:48,790 - INFO -Done with 1700000 Packets\n",
      "2025-05-08 08:07:13,757 - INFO -Done with 1800000 Packets\n"
     ]
    },
    {
     "name": "stdout",
     "output_type": "stream",
     "text": [
      "\n"
     ]
    },
    {
     "name": "stderr",
     "output_type": "stream",
     "text": [
      "2025-05-08 08:07:40,257 - INFO -Exporting CSV File#19\n",
      "2025-05-08 08:08:06,029 - INFO -Reading input file:  ./UNSW_pcap_files//pcap 22-1-2015\\27.pcap\n",
      "2025-05-08 08:08:31,237 - INFO -Done with 100000 Packets\n",
      "2025-05-08 08:08:56,208 - INFO -Done with 200000 Packets\n",
      "2025-05-08 08:09:21,239 - INFO -Done with 300000 Packets\n",
      "2025-05-08 08:09:46,340 - INFO -Done with 400000 Packets\n",
      "2025-05-08 08:10:11,294 - INFO -Done with 500000 Packets\n",
      "2025-05-08 08:10:36,397 - INFO -Done with 600000 Packets\n",
      "2025-05-08 08:11:01,846 - INFO -Done with 700000 Packets\n",
      "2025-05-08 08:11:26,978 - INFO -Done with 800000 Packets\n",
      "2025-05-08 08:11:52,479 - INFO -Done with 900000 Packets\n",
      "2025-05-08 08:12:17,570 - INFO -Done with 1000000 Packets\n",
      "2025-05-08 08:12:43,007 - INFO -Done with 1100000 Packets\n",
      "2025-05-08 08:13:07,978 - INFO -Done with 1200000 Packets\n",
      "2025-05-08 08:13:32,986 - INFO -Done with 1300000 Packets\n",
      "2025-05-08 08:13:58,544 - INFO -Done with 1400000 Packets\n",
      "2025-05-08 08:14:23,443 - INFO -Done with 1500000 Packets\n",
      "2025-05-08 08:14:48,397 - INFO -Done with 1600000 Packets\n",
      "2025-05-08 08:15:14,071 - INFO -Done with 1700000 Packets\n"
     ]
    },
    {
     "name": "stdout",
     "output_type": "stream",
     "text": [
      "\n"
     ]
    },
    {
     "name": "stderr",
     "output_type": "stream",
     "text": [
      "2025-05-08 08:15:35,772 - INFO -Exporting CSV File#20\n",
      "2025-05-08 08:16:01,422 - INFO -Reading input file:  ./UNSW_pcap_files//pcap 22-1-2015\\28.pcap\n",
      "2025-05-08 08:16:26,675 - INFO -Done with 100000 Packets\n",
      "2025-05-08 08:16:51,587 - INFO -Done with 200000 Packets\n",
      "2025-05-08 08:17:16,563 - INFO -Done with 300000 Packets\n",
      "2025-05-08 08:17:41,670 - INFO -Done with 400000 Packets\n",
      "2025-05-08 08:18:07,053 - INFO -Done with 500000 Packets\n",
      "2025-05-08 08:18:31,943 - INFO -Done with 600000 Packets\n",
      "2025-05-08 08:18:57,257 - INFO -Done with 700000 Packets\n",
      "2025-05-08 08:19:22,461 - INFO -Done with 800000 Packets\n",
      "2025-05-08 08:19:47,784 - INFO -Done with 900000 Packets\n",
      "2025-05-08 08:20:12,878 - INFO -Done with 1000000 Packets\n",
      "2025-05-08 08:20:38,350 - INFO -Done with 1100000 Packets\n",
      "2025-05-08 08:21:03,354 - INFO -Done with 1200000 Packets\n",
      "2025-05-08 08:21:29,065 - INFO -Done with 1300000 Packets\n",
      "2025-05-08 08:21:53,989 - INFO -Done with 1400000 Packets\n",
      "2025-05-08 08:22:18,927 - INFO -Done with 1500000 Packets\n",
      "2025-05-08 08:22:43,929 - INFO -Done with 1600000 Packets\n",
      "2025-05-08 08:23:09,457 - INFO -Done with 1700000 Packets\n"
     ]
    },
    {
     "name": "stdout",
     "output_type": "stream",
     "text": [
      "\n"
     ]
    },
    {
     "name": "stderr",
     "output_type": "stream",
     "text": [
      "2025-05-08 08:23:37,840 - INFO -Exporting CSV File#21\n",
      "2025-05-08 08:24:05,117 - INFO -Parsing 17-2-2015 Files .........\n"
     ]
    },
    {
     "name": "stdout",
     "output_type": "stream",
     "text": [
      "[INFO] Found 11 PCAP files in ./UNSW_pcap_files//pcap 17-2-2015/\n"
     ]
    },
    {
     "name": "stderr",
     "output_type": "stream",
     "text": [
      "2025-05-08 08:24:05,122 - INFO -Reading input file:  ./UNSW_pcap_files//pcap 17-2-2015\\1.pcap\n",
      "2025-05-08 08:24:28,855 - INFO -Done with 100000 Packets\n",
      "2025-05-08 08:24:52,679 - INFO -Done with 200000 Packets\n",
      "2025-05-08 08:25:16,628 - INFO -Done with 300000 Packets\n",
      "2025-05-08 08:25:40,817 - INFO -Done with 400000 Packets\n",
      "2025-05-08 08:26:05,190 - INFO -Done with 500000 Packets\n",
      "2025-05-08 08:26:29,421 - INFO -Done with 600000 Packets\n",
      "2025-05-08 08:26:53,854 - INFO -Done with 700000 Packets\n",
      "2025-05-08 08:27:18,419 - INFO -Done with 800000 Packets\n",
      "2025-05-08 08:27:42,900 - INFO -Done with 900000 Packets\n",
      "2025-05-08 08:28:07,616 - INFO -Done with 1000000 Packets\n",
      "2025-05-08 08:28:32,152 - INFO -Done with 1100000 Packets\n",
      "2025-05-08 08:28:56,392 - INFO -Done with 1200000 Packets\n",
      "2025-05-08 08:29:21,152 - INFO -Done with 1300000 Packets\n",
      "WARNING: DNS decompression loop detected\n",
      "WARNING: DNS decompression loop detected\n",
      "2025-05-08 08:29:45,567 - INFO -Done with 1400000 Packets\n",
      "2025-05-08 08:30:09,912 - INFO -Done with 1500000 Packets\n",
      "WARNING: DNS decompression loop detected\n",
      "WARNING: DNS decompression loop detected\n",
      "2025-05-08 08:30:34,712 - INFO -Done with 1600000 Packets\n",
      "2025-05-08 08:30:59,063 - INFO -Done with 1700000 Packets\n",
      "2025-05-08 08:31:23,213 - INFO -Done with 1800000 Packets\n",
      "2025-05-08 08:31:47,359 - INFO -Done with 1900000 Packets\n",
      "2025-05-08 08:32:12,047 - INFO -Done with 2000000 Packets\n",
      "2025-05-08 08:32:36,456 - INFO -Done with 2100000 Packets\n",
      "2025-05-08 08:33:00,948 - INFO -Done with 2200000 Packets\n",
      "2025-05-08 08:33:25,309 - INFO -Done with 2300000 Packets\n",
      "2025-05-08 08:33:49,726 - INFO -Done with 2400000 Packets\n",
      "2025-05-08 08:34:14,922 - INFO -Done with 2500000 Packets\n",
      "2025-05-08 08:34:39,387 - INFO -Done with 2600000 Packets\n",
      "2025-05-08 08:35:03,705 - INFO -Done with 2700000 Packets\n",
      "2025-05-08 08:35:28,038 - INFO -Done with 2800000 Packets\n",
      "2025-05-08 08:35:52,356 - INFO -Done with 2900000 Packets\n",
      "2025-05-08 08:36:17,532 - INFO -Done with 3000000 Packets\n",
      "2025-05-08 08:36:41,687 - INFO -Done with 3100000 Packets\n",
      "2025-05-08 08:37:06,017 - INFO -Done with 3200000 Packets\n",
      "2025-05-08 08:37:30,408 - INFO -Done with 3300000 Packets\n",
      "2025-05-08 08:37:54,611 - INFO -Done with 3400000 Packets\n",
      "2025-05-08 08:38:18,848 - INFO -Done with 3500000 Packets\n"
     ]
    },
    {
     "name": "stdout",
     "output_type": "stream",
     "text": [
      "\n"
     ]
    },
    {
     "name": "stderr",
     "output_type": "stream",
     "text": [
      "2025-05-08 08:38:41,294 - INFO -Exporting CSV File#1\n",
      "2025-05-08 08:39:33,614 - INFO -Reading input file:  ./UNSW_pcap_files//pcap 17-2-2015\\10.pcap\n",
      "2025-05-08 08:39:58,512 - INFO -Done with 100000 Packets\n",
      "2025-05-08 08:40:22,969 - INFO -Done with 200000 Packets\n",
      "2025-05-08 08:40:47,464 - INFO -Done with 300000 Packets\n",
      "2025-05-08 08:41:11,813 - INFO -Done with 400000 Packets\n",
      "2025-05-08 08:41:36,175 - INFO -Done with 500000 Packets\n",
      "2025-05-08 08:42:00,741 - INFO -Done with 600000 Packets\n",
      "2025-05-08 08:42:25,193 - INFO -Done with 700000 Packets\n",
      "2025-05-08 08:42:49,758 - INFO -Done with 800000 Packets\n",
      "2025-05-08 08:43:14,228 - INFO -Done with 900000 Packets\n",
      "2025-05-08 08:43:38,735 - INFO -Done with 1000000 Packets\n",
      "2025-05-08 08:44:03,168 - INFO -Done with 1100000 Packets\n",
      "2025-05-08 08:44:28,002 - INFO -Done with 1200000 Packets\n",
      "2025-05-08 08:44:52,205 - INFO -Done with 1300000 Packets\n",
      "2025-05-08 08:45:16,529 - INFO -Done with 1400000 Packets\n",
      "2025-05-08 08:45:41,498 - INFO -Done with 1500000 Packets\n",
      "2025-05-08 08:46:05,682 - INFO -Done with 1600000 Packets\n",
      "2025-05-08 08:46:29,910 - INFO -Done with 1700000 Packets\n",
      "2025-05-08 08:46:54,188 - INFO -Done with 1800000 Packets\n",
      "2025-05-08 08:47:19,173 - INFO -Done with 1900000 Packets\n",
      "2025-05-08 08:47:43,449 - INFO -Done with 2000000 Packets\n",
      "2025-05-08 08:48:07,831 - INFO -Done with 2100000 Packets\n",
      "2025-05-08 08:48:32,161 - INFO -Done with 2200000 Packets\n",
      "2025-05-08 08:48:56,537 - INFO -Done with 2300000 Packets\n",
      "2025-05-08 08:49:21,802 - INFO -Done with 2400000 Packets\n",
      "2025-05-08 08:49:46,146 - INFO -Done with 2500000 Packets\n",
      "2025-05-08 08:50:10,465 - INFO -Done with 2600000 Packets\n",
      "2025-05-08 08:50:34,714 - INFO -Done with 2700000 Packets\n",
      "2025-05-08 08:50:59,031 - INFO -Done with 2800000 Packets\n",
      "2025-05-08 08:51:23,286 - INFO -Done with 2900000 Packets\n",
      "2025-05-08 08:51:48,716 - INFO -Done with 3000000 Packets\n",
      "2025-05-08 08:52:13,116 - INFO -Done with 3100000 Packets\n",
      "2025-05-08 08:52:37,640 - INFO -Done with 3200000 Packets\n",
      "2025-05-08 08:53:02,058 - INFO -Done with 3300000 Packets\n",
      "2025-05-08 08:53:26,317 - INFO -Done with 3400000 Packets\n"
     ]
    },
    {
     "name": "stdout",
     "output_type": "stream",
     "text": [
      "\n"
     ]
    },
    {
     "name": "stderr",
     "output_type": "stream",
     "text": [
      "2025-05-08 08:53:56,339 - INFO -Exporting CSV File#2\n",
      "2025-05-08 08:54:48,357 - INFO -Reading input file:  ./UNSW_pcap_files//pcap 17-2-2015\\11.pcap\n",
      "2025-05-08 08:55:13,416 - INFO -Done with 100000 Packets\n",
      "WARNING: DNS decompression loop detected\n",
      "WARNING: DNS decompression loop detected\n",
      "2025-05-08 08:55:37,579 - INFO -Done with 200000 Packets\n",
      "2025-05-08 08:56:01,776 - INFO -Done with 300000 Packets\n",
      "2025-05-08 08:56:25,930 - INFO -Done with 400000 Packets\n",
      "2025-05-08 08:56:50,258 - INFO -Done with 500000 Packets\n",
      "2025-05-08 08:57:14,404 - INFO -Done with 600000 Packets\n",
      "2025-05-08 08:57:38,557 - INFO -Done with 700000 Packets\n",
      "2025-05-08 08:58:03,076 - INFO -Done with 800000 Packets\n",
      "2025-05-08 08:58:27,128 - INFO -Done with 900000 Packets\n",
      "2025-05-08 08:58:51,257 - INFO -Done with 1000000 Packets\n",
      "2025-05-08 08:59:15,871 - INFO -Done with 1100000 Packets\n",
      "2025-05-08 08:59:39,967 - INFO -Done with 1200000 Packets\n",
      "2025-05-08 09:00:04,292 - INFO -Done with 1300000 Packets\n",
      "2025-05-08 09:00:29,026 - INFO -Done with 1400000 Packets\n",
      "2025-05-08 09:00:53,416 - INFO -Done with 1500000 Packets\n",
      "2025-05-08 09:01:17,742 - INFO -Done with 1600000 Packets\n",
      "2025-05-08 09:01:42,184 - INFO -Done with 1700000 Packets\n",
      "2025-05-08 09:02:07,276 - INFO -Done with 1800000 Packets\n",
      "2025-05-08 09:02:31,702 - INFO -Done with 1900000 Packets\n",
      "2025-05-08 09:02:56,096 - INFO -Done with 2000000 Packets\n",
      "2025-05-08 09:03:20,293 - INFO -Done with 2100000 Packets\n",
      "2025-05-08 09:03:45,292 - INFO -Done with 2200000 Packets\n",
      "2025-05-08 09:04:09,307 - INFO -Done with 2300000 Packets\n",
      "2025-05-08 09:04:33,399 - INFO -Done with 2400000 Packets\n",
      "2025-05-08 09:04:57,553 - INFO -Done with 2500000 Packets\n",
      "2025-05-08 09:05:21,858 - INFO -Done with 2600000 Packets\n",
      "2025-05-08 09:05:47,305 - INFO -Done with 2700000 Packets\n",
      "WARNING: DNS decompression loop detected\n",
      "WARNING: DNS decompression loop detected\n",
      "2025-05-08 09:06:11,561 - INFO -Done with 2800000 Packets\n",
      "2025-05-08 09:06:35,785 - INFO -Done with 2900000 Packets\n",
      "2025-05-08 09:07:00,112 - INFO -Done with 3000000 Packets\n",
      "2025-05-08 09:07:24,513 - INFO -Done with 3100000 Packets\n",
      "2025-05-08 09:07:48,747 - INFO -Done with 3200000 Packets\n",
      "2025-05-08 09:08:13,040 - INFO -Done with 3300000 Packets\n",
      "2025-05-08 09:08:38,639 - INFO -Done with 3400000 Packets\n",
      "2025-05-08 09:09:03,160 - INFO -Done with 3500000 Packets\n"
     ]
    },
    {
     "name": "stdout",
     "output_type": "stream",
     "text": [
      "\n"
     ]
    },
    {
     "name": "stderr",
     "output_type": "stream",
     "text": [
      "2025-05-08 09:09:28,961 - INFO -Exporting CSV File#3\n",
      "2025-05-08 09:10:22,677 - INFO -Reading input file:  ./UNSW_pcap_files//pcap 17-2-2015\\12.pcap\n",
      "2025-05-08 09:10:47,610 - INFO -Done with 100000 Packets\n",
      "2025-05-08 09:11:11,716 - INFO -Done with 200000 Packets\n",
      "2025-05-08 09:11:35,836 - INFO -Done with 300000 Packets\n",
      "2025-05-08 09:12:00,138 - INFO -Done with 400000 Packets\n",
      "2025-05-08 09:12:24,310 - INFO -Done with 500000 Packets\n",
      "2025-05-08 09:12:48,530 - INFO -Done with 600000 Packets\n",
      "2025-05-08 09:13:12,884 - INFO -Done with 700000 Packets\n",
      "2025-05-08 09:13:37,484 - INFO -Done with 800000 Packets\n",
      "2025-05-08 09:14:01,770 - INFO -Done with 900000 Packets\n",
      "2025-05-08 09:14:26,472 - INFO -Done with 1000000 Packets\n",
      "2025-05-08 09:14:50,699 - INFO -Done with 1100000 Packets\n",
      "2025-05-08 09:15:15,316 - INFO -Done with 1200000 Packets\n",
      "2025-05-08 09:15:39,580 - INFO -Done with 1300000 Packets\n",
      "2025-05-08 09:16:04,102 - INFO -Done with 1400000 Packets\n",
      "2025-05-08 09:16:29,110 - INFO -Done with 1500000 Packets\n",
      "2025-05-08 09:16:53,260 - INFO -Done with 1600000 Packets\n",
      "2025-05-08 09:17:17,668 - INFO -Done with 1700000 Packets\n",
      "2025-05-08 09:17:42,023 - INFO -Done with 1800000 Packets\n",
      "2025-05-08 09:18:07,191 - INFO -Done with 1900000 Packets\n",
      "2025-05-08 09:18:31,588 - INFO -Done with 2000000 Packets\n",
      "2025-05-08 09:18:56,030 - INFO -Done with 2100000 Packets\n",
      "2025-05-08 09:19:20,487 - INFO -Done with 2200000 Packets\n",
      "2025-05-08 09:19:44,943 - INFO -Done with 2300000 Packets\n",
      "2025-05-08 09:20:10,192 - INFO -Done with 2400000 Packets\n",
      "2025-05-08 09:20:34,713 - INFO -Done with 2500000 Packets\n",
      "2025-05-08 09:20:59,238 - INFO -Done with 2600000 Packets\n",
      "2025-05-08 09:21:23,731 - INFO -Done with 2700000 Packets\n",
      "2025-05-08 09:21:48,391 - INFO -Done with 2800000 Packets\n",
      "2025-05-08 09:22:12,810 - INFO -Done with 2900000 Packets\n",
      "2025-05-08 09:22:38,275 - INFO -Done with 3000000 Packets\n",
      "2025-05-08 09:23:02,736 - INFO -Done with 3100000 Packets\n",
      "2025-05-08 09:23:27,246 - INFO -Done with 3200000 Packets\n",
      "2025-05-08 09:23:51,782 - INFO -Done with 3300000 Packets\n",
      "2025-05-08 09:24:16,127 - INFO -Done with 3400000 Packets\n",
      "2025-05-08 09:24:40,478 - INFO -Done with 3500000 Packets\n",
      "WARNING: DNS decompression loop detected\n",
      "WARNING: DNS decompression loop detected\n"
     ]
    },
    {
     "name": "stdout",
     "output_type": "stream",
     "text": [
      "\n"
     ]
    },
    {
     "name": "stderr",
     "output_type": "stream",
     "text": [
      "2025-05-08 09:25:07,969 - INFO -Exporting CSV File#4\n",
      "2025-05-08 09:26:00,680 - INFO -Reading input file:  ./UNSW_pcap_files//pcap 17-2-2015\\13.pcap\n",
      "WARNING: DNS decompression loop detected\n",
      "WARNING: DNS decompression loop detected\n",
      "2025-05-08 09:26:25,737 - INFO -Done with 100000 Packets\n",
      "2025-05-08 09:26:49,873 - INFO -Done with 200000 Packets\n",
      "2025-05-08 09:27:13,948 - INFO -Done with 300000 Packets\n",
      "2025-05-08 09:27:38,062 - INFO -Done with 400000 Packets\n",
      "2025-05-08 09:28:02,029 - INFO -Done with 500000 Packets\n",
      "2025-05-08 09:28:26,101 - INFO -Done with 600000 Packets\n",
      "2025-05-08 09:28:50,257 - INFO -Done with 700000 Packets\n",
      "2025-05-08 09:29:14,332 - INFO -Done with 800000 Packets\n",
      "2025-05-08 09:29:38,379 - INFO -Done with 900000 Packets\n",
      "2025-05-08 09:30:03,087 - INFO -Done with 1000000 Packets\n",
      "2025-05-08 09:30:27,224 - INFO -Done with 1100000 Packets\n",
      "2025-05-08 09:30:51,884 - INFO -Done with 1200000 Packets\n",
      "2025-05-08 09:31:16,109 - INFO -Done with 1300000 Packets\n",
      "2025-05-08 09:31:40,396 - INFO -Done with 1400000 Packets\n",
      "2025-05-08 09:32:05,414 - INFO -Done with 1500000 Packets\n",
      "2025-05-08 09:32:29,785 - INFO -Done with 1600000 Packets\n",
      "2025-05-08 09:32:53,929 - INFO -Done with 1700000 Packets\n",
      "2025-05-08 09:33:18,494 - INFO -Done with 1800000 Packets\n",
      "2025-05-08 09:33:43,933 - INFO -Done with 1900000 Packets\n",
      "2025-05-08 09:34:08,395 - INFO -Done with 2000000 Packets\n",
      "2025-05-08 09:34:32,621 - INFO -Done with 2100000 Packets\n",
      "2025-05-08 09:34:57,001 - INFO -Done with 2200000 Packets\n",
      "2025-05-08 09:35:21,305 - INFO -Done with 2300000 Packets\n",
      "2025-05-08 09:35:46,499 - INFO -Done with 2400000 Packets\n",
      "2025-05-08 09:36:10,645 - INFO -Done with 2500000 Packets\n",
      "2025-05-08 09:36:34,928 - INFO -Done with 2600000 Packets\n",
      "2025-05-08 09:36:59,216 - INFO -Done with 2700000 Packets\n",
      "2025-05-08 09:37:23,623 - INFO -Done with 2800000 Packets\n",
      "2025-05-08 09:37:47,908 - INFO -Done with 2900000 Packets\n",
      "2025-05-08 09:38:13,328 - INFO -Done with 3000000 Packets\n",
      "2025-05-08 09:38:37,690 - INFO -Done with 3100000 Packets\n",
      "2025-05-08 09:39:01,989 - INFO -Done with 3200000 Packets\n",
      "2025-05-08 09:39:26,244 - INFO -Done with 3300000 Packets\n",
      "2025-05-08 09:39:50,615 - INFO -Done with 3400000 Packets\n",
      "2025-05-08 09:40:15,033 - INFO -Done with 3500000 Packets\n"
     ]
    },
    {
     "name": "stdout",
     "output_type": "stream",
     "text": [
      "\n"
     ]
    },
    {
     "name": "stderr",
     "output_type": "stream",
     "text": [
      "2025-05-08 09:40:55,721 - INFO -Exporting CSV File#5\n",
      "2025-05-08 09:41:49,688 - INFO -Reading input file:  ./UNSW_pcap_files//pcap 17-2-2015\\14.pcap\n",
      "2025-05-08 09:42:14,929 - INFO -Done with 100000 Packets\n",
      "2025-05-08 09:42:38,933 - INFO -Done with 200000 Packets\n",
      "2025-05-08 09:43:02,974 - INFO -Done with 300000 Packets\n",
      "2025-05-08 09:43:27,153 - INFO -Done with 400000 Packets\n",
      "2025-05-08 09:43:51,410 - INFO -Done with 500000 Packets\n",
      "2025-05-08 09:44:15,615 - INFO -Done with 600000 Packets\n",
      "2025-05-08 09:44:39,874 - INFO -Done with 700000 Packets\n",
      "2025-05-08 09:45:04,549 - INFO -Done with 800000 Packets\n",
      "2025-05-08 09:45:28,825 - INFO -Done with 900000 Packets\n",
      "WARNING: DNS decompression loop detected\n",
      "WARNING: DNS decompression loop detected\n",
      "2025-05-08 09:45:53,589 - INFO -Done with 1000000 Packets\n",
      "WARNING: DNS decompression loop detected\n",
      "WARNING: DNS decompression loop detected\n",
      "2025-05-08 09:46:17,818 - INFO -Done with 1100000 Packets\n",
      "2025-05-08 09:46:41,970 - INFO -Done with 1200000 Packets\n",
      "2025-05-08 09:47:06,846 - INFO -Done with 1300000 Packets\n",
      "2025-05-08 09:47:31,347 - INFO -Done with 1400000 Packets\n",
      "2025-05-08 09:47:55,759 - INFO -Done with 1500000 Packets\n",
      "2025-05-08 09:48:20,940 - INFO -Done with 1600000 Packets\n",
      "2025-05-08 09:48:45,586 - INFO -Done with 1700000 Packets\n",
      "2025-05-08 09:49:10,060 - INFO -Done with 1800000 Packets\n",
      "2025-05-08 09:49:34,395 - INFO -Done with 1900000 Packets\n",
      "2025-05-08 09:49:59,706 - INFO -Done with 2000000 Packets\n",
      "2025-05-08 09:50:24,022 - INFO -Done with 2100000 Packets\n",
      "2025-05-08 09:50:48,357 - INFO -Done with 2200000 Packets\n",
      "2025-05-08 09:51:12,731 - INFO -Done with 2300000 Packets\n",
      "2025-05-08 09:51:37,022 - INFO -Done with 2400000 Packets\n",
      "2025-05-08 09:52:02,351 - INFO -Done with 2500000 Packets\n",
      "2025-05-08 09:52:26,702 - INFO -Done with 2600000 Packets\n",
      "2025-05-08 09:52:51,090 - INFO -Done with 2700000 Packets\n",
      "2025-05-08 09:53:15,514 - INFO -Done with 2800000 Packets\n",
      "2025-05-08 09:53:39,812 - INFO -Done with 2900000 Packets\n",
      "2025-05-08 09:54:04,190 - INFO -Done with 3000000 Packets\n",
      "2025-05-08 09:54:29,878 - INFO -Done with 3100000 Packets\n",
      "2025-05-08 09:54:54,263 - INFO -Done with 3200000 Packets\n",
      "2025-05-08 09:55:18,714 - INFO -Done with 3300000 Packets\n",
      "2025-05-08 09:55:43,187 - INFO -Done with 3400000 Packets\n"
     ]
    },
    {
     "name": "stdout",
     "output_type": "stream",
     "text": [
      "\n"
     ]
    },
    {
     "name": "stderr",
     "output_type": "stream",
     "text": [
      "2025-05-08 09:56:16,761 - INFO -Exporting CSV File#6\n",
      "2025-05-08 09:57:09,069 - INFO -Reading input file:  ./UNSW_pcap_files//pcap 17-2-2015\\15.pcap\n",
      "2025-05-08 09:57:34,148 - INFO -Done with 100000 Packets\n",
      "2025-05-08 09:57:58,332 - INFO -Done with 200000 Packets\n",
      "2025-05-08 09:58:22,659 - INFO -Done with 300000 Packets\n",
      "2025-05-08 09:58:46,924 - INFO -Done with 400000 Packets\n",
      "2025-05-08 09:59:11,219 - INFO -Done with 500000 Packets\n",
      "2025-05-08 09:59:35,604 - INFO -Done with 600000 Packets\n",
      "2025-05-08 10:00:00,057 - INFO -Done with 700000 Packets\n",
      "2025-05-08 10:00:24,215 - INFO -Done with 800000 Packets\n",
      "2025-05-08 10:00:48,716 - INFO -Done with 900000 Packets\n",
      "2025-05-08 10:01:12,858 - INFO -Done with 1000000 Packets\n",
      "2025-05-08 10:01:37,109 - INFO -Done with 1100000 Packets\n",
      "2025-05-08 10:02:01,772 - INFO -Done with 1200000 Packets\n",
      "2025-05-08 10:02:26,056 - INFO -Done with 1300000 Packets\n",
      "2025-05-08 10:02:50,933 - INFO -Done with 1400000 Packets\n",
      "2025-05-08 10:03:15,307 - INFO -Done with 1500000 Packets\n",
      "WARNING: DNS decompression loop detected\n",
      "WARNING: DNS decompression loop detected\n",
      "2025-05-08 10:03:39,659 - INFO -Done with 1600000 Packets\n",
      "2025-05-08 10:04:03,931 - INFO -Done with 1700000 Packets\n",
      "2025-05-08 10:04:29,005 - INFO -Done with 1800000 Packets\n",
      "2025-05-08 10:04:53,359 - INFO -Done with 1900000 Packets\n",
      "2025-05-08 10:05:17,911 - INFO -Done with 2000000 Packets\n",
      "2025-05-08 10:05:42,544 - INFO -Done with 2100000 Packets\n",
      "2025-05-08 10:06:08,244 - INFO -Done with 2200000 Packets\n",
      "2025-05-08 10:06:32,519 - INFO -Done with 2300000 Packets\n",
      "2025-05-08 10:06:56,812 - INFO -Done with 2400000 Packets\n",
      "2025-05-08 10:07:21,042 - INFO -Done with 2500000 Packets\n",
      "2025-05-08 10:07:45,329 - INFO -Done with 2600000 Packets\n",
      "2025-05-08 10:08:09,561 - INFO -Done with 2700000 Packets\n",
      "2025-05-08 10:08:34,960 - INFO -Done with 2800000 Packets\n",
      "2025-05-08 10:08:59,258 - INFO -Done with 2900000 Packets\n",
      "2025-05-08 10:09:23,620 - INFO -Done with 3000000 Packets\n",
      "2025-05-08 10:09:47,859 - INFO -Done with 3100000 Packets\n",
      "2025-05-08 10:10:12,101 - INFO -Done with 3200000 Packets\n",
      "2025-05-08 10:10:36,273 - INFO -Done with 3300000 Packets\n",
      "2025-05-08 10:11:00,422 - INFO -Done with 3400000 Packets\n",
      "2025-05-08 10:11:26,216 - INFO -Done with 3500000 Packets\n"
     ]
    },
    {
     "name": "stdout",
     "output_type": "stream",
     "text": [
      "\n"
     ]
    },
    {
     "name": "stderr",
     "output_type": "stream",
     "text": [
      "2025-05-08 10:11:48,137 - INFO -Exporting CSV File#7\n",
      "2025-05-08 10:12:41,008 - INFO -Reading input file:  ./UNSW_pcap_files//pcap 17-2-2015\\16.pcap\n",
      "2025-05-08 10:13:06,193 - INFO -Done with 100000 Packets\n",
      "2025-05-08 10:13:30,342 - INFO -Done with 200000 Packets\n",
      "2025-05-08 10:13:54,595 - INFO -Done with 300000 Packets\n",
      "2025-05-08 10:14:18,806 - INFO -Done with 400000 Packets\n",
      "2025-05-08 10:14:43,194 - INFO -Done with 500000 Packets\n",
      "2025-05-08 10:15:07,503 - INFO -Done with 600000 Packets\n",
      "2025-05-08 10:15:31,940 - INFO -Done with 700000 Packets\n",
      "2025-05-08 10:15:56,066 - INFO -Done with 800000 Packets\n",
      "WARNING: DNS decompression loop detected\n",
      "WARNING: DNS decompression loop detected\n",
      "2025-05-08 10:16:20,717 - INFO -Done with 900000 Packets\n",
      "2025-05-08 10:16:44,948 - INFO -Done with 1000000 Packets\n",
      "2025-05-08 10:17:09,648 - INFO -Done with 1100000 Packets\n",
      "2025-05-08 10:17:33,887 - INFO -Done with 1200000 Packets\n",
      "2025-05-08 10:17:58,308 - INFO -Done with 1300000 Packets\n",
      "2025-05-08 10:18:23,316 - INFO -Done with 1400000 Packets\n",
      "2025-05-08 10:18:47,710 - INFO -Done with 1500000 Packets\n",
      "2025-05-08 10:19:12,341 - INFO -Done with 1600000 Packets\n",
      "2025-05-08 10:19:36,945 - INFO -Done with 1700000 Packets\n",
      "2025-05-08 10:20:02,090 - INFO -Done with 1800000 Packets\n",
      "2025-05-08 10:20:26,379 - INFO -Done with 1900000 Packets\n",
      "2025-05-08 10:20:50,663 - INFO -Done with 2000000 Packets\n",
      "2025-05-08 10:21:14,958 - INFO -Done with 2100000 Packets\n",
      "2025-05-08 10:21:40,127 - INFO -Done with 2200000 Packets\n",
      "2025-05-08 10:22:04,267 - INFO -Done with 2300000 Packets\n",
      "2025-05-08 10:22:28,502 - INFO -Done with 2400000 Packets\n",
      "2025-05-08 10:22:53,077 - INFO -Done with 2500000 Packets\n",
      "2025-05-08 10:23:17,352 - INFO -Done with 2600000 Packets\n",
      "2025-05-08 10:23:42,723 - INFO -Done with 2700000 Packets\n",
      "2025-05-08 10:24:07,035 - INFO -Done with 2800000 Packets\n",
      "2025-05-08 10:24:31,302 - INFO -Done with 2900000 Packets\n",
      "2025-05-08 10:24:55,630 - INFO -Done with 3000000 Packets\n",
      "2025-05-08 10:25:19,934 - INFO -Done with 3100000 Packets\n",
      "2025-05-08 10:25:44,342 - INFO -Done with 3200000 Packets\n",
      "2025-05-08 10:26:08,693 - INFO -Done with 3300000 Packets\n",
      "2025-05-08 10:26:34,326 - INFO -Done with 3400000 Packets\n",
      "2025-05-08 10:26:58,738 - INFO -Done with 3500000 Packets\n",
      "2025-05-08 10:27:23,027 - INFO -Done with 3600000 Packets\n"
     ]
    },
    {
     "name": "stdout",
     "output_type": "stream",
     "text": [
      "\n"
     ]
    },
    {
     "name": "stderr",
     "output_type": "stream",
     "text": [
      "2025-05-08 10:27:42,474 - INFO -Exporting CSV File#8\n",
      "2025-05-08 10:28:34,990 - INFO -Reading input file:  ./UNSW_pcap_files//pcap 17-2-2015\\17.pcap\n",
      "2025-05-08 10:29:00,241 - INFO -Done with 100000 Packets\n",
      "2025-05-08 10:29:24,476 - INFO -Done with 200000 Packets\n",
      "2025-05-08 10:29:48,791 - INFO -Done with 300000 Packets\n",
      "2025-05-08 10:30:12,989 - INFO -Done with 400000 Packets\n",
      "2025-05-08 10:30:37,077 - INFO -Done with 500000 Packets\n",
      "2025-05-08 10:31:01,598 - INFO -Done with 600000 Packets\n",
      "2025-05-08 10:31:25,823 - INFO -Done with 700000 Packets\n",
      "2025-05-08 10:31:50,205 - INFO -Done with 800000 Packets\n",
      "2025-05-08 10:32:14,325 - INFO -Done with 900000 Packets\n",
      "2025-05-08 10:32:39,056 - INFO -Done with 1000000 Packets\n",
      "2025-05-08 10:33:03,307 - INFO -Done with 1100000 Packets\n",
      "2025-05-08 10:33:27,567 - INFO -Done with 1200000 Packets\n",
      "2025-05-08 10:33:52,537 - INFO -Done with 1300000 Packets\n",
      "2025-05-08 10:34:17,074 - INFO -Done with 1400000 Packets\n",
      "2025-05-08 10:34:41,654 - INFO -Done with 1500000 Packets\n",
      "2025-05-08 10:35:06,795 - INFO -Done with 1600000 Packets\n",
      "2025-05-08 10:35:31,307 - INFO -Done with 1700000 Packets\n",
      "2025-05-08 10:35:55,914 - INFO -Done with 1800000 Packets\n",
      "WARNING: DNS decompression loop detected\n",
      "WARNING: DNS decompression loop detected\n",
      "WARNING: DNS decompression loop detected\n",
      "WARNING: DNS decompression loop detected\n",
      "2025-05-08 10:36:20,360 - INFO -Done with 1900000 Packets\n",
      "2025-05-08 10:36:45,684 - INFO -Done with 2000000 Packets\n",
      "2025-05-08 10:37:10,151 - INFO -Done with 2100000 Packets\n",
      "2025-05-08 10:37:34,801 - INFO -Done with 2200000 Packets\n",
      "2025-05-08 10:37:59,291 - INFO -Done with 2300000 Packets\n",
      "2025-05-08 10:38:24,476 - INFO -Done with 2400000 Packets\n",
      "2025-05-08 10:38:48,605 - INFO -Done with 2500000 Packets\n",
      "2025-05-08 10:39:12,819 - INFO -Done with 2600000 Packets\n",
      "2025-05-08 10:39:37,186 - INFO -Done with 2700000 Packets\n",
      "2025-05-08 10:40:01,487 - INFO -Done with 2800000 Packets\n",
      "2025-05-08 10:40:25,801 - INFO -Done with 2900000 Packets\n",
      "2025-05-08 10:40:51,332 - INFO -Done with 3000000 Packets\n",
      "2025-05-08 10:41:15,703 - INFO -Done with 3100000 Packets\n",
      "2025-05-08 10:41:40,061 - INFO -Done with 3200000 Packets\n",
      "2025-05-08 10:42:04,532 - INFO -Done with 3300000 Packets\n"
     ]
    },
    {
     "name": "stdout",
     "output_type": "stream",
     "text": [
      "\n"
     ]
    },
    {
     "name": "stderr",
     "output_type": "stream",
     "text": [
      "2025-05-08 10:42:44,267 - INFO -Exporting CSV File#9\n",
      "2025-05-08 10:43:37,543 - INFO -Reading input file:  ./UNSW_pcap_files//pcap 17-2-2015\\18.pcap\n",
      "2025-05-08 10:44:02,729 - INFO -Done with 100000 Packets\n",
      "2025-05-08 10:44:27,178 - INFO -Done with 200000 Packets\n",
      "2025-05-08 10:44:51,498 - INFO -Done with 300000 Packets\n",
      "2025-05-08 10:45:15,832 - INFO -Done with 400000 Packets\n",
      "2025-05-08 10:45:40,354 - INFO -Done with 500000 Packets\n",
      "2025-05-08 10:46:05,054 - INFO -Done with 600000 Packets\n",
      "2025-05-08 10:46:29,472 - INFO -Done with 700000 Packets\n",
      "2025-05-08 10:46:54,117 - INFO -Done with 800000 Packets\n",
      "2025-05-08 10:47:18,407 - INFO -Done with 900000 Packets\n",
      "2025-05-08 10:47:43,038 - INFO -Done with 1000000 Packets\n",
      "2025-05-08 10:48:07,371 - INFO -Done with 1100000 Packets\n",
      "2025-05-08 10:48:31,985 - INFO -Done with 1200000 Packets\n",
      "2025-05-08 10:48:57,168 - INFO -Done with 1300000 Packets\n",
      "2025-05-08 10:49:21,920 - INFO -Done with 1400000 Packets\n",
      "2025-05-08 10:49:46,676 - INFO -Done with 1500000 Packets\n",
      "2025-05-08 10:50:12,090 - INFO -Done with 1600000 Packets\n",
      "2025-05-08 10:50:36,936 - INFO -Done with 1700000 Packets\n",
      "2025-05-08 10:51:01,307 - INFO -Done with 1800000 Packets\n",
      "2025-05-08 10:51:25,579 - INFO -Done with 1900000 Packets\n",
      "2025-05-08 10:51:50,642 - INFO -Done with 2000000 Packets\n",
      "2025-05-08 10:52:14,839 - INFO -Done with 2100000 Packets\n",
      "2025-05-08 10:52:39,181 - INFO -Done with 2200000 Packets\n",
      "2025-05-08 10:53:03,481 - INFO -Done with 2300000 Packets\n",
      "2025-05-08 10:53:28,809 - INFO -Done with 2400000 Packets\n",
      "2025-05-08 10:53:53,034 - INFO -Done with 2500000 Packets\n",
      "2025-05-08 10:54:17,429 - INFO -Done with 2600000 Packets\n",
      "2025-05-08 10:54:41,752 - INFO -Done with 2700000 Packets\n",
      "2025-05-08 10:55:06,180 - INFO -Done with 2800000 Packets\n",
      "2025-05-08 10:55:30,601 - INFO -Done with 2900000 Packets\n",
      "2025-05-08 10:55:56,387 - INFO -Done with 3000000 Packets\n",
      "2025-05-08 10:56:20,893 - INFO -Done with 3100000 Packets\n",
      "2025-05-08 10:56:45,336 - INFO -Done with 3200000 Packets\n"
     ]
    },
    {
     "name": "stdout",
     "output_type": "stream",
     "text": [
      "\n"
     ]
    },
    {
     "name": "stderr",
     "output_type": "stream",
     "text": [
      "2025-05-08 10:57:25,794 - INFO -Exporting CSV File#10\n",
      "2025-05-08 10:58:17,922 - INFO -Reading input file:  ./UNSW_pcap_files//pcap 17-2-2015\\27.pcap\n",
      "2025-05-08 10:58:42,987 - INFO -Done with 100000 Packets\n",
      "2025-05-08 10:59:07,234 - INFO -Done with 200000 Packets\n",
      "2025-05-08 10:59:31,422 - INFO -Done with 300000 Packets\n",
      "2025-05-08 10:59:55,690 - INFO -Done with 400000 Packets\n",
      "2025-05-08 11:00:20,129 - INFO -Done with 500000 Packets\n",
      "2025-05-08 11:00:44,681 - INFO -Done with 600000 Packets\n",
      "2025-05-08 11:01:09,140 - INFO -Done with 700000 Packets\n",
      "2025-05-08 11:01:33,379 - INFO -Done with 800000 Packets\n",
      "2025-05-08 11:01:57,918 - INFO -Done with 900000 Packets\n",
      "2025-05-08 11:02:22,127 - INFO -Done with 1000000 Packets\n"
     ]
    },
    {
     "name": "stdout",
     "output_type": "stream",
     "text": [
      "\n"
     ]
    },
    {
     "name": "stderr",
     "output_type": "stream",
     "text": [
      "2025-05-08 11:02:46,690 - INFO -Exporting CSV File#11\n",
      "2025-05-08 11:03:03,709 - INFO -Parsing Completed.......\n",
      "2025-05-08 11:03:03,711 - INFO -Labeling 17-2-2015 Files .........\n",
      "2025-05-08 11:03:03,711 - INFO -Reading Pre-processed UNSW CSV_file...\n"
     ]
    },
    {
     "ename": "FileNotFoundError",
     "evalue": "[Errno 2] No such file or directory: './UNSW_preprocessed.csv/'",
     "output_type": "error",
     "traceback": [
      "\u001B[1;31m---------------------------------------------------------------------------\u001B[0m",
      "\u001B[1;31mFileNotFoundError\u001B[0m                         Traceback (most recent call last)",
      "\u001B[1;32m~\\AppData\\Local\\Temp\\ipykernel_19108\\3781190364.py\u001B[0m in \u001B[0;36m<module>\u001B[1;34m\u001B[0m\n\u001B[1;32m----> 1\u001B[1;33m \u001B[0mdf\u001B[0m \u001B[1;33m=\u001B[0m \u001B[0mpipeline\u001B[0m\u001B[1;33m(\u001B[0m\u001B[0min_dir\u001B[0m\u001B[1;33m,\u001B[0m \u001B[0mout_dir\u001B[0m\u001B[1;33m,\u001B[0m \u001B[0mDataset_name\u001B[0m\u001B[1;33m,\u001B[0m \u001B[0mprocessed_csv_file\u001B[0m\u001B[1;33m)\u001B[0m\u001B[1;33m\u001B[0m\u001B[1;33m\u001B[0m\u001B[0m\n\u001B[0m",
      "\u001B[1;32m~\\PycharmProjects\\payloadbyte\\Functions\\Pipeline.py\u001B[0m in \u001B[0;36mpipeline\u001B[1;34m(in_dir, out_dir, dataset, processed_csv_file)\u001B[0m\n\u001B[0;32m     86\u001B[0m             \u001B[1;32mif\u001B[0m \u001B[1;32mnot\u001B[0m \u001B[0misExist\u001B[0m\u001B[1;33m:\u001B[0m\u001B[1;33m\u001B[0m\u001B[1;33m\u001B[0m\u001B[0m\n\u001B[0;32m     87\u001B[0m                 \u001B[0mos\u001B[0m\u001B[1;33m.\u001B[0m\u001B[0mmakedirs\u001B[0m\u001B[1;33m(\u001B[0m\u001B[0moutput_file\u001B[0m\u001B[1;33m)\u001B[0m\u001B[1;33m\u001B[0m\u001B[1;33m\u001B[0m\u001B[0m\n\u001B[1;32m---> 88\u001B[1;33m             \u001B[0mlabel\u001B[0m\u001B[1;33m(\u001B[0m\u001B[0mpcap_csv\u001B[0m\u001B[1;33m,\u001B[0m\u001B[0mprocessed_csv_file\u001B[0m\u001B[1;33m,\u001B[0m\u001B[0moutput_file\u001B[0m\u001B[1;33m,\u001B[0m\u001B[1;36m1\u001B[0m\u001B[1;33m)\u001B[0m\u001B[1;33m\u001B[0m\u001B[1;33m\u001B[0m\u001B[0m\n\u001B[0m\u001B[0;32m     89\u001B[0m \u001B[1;33m\u001B[0m\u001B[0m\n\u001B[0;32m     90\u001B[0m             \u001B[1;31m### Labeling 22-1-2015\u001B[0m\u001B[1;33m\u001B[0m\u001B[1;33m\u001B[0m\u001B[1;33m\u001B[0m\u001B[0m\n",
      "\u001B[1;32m~\\PycharmProjects\\payloadbyte\\Functions\\Optimized_Parser_Labelling.py\u001B[0m in \u001B[0;36mlabel\u001B[1;34m(pcap_csv, UNSW_csv, output_file, file_num)\u001B[0m\n\u001B[0;32m    190\u001B[0m \u001B[1;32mdef\u001B[0m \u001B[0mlabel\u001B[0m\u001B[1;33m(\u001B[0m\u001B[0mpcap_csv\u001B[0m\u001B[1;33m,\u001B[0m\u001B[0mUNSW_csv\u001B[0m\u001B[1;33m,\u001B[0m\u001B[0moutput_file\u001B[0m\u001B[1;33m,\u001B[0m\u001B[0mfile_num\u001B[0m\u001B[1;33m)\u001B[0m\u001B[1;33m:\u001B[0m\u001B[1;33m\u001B[0m\u001B[1;33m\u001B[0m\u001B[0m\n\u001B[0;32m    191\u001B[0m     \u001B[0mlogging\u001B[0m\u001B[1;33m.\u001B[0m\u001B[0minfo\u001B[0m\u001B[1;33m(\u001B[0m\u001B[1;34m\"Reading Pre-processed UNSW CSV_file...\"\u001B[0m\u001B[1;33m)\u001B[0m\u001B[1;33m\u001B[0m\u001B[1;33m\u001B[0m\u001B[0m\n\u001B[1;32m--> 192\u001B[1;33m     \u001B[0mdf_UNSW_csv\u001B[0m\u001B[1;33m=\u001B[0m\u001B[0mpd\u001B[0m\u001B[1;33m.\u001B[0m\u001B[0mread_csv\u001B[0m\u001B[1;33m(\u001B[0m\u001B[0mUNSW_csv\u001B[0m\u001B[1;33m)\u001B[0m\u001B[1;33m\u001B[0m\u001B[1;33m\u001B[0m\u001B[0m\n\u001B[0m\u001B[0;32m    193\u001B[0m     \u001B[0mdf_pre\u001B[0m\u001B[1;33m=\u001B[0m\u001B[0mdf_UNSW_csv\u001B[0m\u001B[1;33m[\u001B[0m\u001B[1;33m[\u001B[0m\u001B[1;34m'stime'\u001B[0m\u001B[1;33m,\u001B[0m\u001B[1;34m'ltime'\u001B[0m\u001B[1;33m,\u001B[0m\u001B[1;34m'srcip'\u001B[0m\u001B[1;33m,\u001B[0m\u001B[1;34m'dstip'\u001B[0m\u001B[1;33m,\u001B[0m\u001B[1;34m'dsport'\u001B[0m\u001B[1;33m,\u001B[0m\u001B[1;34m'sport'\u001B[0m\u001B[1;33m,\u001B[0m\u001B[1;34m'sttl'\u001B[0m\u001B[1;33m,\u001B[0m\u001B[1;34m'proto'\u001B[0m\u001B[1;33m,\u001B[0m\u001B[1;34m'dur'\u001B[0m\u001B[1;33m,\u001B[0m\u001B[1;34m'attack_cat'\u001B[0m\u001B[1;33m,\u001B[0m\u001B[1;34m'label'\u001B[0m\u001B[1;33m]\u001B[0m\u001B[1;33m]\u001B[0m\u001B[1;33m\u001B[0m\u001B[1;33m\u001B[0m\u001B[0m\n\u001B[0;32m    194\u001B[0m \u001B[1;33m\u001B[0m\u001B[0m\n",
      "\u001B[1;32m~\\PycharmProjects\\payloadbyte\\.venv\\lib\\site-packages\\pandas\\util\\_decorators.py\u001B[0m in \u001B[0;36mwrapper\u001B[1;34m(*args, **kwargs)\u001B[0m\n\u001B[0;32m    309\u001B[0m                     \u001B[0mstacklevel\u001B[0m\u001B[1;33m=\u001B[0m\u001B[0mstacklevel\u001B[0m\u001B[1;33m,\u001B[0m\u001B[1;33m\u001B[0m\u001B[1;33m\u001B[0m\u001B[0m\n\u001B[0;32m    310\u001B[0m                 )\n\u001B[1;32m--> 311\u001B[1;33m             \u001B[1;32mreturn\u001B[0m \u001B[0mfunc\u001B[0m\u001B[1;33m(\u001B[0m\u001B[1;33m*\u001B[0m\u001B[0margs\u001B[0m\u001B[1;33m,\u001B[0m \u001B[1;33m**\u001B[0m\u001B[0mkwargs\u001B[0m\u001B[1;33m)\u001B[0m\u001B[1;33m\u001B[0m\u001B[1;33m\u001B[0m\u001B[0m\n\u001B[0m\u001B[0;32m    312\u001B[0m \u001B[1;33m\u001B[0m\u001B[0m\n\u001B[0;32m    313\u001B[0m         \u001B[1;32mreturn\u001B[0m \u001B[0mwrapper\u001B[0m\u001B[1;33m\u001B[0m\u001B[1;33m\u001B[0m\u001B[0m\n",
      "\u001B[1;32m~\\PycharmProjects\\payloadbyte\\.venv\\lib\\site-packages\\pandas\\io\\parsers\\readers.py\u001B[0m in \u001B[0;36mread_csv\u001B[1;34m(filepath_or_buffer, sep, delimiter, header, names, index_col, usecols, squeeze, prefix, mangle_dupe_cols, dtype, engine, converters, true_values, false_values, skipinitialspace, skiprows, skipfooter, nrows, na_values, keep_default_na, na_filter, verbose, skip_blank_lines, parse_dates, infer_datetime_format, keep_date_col, date_parser, dayfirst, cache_dates, iterator, chunksize, compression, thousands, decimal, lineterminator, quotechar, quoting, doublequote, escapechar, comment, encoding, encoding_errors, dialect, error_bad_lines, warn_bad_lines, on_bad_lines, delim_whitespace, low_memory, memory_map, float_precision, storage_options)\u001B[0m\n\u001B[0;32m    584\u001B[0m     \u001B[0mkwds\u001B[0m\u001B[1;33m.\u001B[0m\u001B[0mupdate\u001B[0m\u001B[1;33m(\u001B[0m\u001B[0mkwds_defaults\u001B[0m\u001B[1;33m)\u001B[0m\u001B[1;33m\u001B[0m\u001B[1;33m\u001B[0m\u001B[0m\n\u001B[0;32m    585\u001B[0m \u001B[1;33m\u001B[0m\u001B[0m\n\u001B[1;32m--> 586\u001B[1;33m     \u001B[1;32mreturn\u001B[0m \u001B[0m_read\u001B[0m\u001B[1;33m(\u001B[0m\u001B[0mfilepath_or_buffer\u001B[0m\u001B[1;33m,\u001B[0m \u001B[0mkwds\u001B[0m\u001B[1;33m)\u001B[0m\u001B[1;33m\u001B[0m\u001B[1;33m\u001B[0m\u001B[0m\n\u001B[0m\u001B[0;32m    587\u001B[0m \u001B[1;33m\u001B[0m\u001B[0m\n\u001B[0;32m    588\u001B[0m \u001B[1;33m\u001B[0m\u001B[0m\n",
      "\u001B[1;32m~\\PycharmProjects\\payloadbyte\\.venv\\lib\\site-packages\\pandas\\io\\parsers\\readers.py\u001B[0m in \u001B[0;36m_read\u001B[1;34m(filepath_or_buffer, kwds)\u001B[0m\n\u001B[0;32m    480\u001B[0m \u001B[1;33m\u001B[0m\u001B[0m\n\u001B[0;32m    481\u001B[0m     \u001B[1;31m# Create the parser.\u001B[0m\u001B[1;33m\u001B[0m\u001B[1;33m\u001B[0m\u001B[1;33m\u001B[0m\u001B[0m\n\u001B[1;32m--> 482\u001B[1;33m     \u001B[0mparser\u001B[0m \u001B[1;33m=\u001B[0m \u001B[0mTextFileReader\u001B[0m\u001B[1;33m(\u001B[0m\u001B[0mfilepath_or_buffer\u001B[0m\u001B[1;33m,\u001B[0m \u001B[1;33m**\u001B[0m\u001B[0mkwds\u001B[0m\u001B[1;33m)\u001B[0m\u001B[1;33m\u001B[0m\u001B[1;33m\u001B[0m\u001B[0m\n\u001B[0m\u001B[0;32m    483\u001B[0m \u001B[1;33m\u001B[0m\u001B[0m\n\u001B[0;32m    484\u001B[0m     \u001B[1;32mif\u001B[0m \u001B[0mchunksize\u001B[0m \u001B[1;32mor\u001B[0m \u001B[0miterator\u001B[0m\u001B[1;33m:\u001B[0m\u001B[1;33m\u001B[0m\u001B[1;33m\u001B[0m\u001B[0m\n",
      "\u001B[1;32m~\\PycharmProjects\\payloadbyte\\.venv\\lib\\site-packages\\pandas\\io\\parsers\\readers.py\u001B[0m in \u001B[0;36m__init__\u001B[1;34m(self, f, engine, **kwds)\u001B[0m\n\u001B[0;32m    809\u001B[0m             \u001B[0mself\u001B[0m\u001B[1;33m.\u001B[0m\u001B[0moptions\u001B[0m\u001B[1;33m[\u001B[0m\u001B[1;34m\"has_index_names\"\u001B[0m\u001B[1;33m]\u001B[0m \u001B[1;33m=\u001B[0m \u001B[0mkwds\u001B[0m\u001B[1;33m[\u001B[0m\u001B[1;34m\"has_index_names\"\u001B[0m\u001B[1;33m]\u001B[0m\u001B[1;33m\u001B[0m\u001B[1;33m\u001B[0m\u001B[0m\n\u001B[0;32m    810\u001B[0m \u001B[1;33m\u001B[0m\u001B[0m\n\u001B[1;32m--> 811\u001B[1;33m         \u001B[0mself\u001B[0m\u001B[1;33m.\u001B[0m\u001B[0m_engine\u001B[0m \u001B[1;33m=\u001B[0m \u001B[0mself\u001B[0m\u001B[1;33m.\u001B[0m\u001B[0m_make_engine\u001B[0m\u001B[1;33m(\u001B[0m\u001B[0mself\u001B[0m\u001B[1;33m.\u001B[0m\u001B[0mengine\u001B[0m\u001B[1;33m)\u001B[0m\u001B[1;33m\u001B[0m\u001B[1;33m\u001B[0m\u001B[0m\n\u001B[0m\u001B[0;32m    812\u001B[0m \u001B[1;33m\u001B[0m\u001B[0m\n\u001B[0;32m    813\u001B[0m     \u001B[1;32mdef\u001B[0m \u001B[0mclose\u001B[0m\u001B[1;33m(\u001B[0m\u001B[0mself\u001B[0m\u001B[1;33m)\u001B[0m\u001B[1;33m:\u001B[0m\u001B[1;33m\u001B[0m\u001B[1;33m\u001B[0m\u001B[0m\n",
      "\u001B[1;32m~\\PycharmProjects\\payloadbyte\\.venv\\lib\\site-packages\\pandas\\io\\parsers\\readers.py\u001B[0m in \u001B[0;36m_make_engine\u001B[1;34m(self, engine)\u001B[0m\n\u001B[0;32m   1038\u001B[0m             )\n\u001B[0;32m   1039\u001B[0m         \u001B[1;31m# error: Too many arguments for \"ParserBase\"\u001B[0m\u001B[1;33m\u001B[0m\u001B[1;33m\u001B[0m\u001B[1;33m\u001B[0m\u001B[0m\n\u001B[1;32m-> 1040\u001B[1;33m         \u001B[1;32mreturn\u001B[0m \u001B[0mmapping\u001B[0m\u001B[1;33m[\u001B[0m\u001B[0mengine\u001B[0m\u001B[1;33m]\u001B[0m\u001B[1;33m(\u001B[0m\u001B[0mself\u001B[0m\u001B[1;33m.\u001B[0m\u001B[0mf\u001B[0m\u001B[1;33m,\u001B[0m \u001B[1;33m**\u001B[0m\u001B[0mself\u001B[0m\u001B[1;33m.\u001B[0m\u001B[0moptions\u001B[0m\u001B[1;33m)\u001B[0m  \u001B[1;31m# type: ignore[call-arg]\u001B[0m\u001B[1;33m\u001B[0m\u001B[1;33m\u001B[0m\u001B[0m\n\u001B[0m\u001B[0;32m   1041\u001B[0m \u001B[1;33m\u001B[0m\u001B[0m\n\u001B[0;32m   1042\u001B[0m     \u001B[1;32mdef\u001B[0m \u001B[0m_failover_to_python\u001B[0m\u001B[1;33m(\u001B[0m\u001B[0mself\u001B[0m\u001B[1;33m)\u001B[0m\u001B[1;33m:\u001B[0m\u001B[1;33m\u001B[0m\u001B[1;33m\u001B[0m\u001B[0m\n",
      "\u001B[1;32m~\\PycharmProjects\\payloadbyte\\.venv\\lib\\site-packages\\pandas\\io\\parsers\\c_parser_wrapper.py\u001B[0m in \u001B[0;36m__init__\u001B[1;34m(self, src, **kwds)\u001B[0m\n\u001B[0;32m     49\u001B[0m \u001B[1;33m\u001B[0m\u001B[0m\n\u001B[0;32m     50\u001B[0m         \u001B[1;31m# open handles\u001B[0m\u001B[1;33m\u001B[0m\u001B[1;33m\u001B[0m\u001B[1;33m\u001B[0m\u001B[0m\n\u001B[1;32m---> 51\u001B[1;33m         \u001B[0mself\u001B[0m\u001B[1;33m.\u001B[0m\u001B[0m_open_handles\u001B[0m\u001B[1;33m(\u001B[0m\u001B[0msrc\u001B[0m\u001B[1;33m,\u001B[0m \u001B[0mkwds\u001B[0m\u001B[1;33m)\u001B[0m\u001B[1;33m\u001B[0m\u001B[1;33m\u001B[0m\u001B[0m\n\u001B[0m\u001B[0;32m     52\u001B[0m         \u001B[1;32massert\u001B[0m \u001B[0mself\u001B[0m\u001B[1;33m.\u001B[0m\u001B[0mhandles\u001B[0m \u001B[1;32mis\u001B[0m \u001B[1;32mnot\u001B[0m \u001B[1;32mNone\u001B[0m\u001B[1;33m\u001B[0m\u001B[1;33m\u001B[0m\u001B[0m\n\u001B[0;32m     53\u001B[0m \u001B[1;33m\u001B[0m\u001B[0m\n",
      "\u001B[1;32m~\\PycharmProjects\\payloadbyte\\.venv\\lib\\site-packages\\pandas\\io\\parsers\\base_parser.py\u001B[0m in \u001B[0;36m_open_handles\u001B[1;34m(self, src, kwds)\u001B[0m\n\u001B[0;32m    227\u001B[0m             \u001B[0mmemory_map\u001B[0m\u001B[1;33m=\u001B[0m\u001B[0mkwds\u001B[0m\u001B[1;33m.\u001B[0m\u001B[0mget\u001B[0m\u001B[1;33m(\u001B[0m\u001B[1;34m\"memory_map\"\u001B[0m\u001B[1;33m,\u001B[0m \u001B[1;32mFalse\u001B[0m\u001B[1;33m)\u001B[0m\u001B[1;33m,\u001B[0m\u001B[1;33m\u001B[0m\u001B[1;33m\u001B[0m\u001B[0m\n\u001B[0;32m    228\u001B[0m             \u001B[0mstorage_options\u001B[0m\u001B[1;33m=\u001B[0m\u001B[0mkwds\u001B[0m\u001B[1;33m.\u001B[0m\u001B[0mget\u001B[0m\u001B[1;33m(\u001B[0m\u001B[1;34m\"storage_options\"\u001B[0m\u001B[1;33m,\u001B[0m \u001B[1;32mNone\u001B[0m\u001B[1;33m)\u001B[0m\u001B[1;33m,\u001B[0m\u001B[1;33m\u001B[0m\u001B[1;33m\u001B[0m\u001B[0m\n\u001B[1;32m--> 229\u001B[1;33m             \u001B[0merrors\u001B[0m\u001B[1;33m=\u001B[0m\u001B[0mkwds\u001B[0m\u001B[1;33m.\u001B[0m\u001B[0mget\u001B[0m\u001B[1;33m(\u001B[0m\u001B[1;34m\"encoding_errors\"\u001B[0m\u001B[1;33m,\u001B[0m \u001B[1;34m\"strict\"\u001B[0m\u001B[1;33m)\u001B[0m\u001B[1;33m,\u001B[0m\u001B[1;33m\u001B[0m\u001B[1;33m\u001B[0m\u001B[0m\n\u001B[0m\u001B[0;32m    230\u001B[0m         )\n\u001B[0;32m    231\u001B[0m \u001B[1;33m\u001B[0m\u001B[0m\n",
      "\u001B[1;32m~\\PycharmProjects\\payloadbyte\\.venv\\lib\\site-packages\\pandas\\io\\common.py\u001B[0m in \u001B[0;36mget_handle\u001B[1;34m(path_or_buf, mode, encoding, compression, memory_map, is_text, errors, storage_options)\u001B[0m\n\u001B[0;32m    705\u001B[0m                 \u001B[0mencoding\u001B[0m\u001B[1;33m=\u001B[0m\u001B[0mioargs\u001B[0m\u001B[1;33m.\u001B[0m\u001B[0mencoding\u001B[0m\u001B[1;33m,\u001B[0m\u001B[1;33m\u001B[0m\u001B[1;33m\u001B[0m\u001B[0m\n\u001B[0;32m    706\u001B[0m                 \u001B[0merrors\u001B[0m\u001B[1;33m=\u001B[0m\u001B[0merrors\u001B[0m\u001B[1;33m,\u001B[0m\u001B[1;33m\u001B[0m\u001B[1;33m\u001B[0m\u001B[0m\n\u001B[1;32m--> 707\u001B[1;33m                 \u001B[0mnewline\u001B[0m\u001B[1;33m=\u001B[0m\u001B[1;34m\"\"\u001B[0m\u001B[1;33m,\u001B[0m\u001B[1;33m\u001B[0m\u001B[1;33m\u001B[0m\u001B[0m\n\u001B[0m\u001B[0;32m    708\u001B[0m             )\n\u001B[0;32m    709\u001B[0m         \u001B[1;32melse\u001B[0m\u001B[1;33m:\u001B[0m\u001B[1;33m\u001B[0m\u001B[1;33m\u001B[0m\u001B[0m\n",
      "\u001B[1;31mFileNotFoundError\u001B[0m: [Errno 2] No such file or directory: './UNSW_preprocessed.csv/'"
     ]
    }
   ],
   "execution_count": 3
  },
  {
   "cell_type": "code",
   "id": "394d4042",
   "metadata": {
    "ExecuteTime": {
     "end_time": "2025-05-08T21:22:12.240130Z",
     "start_time": "2025-05-08T21:22:12.228107Z"
    }
   },
   "source": [
    "df.attack_cat.value_counts()"
   ],
   "outputs": [
    {
     "data": {
      "text/plain": [
       "normal            117802\n",
       "exploits             378\n",
       "fuzzers              260\n",
       "reconnaissance       215\n",
       "dos                   93\n",
       "generic               68\n",
       "shellcode             31\n",
       "backdoor              12\n",
       "analysis               2\n",
       "Name: attack_cat, dtype: int64"
      ]
     },
     "execution_count": 4,
     "metadata": {},
     "output_type": "execute_result"
    }
   ],
   "execution_count": 4
  },
  {
   "cell_type": "code",
   "id": "cdc122f0-4d58-42ad-a6e9-fc0df1672837",
   "metadata": {
    "ExecuteTime": {
     "end_time": "2025-05-08T21:22:12.365925Z",
     "start_time": "2025-05-08T21:22:12.350875Z"
    }
   },
   "source": [
    "df.protocol_m.value_counts()"
   ],
   "outputs": [
    {
     "data": {
      "text/plain": [
       "tcp     107255\n",
       "udp      11441\n",
       "ospf        90\n",
       "arp         61\n",
       "sctp         7\n",
       "gre          7\n",
       "Name: protocol_m, dtype: int64"
      ]
     },
     "execution_count": 5,
     "metadata": {},
     "output_type": "execute_result"
    }
   ],
   "execution_count": 5
  },
  {
   "metadata": {
    "ExecuteTime": {
     "end_time": "2025-05-08T21:24:26.584692Z",
     "start_time": "2025-05-08T21:24:26.570152Z"
    }
   },
   "cell_type": "code",
   "source": "df[\"attack_cat\"].value_counts()",
   "id": "e196ea626763217a",
   "outputs": [
    {
     "data": {
      "text/plain": [
       "normal            117802\n",
       "exploits             378\n",
       "fuzzers              260\n",
       "reconnaissance       215\n",
       "dos                   93\n",
       "generic               68\n",
       "shellcode             31\n",
       "backdoor              12\n",
       "analysis               2\n",
       "Name: attack_cat, dtype: int64"
      ]
     },
     "execution_count": 9,
     "metadata": {},
     "output_type": "execute_result"
    }
   ],
   "execution_count": 9
  }
 ],
 "metadata": {
  "kernelspec": {
   "display_name": "Python 3.7.13 ('New')",
   "language": "python",
   "name": "python3"
  },
  "language_info": {
   "codemirror_mode": {
    "name": "ipython",
    "version": 3
   },
   "file_extension": ".py",
   "mimetype": "text/x-python",
   "name": "python",
   "nbconvert_exporter": "python",
   "pygments_lexer": "ipython3",
   "version": "3.9.13"
  }
 },
 "nbformat": 4,
 "nbformat_minor": 5
}
