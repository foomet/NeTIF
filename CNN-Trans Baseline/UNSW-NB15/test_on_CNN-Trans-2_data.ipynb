{
 "cells": [
  {
   "metadata": {
    "ExecuteTime": {
     "end_time": "2025-05-14T09:46:39.591630Z",
     "start_time": "2025-05-14T09:46:37.011431Z"
    }
   },
   "cell_type": "code",
   "source": [
    "import warnings\n",
    "warnings.filterwarnings(\"ignore\")\n",
    "import tensorflow.keras as keras\n",
    "\n",
    "from tensorflow.keras.models import Model,load_model\n",
    "from tensorflow.keras import Input\n",
    "from tensorflow.keras.layers import concatenate,Dense,Flatten,Dropout\n",
    "from tensorflow.keras.preprocessing.image import  ImageDataGenerator\n",
    "import tensorflow.keras.callbacks as kcallbacks\n",
    "import os\n",
    "import math\n",
    "from tensorflow.keras.utils import plot_model\n",
    "from tensorflow.keras.callbacks import EarlyStopping, ReduceLROnPlateau, ModelCheckpoint, LearningRateScheduler\n",
    "from tensorflow.keras.optimizers import SGD\n",
    "import operator\n",
    "import numpy as np\n",
    "from PIL import Image           # pip install pillow\n",
    "from collections import defaultdict\n",
    "import time\n",
    "import cv2\n",
    "import matplotlib.pyplot as plt\n",
    "import time\n",
    "from sklearn.metrics import accuracy_score,precision_score,recall_score,f1_score\n",
    "from sklearn.metrics import classification_report, confusion_matrix\n",
    "from sklearn.metrics import accuracy_score,precision_score,recall_score,f1_score\n",
    "from sklearn.metrics import classification_report, confusion_matrix\n",
    "from sklearn.metrics import accuracy_score,precision_score,recall_score,f1_score\n",
    "# import tensorflow.keras as keras\n",
    "from tensorflow.keras.models import Model,load_model\n",
    "from tensorflow.keras import Input\n",
    "from tensorflow.keras.layers import concatenate,Dense,Flatten,Dropout,Average\n",
    "from tensorflow.keras.preprocessing.image import  ImageDataGenerator\n",
    "import tensorflow.keras.callbacks as kcallbacks\n",
    "import os\n",
    "import math\n",
    "from tensorflow.keras.utils import plot_model\n",
    "from tensorflow.keras.callbacks import EarlyStopping, ReduceLROnPlateau, ModelCheckpoint, LearningRateScheduler\n",
    "from tensorflow.keras.optimizers import SGD\n",
    "import operator\n",
    "import numpy as np\n",
    "from PIL import Image\n",
    "from collections import defaultdict\n",
    "import tensorflow as tf\n",
    "tf.compat.v1.logging.set_verbosity(tf.compat.v1.logging.ERROR)\n",
    "import os\n",
    "from sklearn.metrics import accuracy_score\n",
    "# import tensorflow.keras as keras\n",
    "from tensorflow.keras.models import Model,load_model\n",
    "from tensorflow.keras import Input\n",
    "from tensorflow.keras.layers import concatenate,Dense,Flatten,Dropout\n",
    "from tensorflow.keras.preprocessing.image import  ImageDataGenerator\n",
    "import tensorflow.keras.callbacks as kcallbacks\n",
    "import os\n",
    "import math\n",
    "from tensorflow.keras.utils import plot_model\n",
    "from tensorflow.keras.callbacks import EarlyStopping, ReduceLROnPlateau, ModelCheckpoint, LearningRateScheduler\n",
    "from tensorflow.keras.optimizers import SGD"
   ],
   "id": "dd228c86a3f6b5df",
   "outputs": [],
   "execution_count": 1
  },
  {
   "metadata": {
    "ExecuteTime": {
     "end_time": "2025-05-14T09:46:39.731937Z",
     "start_time": "2025-05-14T09:46:39.598632Z"
    }
   },
   "cell_type": "code",
   "source": [
    "\n",
    "TARGET_SIZE=(224,224)     \n",
    "INPUT_SIZE=(224,224,3)    \n",
    "BATCHSIZE=32           \n",
    "\n",
    "test_datagen = ImageDataGenerator(rescale=1./255)\n",
    "\n",
    "        \n",
    "validation_generator = test_datagen.flow_from_directory(\n",
    "            './test_shuffled_224/',\n",
    "            target_size=TARGET_SIZE,\n",
    "            batch_size=BATCHSIZE,\n",
    "            class_mode='categorical')"
   ],
   "id": "6e4b81ac1c677ab9",
   "outputs": [
    {
     "name": "stdout",
     "output_type": "stream",
     "text": [
      "Found 311 images belonging to 10 classes.\n"
     ]
    }
   ],
   "execution_count": 2
  },
  {
   "metadata": {
    "ExecuteTime": {
     "end_time": "2025-05-14T09:46:39.886098Z",
     "start_time": "2025-05-14T09:46:39.871999Z"
    }
   },
   "cell_type": "code",
   "source": [
    "#generate labels indicating class\n",
    "label=validation_generator.class_indices\n",
    "label={v: k for k, v in label.items()}"
   ],
   "id": "841dd6146a732074",
   "outputs": [],
   "execution_count": 3
  },
  {
   "metadata": {
    "ExecuteTime": {
     "end_time": "2025-05-14T09:46:46.494625Z",
     "start_time": "2025-05-14T09:46:39.902352Z"
    }
   },
   "cell_type": "code",
   "source": [
    " #load model 1: xception\n",
    "xception_model = load_model('./xception.h5')\n",
    "#load model 2: VGG16\n",
    "vgg_model = load_model('./VGG16.h5')\n",
    "#load model 3: VGG19\n",
    "vgg19_model = load_model('./VGG19.h5')\n",
    "#load model 4: inception\n",
    "incep_model = load_model('./inception.h5')\n",
    "#load model 5: inceptionresnet\n",
    "inres_model = load_model('./inceptionresnet.h5')"
   ],
   "id": "2f4828f642ff6093",
   "outputs": [],
   "execution_count": 4
  },
  {
   "metadata": {
    "ExecuteTime": {
     "end_time": "2025-05-14T09:48:14.153253Z",
     "start_time": "2025-05-14T09:48:14.058360Z"
    }
   },
   "cell_type": "code",
   "source": [
    "model1=Model(inputs=[xception_model.layers[0].get_input_at(0)],outputs=xception_model.get_layer('dense_1').output,name='xception')\n",
    "model2=Model(inputs=[vgg_model.layers[0].get_input_at(0)],outputs=vgg_model.get_layer('dense_3').output,name='vgg')\n",
    "model3=Model(inputs=[vgg19_model.layers[0].get_input_at(0)],outputs=vgg19_model.get_layer('dense_5').output,name='vgg19')\n",
    "model4=Model(inputs=[incep_model.layers[0].get_input_at(0)],outputs=incep_model.get_layer('dense_7').output,name='incep')\n",
    "model5=Model(inputs=[inres_model.layers[0].get_input_at(0)],outputs=inres_model.get_layer('dense_9').output,name='inres')"
   ],
   "id": "2fa68a266c5af156",
   "outputs": [],
   "execution_count": 6
  },
  {
   "metadata": {
    "ExecuteTime": {
     "end_time": "2025-05-14T09:48:14.557334Z",
     "start_time": "2025-05-14T09:48:14.545159Z"
    }
   },
   "cell_type": "code",
   "source": [
    "def build_ensemble_model(num_class):\n",
    "    img = Input(shape=(224, 224, 3), name='img')\n",
    "    feature1 = model1(img)\n",
    "    feature2 = model2(img)\n",
    "    feature3 = model3(img)\n",
    "    x = concatenate([feature1, feature2, feature3])\n",
    "    x = Dropout(0.5)(x)\n",
    "    x = Dense(64, activation='relu')(x)\n",
    "    x = Dropout(0.25)(x)\n",
    "    output = Dense(num_class, activation='softmax', name='output')(x)\n",
    "    model = Model(inputs=img, outputs=output)\n",
    "    return model\n",
    "\n",
    "def load_finished_ensemble_model():\n",
    "    model=build_ensemble_model(num_class=10)\n",
    "    model.load_weights('./ensemble.h5')\n",
    "    return model"
   ],
   "id": "ac77d63914e2d0c3",
   "outputs": [],
   "execution_count": 7
  },
  {
   "metadata": {
    "ExecuteTime": {
     "end_time": "2025-05-14T09:48:17.811586Z",
     "start_time": "2025-05-14T09:48:16.537198Z"
    }
   },
   "cell_type": "code",
   "source": "ensemble_model=load_model('./ensemble.h5')",
   "id": "57c1587e61388350",
   "outputs": [],
   "execution_count": 9
  },
  {
   "metadata": {
    "ExecuteTime": {
     "end_time": "2025-05-14T09:48:21.233989Z",
     "start_time": "2025-05-14T09:48:21.224839Z"
    }
   },
   "cell_type": "code",
   "source": [
    "#read images from validation folder\n",
    "\n",
    "\n",
    "rootdir = './test_shuffled_224/'\n",
    "\n",
    "test_laels = []\n",
    "test_images=[]\n",
    "for subdir, dirs, files in os.walk(rootdir):\n",
    "    for file in files:\n",
    "        if not (file.endswith(\".jpeg\"))|(file.endswith(\".jpg\"))|(file.endswith(\".png\")):\n",
    "            continue\n",
    "        test_laels.append(subdir.split('/')[-1])\n",
    "        test_images.append(os.path.join(subdir, file))\n",
    "        \n",
    "print(test_laels[0],test_images[0])"
   ],
   "id": "bd46ea136c7972a4",
   "outputs": [
    {
     "name": "stdout",
     "output_type": "stream",
     "text": [
      "0 ./test_shuffled_224/0\\11650.png\n"
     ]
    }
   ],
   "execution_count": 10
  },
  {
   "metadata": {
    "ExecuteTime": {
     "end_time": "2025-05-14T09:48:56.777010Z",
     "start_time": "2025-05-14T09:48:22.201470Z"
    }
   },
   "cell_type": "code",
   "source": [
    "#test the averaging model on the validation set\n",
    "\n",
    "predict=[]\n",
    "length=len(test_images)\n",
    "t1 = time.time()\n",
    "for i in range((length//127)+1):\n",
    "    inputimg=test_images[127*i:127*(i+1)]\n",
    "    test_batch=[]\n",
    "    for path in inputimg:\n",
    "        thisimg=np.array(Image.open(path))/255\n",
    "        test_batch.append(thisimg)\n",
    "    #print(i, np.array(test_batch).shape)\n",
    "    ensemble_model_batch=ensemble_model.predict(np.array(test_batch))\n",
    "    predict_batch=list(np.argmax(ensemble_model_batch,axis=1))\n",
    "    predict_batch=[label[con] for con in predict_batch]\n",
    "    predict.append(predict_batch)\n",
    "\n",
    "predict=sum(predict,[])\n",
    "\n",
    "t2 = time.time()\n",
    "print('The testing time is :%f seconds' % (t2-t1))"
   ],
   "id": "f29ed3173ce9f7f",
   "outputs": [
    {
     "name": "stdout",
     "output_type": "stream",
     "text": [
      "The testing time is :34.567217 seconds\n"
     ]
    }
   ],
   "execution_count": 11
  },
  {
   "metadata": {
    "ExecuteTime": {
     "end_time": "2025-05-14T09:48:56.869795Z",
     "start_time": "2025-05-14T09:48:56.858515Z"
    }
   },
   "cell_type": "code",
   "source": [
    "\n",
    "acc=accuracy_score(test_laels,predict)\n",
    "print('Concatenation accuracy:%s'%acc)"
   ],
   "id": "be84056d138b9763",
   "outputs": [
    {
     "name": "stdout",
     "output_type": "stream",
     "text": [
      "Concatenation accuracy:0.12540192926045016\n"
     ]
    }
   ],
   "execution_count": 12
  },
  {
   "metadata": {
    "ExecuteTime": {
     "end_time": "2025-05-14T09:48:56.963652Z",
     "start_time": "2025-05-14T09:48:56.938022Z"
    }
   },
   "cell_type": "code",
   "source": [
    "acc=accuracy_score(test_laels,predict)\n",
    "pre=precision_score(test_laels,predict,average='weighted')\n",
    "re=recall_score(test_laels,predict,average='weighted')\n",
    "f1=f1_score(test_laels,predict,average='weighted')\n",
    "print('ensemble accuracy: %s'%acc)\n",
    "print('precision: %s'%pre)\n",
    "print('recall: %s'%re)\n",
    "print('f1: %s'%f1)\n",
    "\n",
    "print(confusion_matrix(test_laels, predict))\n",
    "target_names = ['0', '1','2','3','4', '5', '6', '7', '8', '9']\n",
    "print(classification_report(test_laels, predict, target_names=target_names))"
   ],
   "id": "5e16f906e8d517a2",
   "outputs": [
    {
     "name": "stdout",
     "output_type": "stream",
     "text": [
      "ensemble accuracy: 0.12540192926045016\n",
      "precision: 0.03193577126926179\n",
      "recall: 0.12540192926045016\n",
      "f1: 0.04666405607981778\n",
      "[[ 0  0 11  0  0  0  0 25  0  0]\n",
      " [ 0  0 16  0  0  0  0 19  0  0]\n",
      " [ 0  0 14  0  0  0  0 23  0  0]\n",
      " [ 0  0  1  0  0  0  0 29  0  0]\n",
      " [ 0  0  6  0  0  0  0 23  0  0]\n",
      " [ 0  0  6  0  0  0  0 28  0  0]\n",
      " [ 0  0  7  0  0  0  0 26  0  0]\n",
      " [ 0  0  2  0  0  0  0 25  0  0]\n",
      " [ 0  0  9  0  0  0  0 19  0  0]\n",
      " [ 0  0  1  0  0  0  0 21  0  0]]\n",
      "              precision    recall  f1-score   support\n",
      "\n",
      "           0       0.00      0.00      0.00        36\n",
      "           1       0.00      0.00      0.00        35\n",
      "           2       0.19      0.38      0.25        37\n",
      "           3       0.00      0.00      0.00        30\n",
      "           4       0.00      0.00      0.00        29\n",
      "           5       0.00      0.00      0.00        34\n",
      "           6       0.00      0.00      0.00        33\n",
      "           7       0.11      0.93      0.19        27\n",
      "           8       0.00      0.00      0.00        28\n",
      "           9       0.00      0.00      0.00        22\n",
      "\n",
      "    accuracy                           0.13       311\n",
      "   macro avg       0.03      0.13      0.04       311\n",
      "weighted avg       0.03      0.13      0.05       311\n",
      "\n"
     ]
    }
   ],
   "execution_count": 13
  },
  {
   "metadata": {
    "ExecuteTime": {
     "end_time": "2025-05-14T09:48:56.994287Z",
     "start_time": "2025-05-14T09:48:56.979777Z"
    }
   },
   "cell_type": "code",
   "source": "label_map = {0: 'analysis', 1: 'backdoor', 2: 'dos', 3: 'exploits', 4: 'fuzzers', 5: 'generic', 6: 'normal', 7:'reconnaissance', 8:'shellcode', 9:'worms'}",
   "id": "8498b83c0094bc2e",
   "outputs": [],
   "execution_count": 14
  },
  {
   "metadata": {
    "ExecuteTime": {
     "end_time": "2025-05-14T09:48:57.025655Z",
     "start_time": "2025-05-14T09:48:57.011537Z"
    }
   },
   "cell_type": "code",
   "source": [
    "y_true_list = [int(i) for i in test_laels]\n",
    "y_pred_list = [int(i) for i in predict]"
   ],
   "id": "e5e94aeff0c0164c",
   "outputs": [],
   "execution_count": 15
  },
  {
   "metadata": {
    "ExecuteTime": {
     "end_time": "2025-05-14T09:48:57.056540Z",
     "start_time": "2025-05-14T09:48:57.043395Z"
    }
   },
   "cell_type": "code",
   "source": [
    "# Map the label values to their corresponding names using list comprehension\n",
    "y_true_mapped = [label_map[y] for y in y_true_list]\n",
    "y_pred_mapped = [label_map[y] for y in y_pred_list]\n",
    "\n",
    "# Generate the classification report\n",
    "print(classification_report(y_true_mapped, y_pred_mapped, zero_division=1))\n",
    "print('\\n')\n",
    "print('                    Confusion Matrix')\n",
    "\n",
    "report = classification_report(y_true_mapped, y_pred_mapped, zero_division=1, output_dict=True)\n",
    "\n",
    "cm = confusion_matrix(y_true_mapped, y_pred_mapped)\n",
    "per_class_accuracy = cm.diagonal() / cm.sum(axis=1)\n",
    "\n",
    "for class_label, acc in zip(report.keys(), per_class_accuracy):\n",
    "    if class_label not in ['accuracy', 'macro avg', 'weighted avg']:\n",
    "        print(f\"Class {class_label} Accuracy: {acc * 100:.2f}%\")"
   ],
   "id": "b6f945f777c8e9f9",
   "outputs": [
    {
     "name": "stdout",
     "output_type": "stream",
     "text": [
      "                precision    recall  f1-score   support\n",
      "\n",
      "      analysis       1.00      0.00      0.00        36\n",
      "      backdoor       1.00      0.00      0.00        35\n",
      "           dos       0.19      0.38      0.25        37\n",
      "      exploits       1.00      0.00      0.00        30\n",
      "       fuzzers       1.00      0.00      0.00        29\n",
      "       generic       1.00      0.00      0.00        34\n",
      "        normal       1.00      0.00      0.00        33\n",
      "reconnaissance       0.11      0.93      0.19        27\n",
      "     shellcode       1.00      0.00      0.00        28\n",
      "         worms       1.00      0.00      0.00        22\n",
      "\n",
      "      accuracy                           0.13       311\n",
      "     macro avg       0.83      0.13      0.04       311\n",
      "  weighted avg       0.83      0.13      0.05       311\n",
      "\n",
      "\n",
      "\n",
      "                    Confusion Matrix\n",
      "Class analysis Accuracy: 0.00%\n",
      "Class backdoor Accuracy: 0.00%\n",
      "Class dos Accuracy: 37.84%\n",
      "Class exploits Accuracy: 0.00%\n",
      "Class fuzzers Accuracy: 0.00%\n",
      "Class generic Accuracy: 0.00%\n",
      "Class normal Accuracy: 0.00%\n",
      "Class reconnaissance Accuracy: 92.59%\n",
      "Class shellcode Accuracy: 0.00%\n",
      "Class worms Accuracy: 0.00%\n"
     ]
    }
   ],
   "execution_count": 16
  },
  {
   "metadata": {
    "ExecuteTime": {
     "end_time": "2025-05-14T09:48:57.103170Z",
     "start_time": "2025-05-14T09:48:57.088934Z"
    }
   },
   "cell_type": "code",
   "source": [
    "y_true_mapped = [label_map[y] for y in y_true_list]\n",
    "y_pred_mapped = [label_map[y] for y in y_pred_list]\n",
    "\n",
    "report = classification_report(y_true_mapped, y_pred_mapped, zero_division=1, output_dict=True)\n",
    "\n",
    "cm = confusion_matrix(y_true_mapped, y_pred_mapped)\n",
    "per_class_accuracy = cm.diagonal() / cm.sum(axis=1)\n",
    "\n",
    "for label, metrics in report.items():\n",
    "    if isinstance(metrics, dict):  # skip accuracy, macro avg, etc.\n",
    "        print(f\"\\nClass: {label}\")\n",
    "        for metric_name, value in metrics.items():\n",
    "            print(f\"  {metric_name}: {value:.3f}\")\n",
    "\n",
    "for class_label, acc in zip(report.keys(), per_class_accuracy):\n",
    "    if class_label not in ['accuracy', 'macro avg', 'weighted avg']:\n",
    "        print(f\"Class {class_label} Accuracy: {acc * 100:.3f}%\")\n",
    "        "
   ],
   "id": "b267e84636fa953",
   "outputs": [
    {
     "name": "stdout",
     "output_type": "stream",
     "text": [
      "\n",
      "Class: analysis\n",
      "  precision: 1.000\n",
      "  recall: 0.000\n",
      "  f1-score: 0.000\n",
      "  support: 36.000\n",
      "\n",
      "Class: backdoor\n",
      "  precision: 1.000\n",
      "  recall: 0.000\n",
      "  f1-score: 0.000\n",
      "  support: 35.000\n",
      "\n",
      "Class: dos\n",
      "  precision: 0.192\n",
      "  recall: 0.378\n",
      "  f1-score: 0.255\n",
      "  support: 37.000\n",
      "\n",
      "Class: exploits\n",
      "  precision: 1.000\n",
      "  recall: 0.000\n",
      "  f1-score: 0.000\n",
      "  support: 30.000\n",
      "\n",
      "Class: fuzzers\n",
      "  precision: 1.000\n",
      "  recall: 0.000\n",
      "  f1-score: 0.000\n",
      "  support: 29.000\n",
      "\n",
      "Class: generic\n",
      "  precision: 1.000\n",
      "  recall: 0.000\n",
      "  f1-score: 0.000\n",
      "  support: 34.000\n",
      "\n",
      "Class: normal\n",
      "  precision: 1.000\n",
      "  recall: 0.000\n",
      "  f1-score: 0.000\n",
      "  support: 33.000\n",
      "\n",
      "Class: reconnaissance\n",
      "  precision: 0.105\n",
      "  recall: 0.926\n",
      "  f1-score: 0.189\n",
      "  support: 27.000\n",
      "\n",
      "Class: shellcode\n",
      "  precision: 1.000\n",
      "  recall: 0.000\n",
      "  f1-score: 0.000\n",
      "  support: 28.000\n",
      "\n",
      "Class: worms\n",
      "  precision: 1.000\n",
      "  recall: 0.000\n",
      "  f1-score: 0.000\n",
      "  support: 22.000\n",
      "\n",
      "Class: macro avg\n",
      "  precision: 0.830\n",
      "  recall: 0.130\n",
      "  f1-score: 0.044\n",
      "  support: 311.000\n",
      "\n",
      "Class: weighted avg\n",
      "  precision: 0.826\n",
      "  recall: 0.125\n",
      "  f1-score: 0.047\n",
      "  support: 311.000\n",
      "Class analysis Accuracy: 0.000%\n",
      "Class backdoor Accuracy: 0.000%\n",
      "Class dos Accuracy: 37.838%\n",
      "Class exploits Accuracy: 0.000%\n",
      "Class fuzzers Accuracy: 0.000%\n",
      "Class generic Accuracy: 0.000%\n",
      "Class normal Accuracy: 0.000%\n",
      "Class reconnaissance Accuracy: 92.593%\n",
      "Class shellcode Accuracy: 0.000%\n",
      "Class worms Accuracy: 0.000%\n"
     ]
    }
   ],
   "execution_count": 17
  },
  {
   "metadata": {
    "ExecuteTime": {
     "end_time": "2025-05-14T09:48:57.137323Z",
     "start_time": "2025-05-14T09:48:57.119316Z"
    }
   },
   "cell_type": "code",
   "source": [
    "print(classification_report(y_true_mapped, y_pred_mapped, zero_division=1))\n",
    "print('\\n')\n",
    "print('                    Confusion Matrix')"
   ],
   "id": "a923df2c9af42eae",
   "outputs": [
    {
     "name": "stdout",
     "output_type": "stream",
     "text": [
      "                precision    recall  f1-score   support\n",
      "\n",
      "      analysis       1.00      0.00      0.00        36\n",
      "      backdoor       1.00      0.00      0.00        35\n",
      "           dos       0.19      0.38      0.25        37\n",
      "      exploits       1.00      0.00      0.00        30\n",
      "       fuzzers       1.00      0.00      0.00        29\n",
      "       generic       1.00      0.00      0.00        34\n",
      "        normal       1.00      0.00      0.00        33\n",
      "reconnaissance       0.11      0.93      0.19        27\n",
      "     shellcode       1.00      0.00      0.00        28\n",
      "         worms       1.00      0.00      0.00        22\n",
      "\n",
      "      accuracy                           0.13       311\n",
      "     macro avg       0.83      0.13      0.04       311\n",
      "  weighted avg       0.83      0.13      0.05       311\n",
      "\n",
      "\n",
      "\n",
      "                    Confusion Matrix\n"
     ]
    }
   ],
   "execution_count": 18
  },
  {
   "metadata": {},
   "cell_type": "code",
   "outputs": [],
   "execution_count": null,
   "source": "",
   "id": "d30d1e99c4863795"
  }
 ],
 "metadata": {
  "kernelspec": {
   "display_name": "Python 3",
   "language": "python",
   "name": "python3"
  },
  "language_info": {
   "codemirror_mode": {
    "name": "ipython",
    "version": 2
   },
   "file_extension": ".py",
   "mimetype": "text/x-python",
   "name": "python",
   "nbconvert_exporter": "python",
   "pygments_lexer": "ipython2",
   "version": "2.7.6"
  }
 },
 "nbformat": 4,
 "nbformat_minor": 5
}
