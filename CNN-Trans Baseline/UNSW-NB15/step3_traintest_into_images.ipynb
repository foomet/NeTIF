{
 "cells": [
  {
   "metadata": {
    "ExecuteTime": {
     "end_time": "2025-05-14T20:07:03.253238Z",
     "start_time": "2025-05-14T20:07:02.305100Z"
    }
   },
   "cell_type": "code",
   "source": [
    "# Step 3\n",
    "import numpy as np\n",
    "import pandas as pd\n",
    "import os\n",
    "import cv2\n",
    "import math\n",
    "import random\n",
    "import matplotlib.pyplot as plt\n",
    "import shutil\n",
    "from sklearn.preprocessing import QuantileTransformer\n",
    "from PIL import Image\n",
    "import warnings\n",
    "import time\n",
    "warnings.filterwarnings(\"ignore\")"
   ],
   "id": "ac9c32374f588d43",
   "outputs": [],
   "execution_count": 1
  },
  {
   "metadata": {
    "ExecuteTime": {
     "end_time": "2025-05-14T20:07:03.332749Z",
     "start_time": "2025-05-14T20:07:03.256238Z"
    }
   },
   "cell_type": "code",
   "source": [
    "df = pd.read_csv('./UNSW_final_baseline_smote.csv') \n",
    "\n",
    "start_time = time.time()"
   ],
   "id": "69755fb25e485778",
   "outputs": [],
   "execution_count": 2
  },
  {
   "metadata": {
    "ExecuteTime": {
     "end_time": "2025-05-14T20:07:03.507080Z",
     "start_time": "2025-05-14T20:07:03.493260Z"
    }
   },
   "cell_type": "code",
   "source": "df.head()",
   "id": "b307a0fe48c1e742",
   "outputs": [
    {
     "data": {
      "text/plain": [
       "       sbytes  state       sloss        dttl  sport        swin      tcprtt  \\\n",
       "0  203.566066  255.0  198.971471  198.843844  255.0  133.881381  199.481982   \n",
       "1  203.566066  255.0  198.971471  198.843844  255.0  133.881381  199.481982   \n",
       "2  203.566066  255.0  198.971471  198.843844  255.0  133.881381  199.481982   \n",
       "3  203.566066  255.0  198.971471  198.843844  255.0  133.881381  199.481982   \n",
       "4  203.566066  255.0  198.971471  198.843844  255.0  133.881381  199.481982   \n",
       "\n",
       "          dur  is_sm_ips_ports  ct_state_ttl  ...  srcip        sjit  \\\n",
       "0  211.861862       225.007508    105.037538  ...  255.0  199.737237   \n",
       "1  211.861862       225.007508    105.037538  ...  255.0  199.737237   \n",
       "2  211.861862       225.007508    105.037538  ...  255.0  199.737237   \n",
       "3  211.861862       225.007508    105.037538  ...  255.0  199.737237   \n",
       "4  211.861862       225.007508    105.037538  ...  255.0  199.737237   \n",
       "\n",
       "        proto      spkts  dsport    flow_id      ackdat  trans_depth  \\\n",
       "0  126.989489  182.37988   255.0  31.904248  199.737237   226.156156   \n",
       "1  126.989489  182.37988   255.0  31.833235  199.737237   226.156156   \n",
       "2  126.989489  182.37988   255.0  31.839691  199.737237   226.156156   \n",
       "3  126.989489  182.37988   255.0  31.834311  199.737237   226.156156   \n",
       "4  126.989489  182.37988   255.0  31.875197  199.737237   226.156156   \n",
       "\n",
       "   res_bdy_len  label  \n",
       "0   227.687688      6  \n",
       "1   227.687688      6  \n",
       "2   227.687688      6  \n",
       "3   227.687688      6  \n",
       "4   227.687688      6  \n",
       "\n",
       "[5 rows x 21 columns]"
      ],
      "text/html": [
       "<div>\n",
       "<style scoped>\n",
       "    .dataframe tbody tr th:only-of-type {\n",
       "        vertical-align: middle;\n",
       "    }\n",
       "\n",
       "    .dataframe tbody tr th {\n",
       "        vertical-align: top;\n",
       "    }\n",
       "\n",
       "    .dataframe thead th {\n",
       "        text-align: right;\n",
       "    }\n",
       "</style>\n",
       "<table border=\"1\" class=\"dataframe\">\n",
       "  <thead>\n",
       "    <tr style=\"text-align: right;\">\n",
       "      <th></th>\n",
       "      <th>sbytes</th>\n",
       "      <th>state</th>\n",
       "      <th>sloss</th>\n",
       "      <th>dttl</th>\n",
       "      <th>sport</th>\n",
       "      <th>swin</th>\n",
       "      <th>tcprtt</th>\n",
       "      <th>dur</th>\n",
       "      <th>is_sm_ips_ports</th>\n",
       "      <th>ct_state_ttl</th>\n",
       "      <th>...</th>\n",
       "      <th>srcip</th>\n",
       "      <th>sjit</th>\n",
       "      <th>proto</th>\n",
       "      <th>spkts</th>\n",
       "      <th>dsport</th>\n",
       "      <th>flow_id</th>\n",
       "      <th>ackdat</th>\n",
       "      <th>trans_depth</th>\n",
       "      <th>res_bdy_len</th>\n",
       "      <th>label</th>\n",
       "    </tr>\n",
       "  </thead>\n",
       "  <tbody>\n",
       "    <tr>\n",
       "      <th>0</th>\n",
       "      <td>203.566066</td>\n",
       "      <td>255.0</td>\n",
       "      <td>198.971471</td>\n",
       "      <td>198.843844</td>\n",
       "      <td>255.0</td>\n",
       "      <td>133.881381</td>\n",
       "      <td>199.481982</td>\n",
       "      <td>211.861862</td>\n",
       "      <td>225.007508</td>\n",
       "      <td>105.037538</td>\n",
       "      <td>...</td>\n",
       "      <td>255.0</td>\n",
       "      <td>199.737237</td>\n",
       "      <td>126.989489</td>\n",
       "      <td>182.37988</td>\n",
       "      <td>255.0</td>\n",
       "      <td>31.904248</td>\n",
       "      <td>199.737237</td>\n",
       "      <td>226.156156</td>\n",
       "      <td>227.687688</td>\n",
       "      <td>6</td>\n",
       "    </tr>\n",
       "    <tr>\n",
       "      <th>1</th>\n",
       "      <td>203.566066</td>\n",
       "      <td>255.0</td>\n",
       "      <td>198.971471</td>\n",
       "      <td>198.843844</td>\n",
       "      <td>255.0</td>\n",
       "      <td>133.881381</td>\n",
       "      <td>199.481982</td>\n",
       "      <td>211.861862</td>\n",
       "      <td>225.007508</td>\n",
       "      <td>105.037538</td>\n",
       "      <td>...</td>\n",
       "      <td>255.0</td>\n",
       "      <td>199.737237</td>\n",
       "      <td>126.989489</td>\n",
       "      <td>182.37988</td>\n",
       "      <td>255.0</td>\n",
       "      <td>31.833235</td>\n",
       "      <td>199.737237</td>\n",
       "      <td>226.156156</td>\n",
       "      <td>227.687688</td>\n",
       "      <td>6</td>\n",
       "    </tr>\n",
       "    <tr>\n",
       "      <th>2</th>\n",
       "      <td>203.566066</td>\n",
       "      <td>255.0</td>\n",
       "      <td>198.971471</td>\n",
       "      <td>198.843844</td>\n",
       "      <td>255.0</td>\n",
       "      <td>133.881381</td>\n",
       "      <td>199.481982</td>\n",
       "      <td>211.861862</td>\n",
       "      <td>225.007508</td>\n",
       "      <td>105.037538</td>\n",
       "      <td>...</td>\n",
       "      <td>255.0</td>\n",
       "      <td>199.737237</td>\n",
       "      <td>126.989489</td>\n",
       "      <td>182.37988</td>\n",
       "      <td>255.0</td>\n",
       "      <td>31.839691</td>\n",
       "      <td>199.737237</td>\n",
       "      <td>226.156156</td>\n",
       "      <td>227.687688</td>\n",
       "      <td>6</td>\n",
       "    </tr>\n",
       "    <tr>\n",
       "      <th>3</th>\n",
       "      <td>203.566066</td>\n",
       "      <td>255.0</td>\n",
       "      <td>198.971471</td>\n",
       "      <td>198.843844</td>\n",
       "      <td>255.0</td>\n",
       "      <td>133.881381</td>\n",
       "      <td>199.481982</td>\n",
       "      <td>211.861862</td>\n",
       "      <td>225.007508</td>\n",
       "      <td>105.037538</td>\n",
       "      <td>...</td>\n",
       "      <td>255.0</td>\n",
       "      <td>199.737237</td>\n",
       "      <td>126.989489</td>\n",
       "      <td>182.37988</td>\n",
       "      <td>255.0</td>\n",
       "      <td>31.834311</td>\n",
       "      <td>199.737237</td>\n",
       "      <td>226.156156</td>\n",
       "      <td>227.687688</td>\n",
       "      <td>6</td>\n",
       "    </tr>\n",
       "    <tr>\n",
       "      <th>4</th>\n",
       "      <td>203.566066</td>\n",
       "      <td>255.0</td>\n",
       "      <td>198.971471</td>\n",
       "      <td>198.843844</td>\n",
       "      <td>255.0</td>\n",
       "      <td>133.881381</td>\n",
       "      <td>199.481982</td>\n",
       "      <td>211.861862</td>\n",
       "      <td>225.007508</td>\n",
       "      <td>105.037538</td>\n",
       "      <td>...</td>\n",
       "      <td>255.0</td>\n",
       "      <td>199.737237</td>\n",
       "      <td>126.989489</td>\n",
       "      <td>182.37988</td>\n",
       "      <td>255.0</td>\n",
       "      <td>31.875197</td>\n",
       "      <td>199.737237</td>\n",
       "      <td>226.156156</td>\n",
       "      <td>227.687688</td>\n",
       "      <td>6</td>\n",
       "    </tr>\n",
       "  </tbody>\n",
       "</table>\n",
       "<p>5 rows × 21 columns</p>\n",
       "</div>"
      ]
     },
     "execution_count": 3,
     "metadata": {},
     "output_type": "execute_result"
    }
   ],
   "execution_count": 3
  },
  {
   "metadata": {
    "ExecuteTime": {
     "end_time": "2025-05-14T20:07:03.569588Z",
     "start_time": "2025-05-14T20:07:03.554590Z"
    }
   },
   "cell_type": "code",
   "source": "df.label.value_counts()",
   "id": "25d6de523ce8d38d",
   "outputs": [
    {
     "data": {
      "text/plain": [
       "7    6342\n",
       "5    5612\n",
       "6    4048\n",
       "3    1800\n",
       "4    1800\n",
       "2    1800\n",
       "1    1800\n",
       "8    1800\n",
       "0    1800\n",
       "9    1800\n",
       "Name: label, dtype: int64"
      ]
     },
     "execution_count": 4,
     "metadata": {},
     "output_type": "execute_result"
    }
   ],
   "execution_count": 4
  },
  {
   "metadata": {
    "ExecuteTime": {
     "end_time": "2025-05-14T20:07:03.665099Z",
     "start_time": "2025-05-14T20:07:03.645098Z"
    }
   },
   "cell_type": "code",
   "source": [
    "df0=df[df['label']==0].drop(['label'],axis=1)\n",
    "df1=df[df['label']==1].drop(['label'],axis=1)\n",
    "df2=df[df['label']==2].drop(['label'],axis=1)\n",
    "df3=df[df['label']==3].drop(['label'],axis=1)\n",
    "df4=df[df['label']==4].drop(['label'],axis=1)\n",
    "df5=df[df['label']==5].drop(['label'],axis=1)\n",
    "df6=df[df['label']==6].drop(['label'],axis=1)\n",
    "df7=df[df['label']==7].drop(['label'],axis=1)\n",
    "df8=df[df['label']==8].drop(['label'],axis=1)\n",
    "df9=df[df['label']==9].drop(['label'],axis=1)\n"
   ],
   "id": "db78c49120be7e03",
   "outputs": [],
   "execution_count": 5
  },
  {
   "metadata": {
    "ExecuteTime": {
     "end_time": "2025-05-14T20:07:03.713104Z",
     "start_time": "2025-05-14T20:07:03.698101Z"
    }
   },
   "cell_type": "code",
   "source": "df.iloc[0]",
   "id": "a88e04ad169eba4e",
   "outputs": [
    {
     "data": {
      "text/plain": [
       "sbytes             203.566066\n",
       "state              255.000000\n",
       "sloss              198.971471\n",
       "dttl               198.843844\n",
       "sport              255.000000\n",
       "swin               133.881381\n",
       "tcprtt             199.481982\n",
       "dur                211.861862\n",
       "is_sm_ips_ports    225.007508\n",
       "ct_state_ttl       105.037538\n",
       "dstip              255.000000\n",
       "srcip              255.000000\n",
       "sjit               199.737237\n",
       "proto              126.989489\n",
       "spkts              182.379880\n",
       "dsport             255.000000\n",
       "flow_id             31.904248\n",
       "ackdat             199.737237\n",
       "trans_depth        226.156156\n",
       "res_bdy_len        227.687688\n",
       "label                6.000000\n",
       "Name: 0, dtype: float64"
      ]
     },
     "execution_count": 6,
     "metadata": {},
     "output_type": "execute_result"
    }
   ],
   "execution_count": 6
  },
  {
   "metadata": {
    "ExecuteTime": {
     "end_time": "2025-05-14T20:07:03.916634Z",
     "start_time": "2025-05-14T20:07:03.809618Z"
    }
   },
   "cell_type": "code",
   "source": [
    "# Generate images for class 0 \n",
    "\n",
    "count=0\n",
    "ims = []\n",
    "\n",
    "image_count = 0\n",
    "\n",
    "image_path = \"train/0/\"\n",
    "os.makedirs(image_path)\n",
    "\n",
    "for i in range(0, len(df0)):  \n",
    "    count=count+1\n",
    "    if count<=60: \n",
    "        im=df0.iloc[i].values\n",
    "        ims=np.append(ims,im)\n",
    "    else:\n",
    "        image_count = image_count + 1\n",
    "        ims=np.array(ims).reshape(20,20,3)\n",
    "        array = np.array(ims, dtype=np.uint8)\n",
    "        new_image = Image.fromarray(array)\n",
    "        new_image.save(image_path+str(i)+'.png')\n",
    "        count=0\n",
    "        ims = []\n",
    "    "
   ],
   "id": "1e4fe1c0a149444f",
   "outputs": [],
   "execution_count": 7
  },
  {
   "metadata": {
    "ExecuteTime": {
     "end_time": "2025-05-14T20:07:03.964637Z",
     "start_time": "2025-05-14T20:07:03.949637Z"
    }
   },
   "cell_type": "code",
   "source": "image_count",
   "id": "6972dbee07d9dcde",
   "outputs": [
    {
     "data": {
      "text/plain": [
       "29"
      ]
     },
     "execution_count": 8,
     "metadata": {},
     "output_type": "execute_result"
    }
   ],
   "execution_count": 8
  },
  {
   "metadata": {
    "ExecuteTime": {
     "end_time": "2025-05-14T20:07:04.122653Z",
     "start_time": "2025-05-14T20:07:04.031144Z"
    }
   },
   "cell_type": "code",
   "source": [
    "# Generate images for class 1\n",
    "\n",
    "count=0\n",
    "ims = []\n",
    "\n",
    "image_count = 0\n",
    "\n",
    "image_path = \"train/1/\"\n",
    "os.makedirs(image_path)\n",
    "\n",
    "for i in range(0, len(df1)):  \n",
    "    count=count+1\n",
    "    if count<=60: \n",
    "        im=df1.iloc[i].values\n",
    "        ims=np.append(ims,im)\n",
    "    else:\n",
    "        image_count = image_count + 1\n",
    "        ims=np.array(ims).reshape(20,20,3)\n",
    "        array = np.array(ims, dtype=np.uint8)\n",
    "        new_image = Image.fromarray(array)\n",
    "        new_image.save(image_path+str(i)+'.png')\n",
    "        count=0\n",
    "        ims = []\n",
    "    "
   ],
   "id": "141bf0ac2903b146",
   "outputs": [],
   "execution_count": 9
  },
  {
   "metadata": {
    "ExecuteTime": {
     "end_time": "2025-05-14T20:07:04.138655Z",
     "start_time": "2025-05-14T20:07:04.129655Z"
    }
   },
   "cell_type": "code",
   "source": "image_count",
   "id": "f44e64bc7a8dda62",
   "outputs": [
    {
     "data": {
      "text/plain": [
       "29"
      ]
     },
     "execution_count": 10,
     "metadata": {},
     "output_type": "execute_result"
    }
   ],
   "execution_count": 10
  },
  {
   "metadata": {
    "ExecuteTime": {
     "end_time": "2025-05-14T20:07:04.297167Z",
     "start_time": "2025-05-14T20:07:04.202658Z"
    }
   },
   "cell_type": "code",
   "source": [
    "# Generate images for class 2\n",
    "count=0\n",
    "ims = []\n",
    "\n",
    "image_count = 0\n",
    "\n",
    "image_path = \"train/2/\"\n",
    "os.makedirs(image_path)\n",
    "\n",
    "for i in range(0, len(df2)):  \n",
    "    \n",
    "    count=count+1\n",
    "    if count<=60: \n",
    "        im=df2.iloc[i].values\n",
    "        ims=np.append(ims,im)\n",
    "    else:\n",
    "        image_count = image_count + 1\n",
    "        ims=np.array(ims).reshape(20,20,3)\n",
    "        array = np.array(ims, dtype=np.uint8)\n",
    "        new_image = Image.fromarray(array)\n",
    "        new_image.save(image_path+str(i)+'.png')\n",
    "        count=0\n",
    "        ims = []"
   ],
   "id": "9b92e28fbc0826c2",
   "outputs": [],
   "execution_count": 11
  },
  {
   "metadata": {
    "ExecuteTime": {
     "end_time": "2025-05-14T20:07:04.376683Z",
     "start_time": "2025-05-14T20:07:04.361684Z"
    }
   },
   "cell_type": "code",
   "source": "image_count",
   "id": "bb6a0f025b33c34a",
   "outputs": [
    {
     "data": {
      "text/plain": [
       "29"
      ]
     },
     "execution_count": 12,
     "metadata": {},
     "output_type": "execute_result"
    }
   ],
   "execution_count": 12
  },
  {
   "metadata": {
    "ExecuteTime": {
     "end_time": "2025-05-14T20:07:04.533702Z",
     "start_time": "2025-05-14T20:07:04.440192Z"
    }
   },
   "cell_type": "code",
   "source": [
    "# Generate images for class 3\n",
    "count=0\n",
    "ims = []\n",
    "\n",
    "image_count = 0\n",
    "\n",
    "image_path = \"train/3/\"\n",
    "os.makedirs(image_path)\n",
    "\n",
    "for i in range(0, len(df3)):  \n",
    "    count=count+1\n",
    "    if count<=60: \n",
    "        im=df3.iloc[i].values\n",
    "        ims=np.append(ims,im)\n",
    "    else:\n",
    "        image_count = image_count + 1\n",
    "        ims=np.array(ims).reshape(20,20,3)\n",
    "        array = np.array(ims, dtype=np.uint8)\n",
    "        new_image = Image.fromarray(array)\n",
    "        new_image.save(image_path+str(i)+'.png')\n",
    "        count=0\n",
    "        ims = []\n",
    "    "
   ],
   "id": "c1ed1b2edbfdc194",
   "outputs": [],
   "execution_count": 13
  },
  {
   "metadata": {
    "ExecuteTime": {
     "end_time": "2025-05-14T20:07:04.597701Z",
     "start_time": "2025-05-14T20:07:04.582703Z"
    }
   },
   "cell_type": "code",
   "source": "image_count",
   "id": "3b1132c712c78753",
   "outputs": [
    {
     "data": {
      "text/plain": [
       "29"
      ]
     },
     "execution_count": 14,
     "metadata": {},
     "output_type": "execute_result"
    }
   ],
   "execution_count": 14
  },
  {
   "metadata": {
    "ExecuteTime": {
     "end_time": "2025-05-14T20:07:04.739721Z",
     "start_time": "2025-05-14T20:07:04.646214Z"
    }
   },
   "cell_type": "code",
   "source": [
    "# Generate images for class 4 \n",
    "count=0\n",
    "ims = []\n",
    "\n",
    "image_count = 0\n",
    "\n",
    "image_path = \"train/4/\"\n",
    "os.makedirs(image_path)\n",
    "\n",
    "for i in range(0, len(df4)):  \n",
    "    \n",
    "    count=count+1\n",
    "    if count<=60: \n",
    "        im=df4.iloc[i].values\n",
    "        ims=np.append(ims,im)\n",
    "    else:\n",
    "        image_count = image_count + 1\n",
    "        ims=np.array(ims).reshape(20,20,3)\n",
    "        array = np.array(ims, dtype=np.uint8)\n",
    "        new_image = Image.fromarray(array)\n",
    "        new_image.save(image_path+str(i)+'.png')\n",
    "        count=0\n",
    "        ims = []\n",
    "    "
   ],
   "id": "3bcd9e535fd2fd13",
   "outputs": [],
   "execution_count": 15
  },
  {
   "metadata": {
    "ExecuteTime": {
     "end_time": "2025-05-14T20:07:04.817233Z",
     "start_time": "2025-05-14T20:07:04.802727Z"
    }
   },
   "cell_type": "code",
   "source": "image_count",
   "id": "98527eda15464354",
   "outputs": [
    {
     "data": {
      "text/plain": [
       "29"
      ]
     },
     "execution_count": 16,
     "metadata": {},
     "output_type": "execute_result"
    }
   ],
   "execution_count": 16
  },
  {
   "metadata": {
    "ExecuteTime": {
     "end_time": "2025-05-14T20:07:05.132756Z",
     "start_time": "2025-05-14T20:07:04.881233Z"
    }
   },
   "cell_type": "code",
   "source": [
    "# Generate images for class 5 \n",
    "count=0\n",
    "ims = []\n",
    "\n",
    "image_count = 0\n",
    "\n",
    "image_path = \"train/5/\"\n",
    "os.makedirs(image_path)\n",
    "\n",
    "for i in range(0, len(df5)):  \n",
    "    \n",
    "    count=count+1\n",
    "    if count<=60: \n",
    "        im=df5.iloc[i].values\n",
    "        ims=np.append(ims,im)\n",
    "    else:\n",
    "        image_count = image_count + 1\n",
    "        ims=np.array(ims).reshape(20,20,3)\n",
    "        array = np.array(ims, dtype=np.uint8)\n",
    "        new_image = Image.fromarray(array)\n",
    "        new_image.save(image_path+str(i)+'.png')\n",
    "        count=0\n",
    "        ims = []\n",
    "    "
   ],
   "id": "eb5bee1086e6de0",
   "outputs": [],
   "execution_count": 17
  },
  {
   "metadata": {
    "ExecuteTime": {
     "end_time": "2025-05-14T20:07:05.210761Z",
     "start_time": "2025-05-14T20:07:05.195760Z"
    }
   },
   "cell_type": "code",
   "source": "image_count",
   "id": "7b717eda3c8a0da5",
   "outputs": [
    {
     "data": {
      "text/plain": [
       "92"
      ]
     },
     "execution_count": 18,
     "metadata": {},
     "output_type": "execute_result"
    }
   ],
   "execution_count": 18
  },
  {
   "metadata": {
    "ExecuteTime": {
     "end_time": "2025-05-14T20:07:05.448290Z",
     "start_time": "2025-05-14T20:07:05.259272Z"
    }
   },
   "cell_type": "code",
   "source": [
    "# Generate images for class 6 \n",
    "count=0\n",
    "ims = []\n",
    "\n",
    "image_count = 0\n",
    "\n",
    "image_path = \"train/6/\"\n",
    "os.makedirs(image_path)\n",
    "\n",
    "for i in range(0, len(df6)):  \n",
    "    \n",
    "    count=count+1\n",
    "    if count<=60: \n",
    "        im=df6.iloc[i].values\n",
    "        ims=np.append(ims,im)\n",
    "    else:\n",
    "        image_count = image_count + 1\n",
    "        ims=np.array(ims).reshape(20,20,3)\n",
    "        array = np.array(ims, dtype=np.uint8)\n",
    "        new_image = Image.fromarray(array)\n",
    "        new_image.save(image_path+str(i)+'.png')\n",
    "        count=0\n",
    "        ims = []\n",
    "    "
   ],
   "id": "fef2950b3c3f05a3",
   "outputs": [],
   "execution_count": 19
  },
  {
   "metadata": {
    "ExecuteTime": {
     "end_time": "2025-05-14T20:07:05.512296Z",
     "start_time": "2025-05-14T20:07:05.497292Z"
    }
   },
   "cell_type": "code",
   "source": "image_count",
   "id": "dd640cae455b7ae4",
   "outputs": [
    {
     "data": {
      "text/plain": [
       "66"
      ]
     },
     "execution_count": 20,
     "metadata": {},
     "output_type": "execute_result"
    }
   ],
   "execution_count": 20
  },
  {
   "metadata": {
    "ExecuteTime": {
     "end_time": "2025-05-14T20:07:05.892336Z",
     "start_time": "2025-05-14T20:07:05.575808Z"
    }
   },
   "cell_type": "code",
   "source": [
    "# Generate images for class 7 \n",
    "count=0\n",
    "ims = []\n",
    "\n",
    "image_count = 0\n",
    "\n",
    "image_path = \"train/7/\"\n",
    "os.makedirs(image_path)\n",
    "\n",
    "for i in range(0, len(df7)):  \n",
    "    \n",
    "    count=count+1\n",
    "    if count<=60: \n",
    "        im=df7.iloc[i].values\n",
    "        ims=np.append(ims,im)\n",
    "    else:\n",
    "        image_count = image_count + 1\n",
    "        ims=np.array(ims).reshape(20,20,3)\n",
    "        array = np.array(ims, dtype=np.uint8)\n",
    "        new_image = Image.fromarray(array)\n",
    "        new_image.save(image_path+str(i)+'.png')\n",
    "        count=0\n",
    "        ims = []\n",
    "    "
   ],
   "id": "bf10f4e1e74eb934",
   "outputs": [],
   "execution_count": 21
  },
  {
   "metadata": {
    "ExecuteTime": {
     "end_time": "2025-05-14T20:07:05.971848Z",
     "start_time": "2025-05-14T20:07:05.956850Z"
    }
   },
   "cell_type": "code",
   "source": "image_count",
   "id": "b485f42bc45821be",
   "outputs": [
    {
     "data": {
      "text/plain": [
       "103"
      ]
     },
     "execution_count": 22,
     "metadata": {},
     "output_type": "execute_result"
    }
   ],
   "execution_count": 22
  },
  {
   "metadata": {
    "ExecuteTime": {
     "end_time": "2025-05-14T20:07:06.130866Z",
     "start_time": "2025-05-14T20:07:06.036359Z"
    }
   },
   "cell_type": "code",
   "source": [
    "# Generate images for class 8 \n",
    "count=0\n",
    "ims = []\n",
    "\n",
    "image_count = 0\n",
    "\n",
    "image_path = \"train/8/\"\n",
    "os.makedirs(image_path)\n",
    "\n",
    "for i in range(0, len(df8)):  \n",
    "    \n",
    "    count=count+1\n",
    "    if count<=60: \n",
    "        im=df8.iloc[i].values\n",
    "        ims=np.append(ims,im)\n",
    "    else:\n",
    "        image_count = image_count + 1\n",
    "        ims=np.array(ims).reshape(20,20,3)\n",
    "        array = np.array(ims, dtype=np.uint8)\n",
    "        new_image = Image.fromarray(array)\n",
    "        new_image.save(image_path+str(i)+'.png')\n",
    "        count=0\n",
    "        ims = []\n",
    "    "
   ],
   "id": "d18e8a554c8c2cc1",
   "outputs": [],
   "execution_count": 23
  },
  {
   "metadata": {
    "ExecuteTime": {
     "end_time": "2025-05-14T20:07:06.210872Z",
     "start_time": "2025-05-14T20:07:06.195867Z"
    }
   },
   "cell_type": "code",
   "source": "image_count",
   "id": "63a32be3df44964d",
   "outputs": [
    {
     "data": {
      "text/plain": [
       "29"
      ]
     },
     "execution_count": 24,
     "metadata": {},
     "output_type": "execute_result"
    }
   ],
   "execution_count": 24
  },
  {
   "metadata": {
    "ExecuteTime": {
     "end_time": "2025-05-14T20:07:06.367891Z",
     "start_time": "2025-05-14T20:07:06.274382Z"
    }
   },
   "cell_type": "code",
   "source": [
    "# Generate images for class 9 \n",
    "count=0\n",
    "ims = []\n",
    "\n",
    "image_count = 0\n",
    "\n",
    "image_path = \"train/9/\"\n",
    "os.makedirs(image_path)\n",
    "\n",
    "for i in range(0, len(df9)):  \n",
    "    \n",
    "    count=count+1\n",
    "    if count<=60: \n",
    "        im=df9.iloc[i].values\n",
    "        ims=np.append(ims,im)\n",
    "    else:\n",
    "        image_count = image_count + 1\n",
    "        ims=np.array(ims).reshape(20,20,3)\n",
    "        array = np.array(ims, dtype=np.uint8)\n",
    "        new_image = Image.fromarray(array)\n",
    "        new_image.save(image_path+str(i)+'.png')\n",
    "        count=0\n",
    "        ims = []\n",
    "    "
   ],
   "id": "c5181dbf625126b5",
   "outputs": [],
   "execution_count": 25
  },
  {
   "metadata": {
    "ExecuteTime": {
     "end_time": "2025-05-14T20:07:06.446402Z",
     "start_time": "2025-05-14T20:07:06.431403Z"
    }
   },
   "cell_type": "code",
   "source": "image_count",
   "id": "a31d202028c0352b",
   "outputs": [
    {
     "data": {
      "text/plain": [
       "29"
      ]
     },
     "execution_count": 26,
     "metadata": {},
     "output_type": "execute_result"
    }
   ],
   "execution_count": 26
  },
  {
   "metadata": {
    "ExecuteTime": {
     "end_time": "2025-05-14T20:07:06.525920Z",
     "start_time": "2025-05-14T20:07:06.511408Z"
    }
   },
   "cell_type": "code",
   "source": [
    "# Create folders to store images\n",
    "Train_Dir='./train/'\n",
    "Val_Dir='./test/'\n",
    "allimgs=[]\n",
    "for subdir in os.listdir(Train_Dir):\n",
    "    for filename in os.listdir(os.path.join(Train_Dir,subdir)):\n",
    "        filepath=os.path.join(Train_Dir,subdir,filename)\n",
    "        allimgs.append(filepath)\n",
    "print(len(allimgs)) # Print the total number of images"
   ],
   "id": "55445e89b94263e6",
   "outputs": [
    {
     "name": "stdout",
     "output_type": "stream",
     "text": [
      "464\n"
     ]
    }
   ],
   "execution_count": 27
  },
  {
   "metadata": {
    "ExecuteTime": {
     "end_time": "2025-05-14T20:07:06.589921Z",
     "start_time": "2025-05-14T20:07:06.574923Z"
    }
   },
   "cell_type": "code",
   "source": [
    "#split a test set from the dataset, train/test size = 80%/20%\n",
    "Numbers=len(allimgs)//5 \t#size of test set (20%)\n",
    "\n",
    "def mymovefile(srcfile,dstfile):\n",
    "    if not os.path.isfile(srcfile):\n",
    "        print (\"%s not exist!\"%(srcfile))\n",
    "    else:\n",
    "        fpath,fname=os.path.split(dstfile)    \n",
    "        if not os.path.exists(fpath):\n",
    "            os.makedirs(fpath)               \n",
    "        shutil.move(srcfile,dstfile)          \n",
    "        #print (\"move %s -> %s\"%(srcfile,dstfile))"
   ],
   "id": "54452abf93bb6213",
   "outputs": [],
   "execution_count": 28
  },
  {
   "metadata": {
    "ExecuteTime": {
     "end_time": "2025-05-14T20:07:06.669435Z",
     "start_time": "2025-05-14T20:07:06.654436Z"
    }
   },
   "cell_type": "code",
   "source": [
    "# The size of test set\n",
    "Numbers"
   ],
   "id": "e1150cccd90ac865",
   "outputs": [
    {
     "data": {
      "text/plain": [
       "92"
      ]
     },
     "execution_count": 29,
     "metadata": {},
     "output_type": "execute_result"
    }
   ],
   "execution_count": 29
  },
  {
   "metadata": {
    "ExecuteTime": {
     "end_time": "2025-05-14T20:07:06.747946Z",
     "start_time": "2025-05-14T20:07:06.732947Z"
    }
   },
   "cell_type": "code",
   "source": [
    "Numbers = int(Numbers)\n",
    "Numbers"
   ],
   "id": "54d35e227225c05",
   "outputs": [
    {
     "data": {
      "text/plain": [
       "92"
      ]
     },
     "execution_count": 30,
     "metadata": {},
     "output_type": "execute_result"
    }
   ],
   "execution_count": 30
  },
  {
   "metadata": {
    "ExecuteTime": {
     "end_time": "2025-05-14T20:07:06.843463Z",
     "start_time": "2025-05-14T20:07:06.812951Z"
    }
   },
   "cell_type": "code",
   "source": [
    "# Create the test set\n",
    "val_imgs=random.sample(allimgs,Numbers)\n",
    "for img in val_imgs:\n",
    "    dest_path=img.replace(Train_Dir,Val_Dir)\n",
    "    mymovefile(img,dest_path)\n",
    "print('Finish creating test set')"
   ],
   "id": "23799c970bc369ee",
   "outputs": [
    {
     "name": "stdout",
     "output_type": "stream",
     "text": [
      "Finish creating test set\n"
     ]
    }
   ],
   "execution_count": 31
  },
  {
   "metadata": {
    "ExecuteTime": {
     "end_time": "2025-05-14T20:07:06.922976Z",
     "start_time": "2025-05-14T20:07:06.911467Z"
    }
   },
   "cell_type": "code",
   "source": [
    "#resize the images 224*224 for better CNN training\n",
    "def get_224(folder,dstdir):\n",
    "    imgfilepaths=[]\n",
    "    for root,dirs,imgs in os.walk(folder):\n",
    "        for thisimg in imgs:\n",
    "            thisimg_path=os.path.join(root,thisimg)\n",
    "            imgfilepaths.append(thisimg_path)\n",
    "    for thisimg_path in imgfilepaths:\n",
    "        dir_name,filename=os.path.split(thisimg_path)\n",
    "        dir_name=dir_name.replace(folder,dstdir)\n",
    "        new_file_path=os.path.join(dir_name,filename)\n",
    "        if not os.path.exists(dir_name):\n",
    "            os.makedirs(dir_name)\n",
    "        img=cv2.imread(thisimg_path)\n",
    "        img=cv2.resize(img,(224,224))\n",
    "        cv2.imwrite(new_file_path,img)\n",
    "    print('Finish resizing'.format(folder=folder))"
   ],
   "id": "933168fb59e5fa3f",
   "outputs": [],
   "execution_count": 32
  },
  {
   "metadata": {
    "ExecuteTime": {
     "end_time": "2025-05-14T20:07:09.323250Z",
     "start_time": "2025-05-14T20:07:06.987976Z"
    }
   },
   "cell_type": "code",
   "source": [
    "DATA_DIR_224='./train_224/'\n",
    "get_224(folder='./train/',dstdir=DATA_DIR_224)"
   ],
   "id": "b019a1dc5b048418",
   "outputs": [
    {
     "name": "stdout",
     "output_type": "stream",
     "text": [
      "Finish resizing\n"
     ]
    }
   ],
   "execution_count": 33
  },
  {
   "metadata": {
    "ExecuteTime": {
     "end_time": "2025-05-14T20:07:09.975317Z",
     "start_time": "2025-05-14T20:07:09.379252Z"
    }
   },
   "cell_type": "code",
   "source": [
    "DATA_DIR2_224='./test_224/'\n",
    "get_224(folder='./test/',dstdir=DATA_DIR2_224)"
   ],
   "id": "a36cfb53dc4efb92",
   "outputs": [
    {
     "name": "stdout",
     "output_type": "stream",
     "text": [
      "Finish resizing\n"
     ]
    }
   ],
   "execution_count": 34
  },
  {
   "metadata": {
    "ExecuteTime": {
     "end_time": "2025-05-14T20:07:10.054826Z",
     "start_time": "2025-05-14T20:07:10.038828Z"
    }
   },
   "cell_type": "code",
   "source": [
    "end_time = time.time()\n",
    "print(f\"Elapsed time: {end_time-start_time} seconds.\")"
   ],
   "id": "fd9724c79921fcc7",
   "outputs": [
    {
     "name": "stdout",
     "output_type": "stream",
     "text": [
      "Elapsed time: 6.721078634262085 seconds.\n"
     ]
    }
   ],
   "execution_count": 35
  },
  {
   "metadata": {
    "ExecuteTime": {
     "end_time": "2025-05-14T20:07:10.134334Z",
     "start_time": "2025-05-14T20:07:10.123335Z"
    }
   },
   "cell_type": "code",
   "source": "",
   "id": "f5f5e417a9f12c81",
   "outputs": [],
   "execution_count": null
  }
 ],
 "metadata": {
  "kernelspec": {
   "display_name": "Python 3",
   "language": "python",
   "name": "python3"
  },
  "language_info": {
   "codemirror_mode": {
    "name": "ipython",
    "version": 2
   },
   "file_extension": ".py",
   "mimetype": "text/x-python",
   "name": "python",
   "nbconvert_exporter": "python",
   "pygments_lexer": "ipython2",
   "version": "2.7.6"
  }
 },
 "nbformat": 4,
 "nbformat_minor": 5
}
