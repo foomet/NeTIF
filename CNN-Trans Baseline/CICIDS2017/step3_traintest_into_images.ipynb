{
 "cells": [
  {
   "metadata": {
    "ExecuteTime": {
     "end_time": "2025-05-14T19:55:00.594533Z",
     "start_time": "2025-05-14T19:54:59.525150Z"
    }
   },
   "cell_type": "code",
   "source": [
    "# Step 3\n",
    "import numpy as np\n",
    "import pandas as pd\n",
    "import os\n",
    "import cv2\n",
    "import math\n",
    "import random\n",
    "import matplotlib.pyplot as plt\n",
    "import shutil\n",
    "from sklearn.preprocessing import QuantileTransformer\n",
    "from PIL import Image\n",
    "import warnings\n",
    "import time\n",
    "warnings.filterwarnings(\"ignore\")"
   ],
   "id": "ac9c32374f588d43",
   "outputs": [],
   "execution_count": 1
  },
  {
   "metadata": {
    "ExecuteTime": {
     "end_time": "2025-05-14T19:55:00.761056Z",
     "start_time": "2025-05-14T19:55:00.596726Z"
    }
   },
   "cell_type": "code",
   "source": [
    "df = pd.read_csv('./CICIDS_final_baseline_smote.csv')  # was './CICIDS-7-number-packets-to-flows_FINAL.csv'\n",
    "\n",
    "start_time = time.time()"
   ],
   "id": "69755fb25e485778",
   "outputs": [],
   "execution_count": 2
  },
  {
   "metadata": {
    "ExecuteTime": {
     "end_time": "2025-05-14T19:55:00.983190Z",
     "start_time": "2025-05-14T19:55:00.963314Z"
    }
   },
   "cell_type": "code",
   "source": "df.head()",
   "id": "b307a0fe48c1e742",
   "outputs": [
    {
     "data": {
      "text/plain": [
       "   Total Length of Fwd Packets  Bwd IAT Min  Fwd IAT Total  Flow IAT Std  \\\n",
       "0                          0.0          0.0      102.74024           0.0   \n",
       "1                          0.0          0.0      102.74024           0.0   \n",
       "2                          0.0          0.0      102.74024           0.0   \n",
       "3                          0.0          0.0      102.74024           0.0   \n",
       "4                          0.0          0.0      102.74024           0.0   \n",
       "\n",
       "   Bwd PSH Flags  Fwd URG Flags  Bwd URG Flags  Fwd Header Length  \\\n",
       "0            0.0            0.0            0.0         125.713213   \n",
       "1            0.0            0.0            0.0         125.713213   \n",
       "2            0.0            0.0            0.0         125.713213   \n",
       "3            0.0            0.0            0.0         125.713213   \n",
       "4            0.0            0.0            0.0         125.713213   \n",
       "\n",
       "   Total Fwd Packets  Fwd Packet Length Min  ...  Flow Bytes/s  \\\n",
       "0         119.842342                    0.0  ...           0.0   \n",
       "1         119.842342                    0.0  ...           0.0   \n",
       "2         119.842342                    0.0  ...           0.0   \n",
       "3         119.842342                    0.0  ...           0.0   \n",
       "4         119.842342                    0.0  ...           0.0   \n",
       "\n",
       "   Total Length of Bwd Packets  Fwd Packet Length Max  Flow IAT Mean  \\\n",
       "0                          0.0                    0.0      10.720721   \n",
       "1                          0.0                    0.0      10.720721   \n",
       "2                          0.0                    0.0      10.720721   \n",
       "3                          0.0                    0.0      10.720721   \n",
       "4                          0.0                    0.0      10.720721   \n",
       "\n",
       "   Bwd Packet Length Mean  Flow Packets/s  Bwd Header Length  \\\n",
       "0                     0.0      245.427928                0.0   \n",
       "1                     0.0      245.427928                0.0   \n",
       "2                     0.0      245.427928                0.0   \n",
       "3                     0.0      245.427928                0.0   \n",
       "4                     0.0      245.427928                0.0   \n",
       "\n",
       "   Bwd Packet Length Min  Bwd Packet Length Max  Label  \n",
       "0                    0.0                    0.0      2  \n",
       "1                    0.0                    0.0      2  \n",
       "2                    0.0                    0.0      2  \n",
       "3                    0.0                    0.0      2  \n",
       "4                    0.0                    0.0      2  \n",
       "\n",
       "[5 rows x 21 columns]"
      ],
      "text/html": [
       "<div>\n",
       "<style scoped>\n",
       "    .dataframe tbody tr th:only-of-type {\n",
       "        vertical-align: middle;\n",
       "    }\n",
       "\n",
       "    .dataframe tbody tr th {\n",
       "        vertical-align: top;\n",
       "    }\n",
       "\n",
       "    .dataframe thead th {\n",
       "        text-align: right;\n",
       "    }\n",
       "</style>\n",
       "<table border=\"1\" class=\"dataframe\">\n",
       "  <thead>\n",
       "    <tr style=\"text-align: right;\">\n",
       "      <th></th>\n",
       "      <th>Total Length of Fwd Packets</th>\n",
       "      <th>Bwd IAT Min</th>\n",
       "      <th>Fwd IAT Total</th>\n",
       "      <th>Flow IAT Std</th>\n",
       "      <th>Bwd PSH Flags</th>\n",
       "      <th>Fwd URG Flags</th>\n",
       "      <th>Bwd URG Flags</th>\n",
       "      <th>Fwd Header Length</th>\n",
       "      <th>Total Fwd Packets</th>\n",
       "      <th>Fwd Packet Length Min</th>\n",
       "      <th>...</th>\n",
       "      <th>Flow Bytes/s</th>\n",
       "      <th>Total Length of Bwd Packets</th>\n",
       "      <th>Fwd Packet Length Max</th>\n",
       "      <th>Flow IAT Mean</th>\n",
       "      <th>Bwd Packet Length Mean</th>\n",
       "      <th>Flow Packets/s</th>\n",
       "      <th>Bwd Header Length</th>\n",
       "      <th>Bwd Packet Length Min</th>\n",
       "      <th>Bwd Packet Length Max</th>\n",
       "      <th>Label</th>\n",
       "    </tr>\n",
       "  </thead>\n",
       "  <tbody>\n",
       "    <tr>\n",
       "      <th>0</th>\n",
       "      <td>0.0</td>\n",
       "      <td>0.0</td>\n",
       "      <td>102.74024</td>\n",
       "      <td>0.0</td>\n",
       "      <td>0.0</td>\n",
       "      <td>0.0</td>\n",
       "      <td>0.0</td>\n",
       "      <td>125.713213</td>\n",
       "      <td>119.842342</td>\n",
       "      <td>0.0</td>\n",
       "      <td>...</td>\n",
       "      <td>0.0</td>\n",
       "      <td>0.0</td>\n",
       "      <td>0.0</td>\n",
       "      <td>10.720721</td>\n",
       "      <td>0.0</td>\n",
       "      <td>245.427928</td>\n",
       "      <td>0.0</td>\n",
       "      <td>0.0</td>\n",
       "      <td>0.0</td>\n",
       "      <td>2</td>\n",
       "    </tr>\n",
       "    <tr>\n",
       "      <th>1</th>\n",
       "      <td>0.0</td>\n",
       "      <td>0.0</td>\n",
       "      <td>102.74024</td>\n",
       "      <td>0.0</td>\n",
       "      <td>0.0</td>\n",
       "      <td>0.0</td>\n",
       "      <td>0.0</td>\n",
       "      <td>125.713213</td>\n",
       "      <td>119.842342</td>\n",
       "      <td>0.0</td>\n",
       "      <td>...</td>\n",
       "      <td>0.0</td>\n",
       "      <td>0.0</td>\n",
       "      <td>0.0</td>\n",
       "      <td>10.720721</td>\n",
       "      <td>0.0</td>\n",
       "      <td>245.427928</td>\n",
       "      <td>0.0</td>\n",
       "      <td>0.0</td>\n",
       "      <td>0.0</td>\n",
       "      <td>2</td>\n",
       "    </tr>\n",
       "    <tr>\n",
       "      <th>2</th>\n",
       "      <td>0.0</td>\n",
       "      <td>0.0</td>\n",
       "      <td>102.74024</td>\n",
       "      <td>0.0</td>\n",
       "      <td>0.0</td>\n",
       "      <td>0.0</td>\n",
       "      <td>0.0</td>\n",
       "      <td>125.713213</td>\n",
       "      <td>119.842342</td>\n",
       "      <td>0.0</td>\n",
       "      <td>...</td>\n",
       "      <td>0.0</td>\n",
       "      <td>0.0</td>\n",
       "      <td>0.0</td>\n",
       "      <td>10.720721</td>\n",
       "      <td>0.0</td>\n",
       "      <td>245.427928</td>\n",
       "      <td>0.0</td>\n",
       "      <td>0.0</td>\n",
       "      <td>0.0</td>\n",
       "      <td>2</td>\n",
       "    </tr>\n",
       "    <tr>\n",
       "      <th>3</th>\n",
       "      <td>0.0</td>\n",
       "      <td>0.0</td>\n",
       "      <td>102.74024</td>\n",
       "      <td>0.0</td>\n",
       "      <td>0.0</td>\n",
       "      <td>0.0</td>\n",
       "      <td>0.0</td>\n",
       "      <td>125.713213</td>\n",
       "      <td>119.842342</td>\n",
       "      <td>0.0</td>\n",
       "      <td>...</td>\n",
       "      <td>0.0</td>\n",
       "      <td>0.0</td>\n",
       "      <td>0.0</td>\n",
       "      <td>10.720721</td>\n",
       "      <td>0.0</td>\n",
       "      <td>245.427928</td>\n",
       "      <td>0.0</td>\n",
       "      <td>0.0</td>\n",
       "      <td>0.0</td>\n",
       "      <td>2</td>\n",
       "    </tr>\n",
       "    <tr>\n",
       "      <th>4</th>\n",
       "      <td>0.0</td>\n",
       "      <td>0.0</td>\n",
       "      <td>102.74024</td>\n",
       "      <td>0.0</td>\n",
       "      <td>0.0</td>\n",
       "      <td>0.0</td>\n",
       "      <td>0.0</td>\n",
       "      <td>125.713213</td>\n",
       "      <td>119.842342</td>\n",
       "      <td>0.0</td>\n",
       "      <td>...</td>\n",
       "      <td>0.0</td>\n",
       "      <td>0.0</td>\n",
       "      <td>0.0</td>\n",
       "      <td>10.720721</td>\n",
       "      <td>0.0</td>\n",
       "      <td>245.427928</td>\n",
       "      <td>0.0</td>\n",
       "      <td>0.0</td>\n",
       "      <td>0.0</td>\n",
       "      <td>2</td>\n",
       "    </tr>\n",
       "  </tbody>\n",
       "</table>\n",
       "<p>5 rows × 21 columns</p>\n",
       "</div>"
      ]
     },
     "execution_count": 3,
     "metadata": {},
     "output_type": "execute_result"
    }
   ],
   "execution_count": 3
  },
  {
   "metadata": {
    "ExecuteTime": {
     "end_time": "2025-05-14T19:55:01.057186Z",
     "start_time": "2025-05-14T19:55:01.041603Z"
    }
   },
   "cell_type": "code",
   "source": "df.Label.value_counts()",
   "id": "25d6de523ce8d38d",
   "outputs": [
    {
     "data": {
      "text/plain": [
       "0    34908\n",
       "2    22979\n",
       "1     8435\n",
       "3     7752\n",
       "4     5854\n",
       "Name: Label, dtype: int64"
      ]
     },
     "execution_count": 4,
     "metadata": {},
     "output_type": "execute_result"
    }
   ],
   "execution_count": 4
  },
  {
   "metadata": {
    "ExecuteTime": {
     "end_time": "2025-05-14T19:55:01.122281Z",
     "start_time": "2025-05-14T19:55:01.101468Z"
    }
   },
   "cell_type": "code",
   "source": [
    "df0=df[df['Label']==0].drop(['Label'],axis=1)\n",
    "df1=df[df['Label']==1].drop(['Label'],axis=1)\n",
    "df2=df[df['Label']==2].drop(['Label'],axis=1)\n",
    "df3=df[df['Label']==3].drop(['Label'],axis=1)\n",
    "df4=df[df['Label']==4].drop(['Label'],axis=1)"
   ],
   "id": "db78c49120be7e03",
   "outputs": [],
   "execution_count": 5
  },
  {
   "metadata": {
    "ExecuteTime": {
     "end_time": "2025-05-14T19:55:01.191763Z",
     "start_time": "2025-05-14T19:55:01.185614Z"
    }
   },
   "cell_type": "code",
   "source": "df.iloc[0]",
   "id": "a88e04ad169eba4e",
   "outputs": [
    {
     "data": {
      "text/plain": [
       "Total Length of Fwd Packets      0.000000\n",
       "Bwd IAT Min                      0.000000\n",
       "Fwd IAT Total                  102.740240\n",
       "Flow IAT Std                     0.000000\n",
       "Bwd PSH Flags                    0.000000\n",
       "Fwd URG Flags                    0.000000\n",
       "Bwd URG Flags                    0.000000\n",
       "Fwd Header Length              125.713213\n",
       "Total Fwd Packets              119.842342\n",
       "Fwd Packet Length Min            0.000000\n",
       "Bwd Packet Length Std            0.000000\n",
       "Flow Bytes/s                     0.000000\n",
       "Total Length of Bwd Packets      0.000000\n",
       "Fwd Packet Length Max            0.000000\n",
       "Flow IAT Mean                   10.720721\n",
       "Bwd Packet Length Mean           0.000000\n",
       "Flow Packets/s                 245.427928\n",
       "Bwd Header Length                0.000000\n",
       "Bwd Packet Length Min            0.000000\n",
       "Bwd Packet Length Max            0.000000\n",
       "Label                            2.000000\n",
       "Name: 0, dtype: float64"
      ]
     },
     "execution_count": 6,
     "metadata": {},
     "output_type": "execute_result"
    }
   ],
   "execution_count": 6
  },
  {
   "metadata": {
    "ExecuteTime": {
     "end_time": "2025-05-14T19:55:02.788735Z",
     "start_time": "2025-05-14T19:55:01.237905Z"
    }
   },
   "cell_type": "code",
   "source": [
    "# Generate images for class 0 \n",
    "\n",
    "count=0\n",
    "ims = []\n",
    "\n",
    "image_count = 0\n",
    "\n",
    "image_path = \"train/0/\"\n",
    "os.makedirs(image_path)\n",
    "\n",
    "for i in range(0, len(df0)):  \n",
    "    count=count+1\n",
    "    if count<=60: \n",
    "        im=df0.iloc[i].values\n",
    "        ims=np.append(ims,im)\n",
    "    else:\n",
    "        image_count = image_count + 1\n",
    "        ims=np.array(ims).reshape(20,20,3)\n",
    "        array = np.array(ims, dtype=np.uint8)\n",
    "        new_image = Image.fromarray(array)\n",
    "        new_image.save(image_path+str(i)+'.png')\n",
    "        count=0\n",
    "        ims = []\n",
    "    "
   ],
   "id": "1e4fe1c0a149444f",
   "outputs": [],
   "execution_count": 7
  },
  {
   "metadata": {
    "ExecuteTime": {
     "end_time": "2025-05-14T19:55:02.831570Z",
     "start_time": "2025-05-14T19:55:02.816769Z"
    }
   },
   "cell_type": "code",
   "source": "image_count",
   "id": "6972dbee07d9dcde",
   "outputs": [
    {
     "data": {
      "text/plain": [
       "572"
      ]
     },
     "execution_count": 8,
     "metadata": {},
     "output_type": "execute_result"
    }
   ],
   "execution_count": 8
  },
  {
   "metadata": {
    "ExecuteTime": {
     "end_time": "2025-05-14T19:55:03.251658Z",
     "start_time": "2025-05-14T19:55:02.864897Z"
    }
   },
   "cell_type": "code",
   "source": [
    "# Generate images for class 1\n",
    "\n",
    "count=0\n",
    "ims = []\n",
    "\n",
    "image_count = 0\n",
    "\n",
    "image_path = \"train/1/\"\n",
    "os.makedirs(image_path)\n",
    "\n",
    "for i in range(0, len(df1)):  \n",
    "    count=count+1\n",
    "    if count<=60: \n",
    "        im=df1.iloc[i].values\n",
    "        ims=np.append(ims,im)\n",
    "    else:\n",
    "        image_count = image_count + 1\n",
    "        ims=np.array(ims).reshape(20,20,3)\n",
    "        array = np.array(ims, dtype=np.uint8)\n",
    "        new_image = Image.fromarray(array)\n",
    "        new_image.save(image_path+str(i)+'.png')\n",
    "        count=0\n",
    "        ims = []\n",
    "    "
   ],
   "id": "141bf0ac2903b146",
   "outputs": [],
   "execution_count": 9
  },
  {
   "metadata": {
    "ExecuteTime": {
     "end_time": "2025-05-14T19:55:03.267438Z",
     "start_time": "2025-05-14T19:55:03.257673Z"
    }
   },
   "cell_type": "code",
   "source": "image_count",
   "id": "f44e64bc7a8dda62",
   "outputs": [
    {
     "data": {
      "text/plain": [
       "138"
      ]
     },
     "execution_count": 10,
     "metadata": {},
     "output_type": "execute_result"
    }
   ],
   "execution_count": 10
  },
  {
   "metadata": {
    "ExecuteTime": {
     "end_time": "2025-05-14T19:55:04.310134Z",
     "start_time": "2025-05-14T19:55:03.298985Z"
    }
   },
   "cell_type": "code",
   "source": [
    "# Generate images for class 2\n",
    "count=0\n",
    "ims = []\n",
    "\n",
    "image_count = 0\n",
    "\n",
    "image_path = \"train/2/\"\n",
    "os.makedirs(image_path)\n",
    "\n",
    "for i in range(0, len(df2)):  \n",
    "    \n",
    "    count=count+1\n",
    "    if count<=60: \n",
    "        im=df2.iloc[i].values\n",
    "        ims=np.append(ims,im)\n",
    "    else:\n",
    "        image_count = image_count + 1\n",
    "        ims=np.array(ims).reshape(20,20,3)\n",
    "        array = np.array(ims, dtype=np.uint8)\n",
    "        new_image = Image.fromarray(array)\n",
    "        new_image.save(image_path+str(i)+'.png')\n",
    "        count=0\n",
    "        ims = []"
   ],
   "id": "9b92e28fbc0826c2",
   "outputs": [],
   "execution_count": 11
  },
  {
   "metadata": {
    "ExecuteTime": {
     "end_time": "2025-05-14T19:55:04.352049Z",
     "start_time": "2025-05-14T19:55:04.341945Z"
    }
   },
   "cell_type": "code",
   "source": "image_count",
   "id": "bb6a0f025b33c34a",
   "outputs": [
    {
     "data": {
      "text/plain": [
       "376"
      ]
     },
     "execution_count": 12,
     "metadata": {},
     "output_type": "execute_result"
    }
   ],
   "execution_count": 12
  },
  {
   "metadata": {
    "ExecuteTime": {
     "end_time": "2025-05-14T19:55:04.740273Z",
     "start_time": "2025-05-14T19:55:04.387316Z"
    }
   },
   "cell_type": "code",
   "source": [
    "# Generate images for class 3\n",
    "count=0\n",
    "ims = []\n",
    "\n",
    "image_count = 0\n",
    "\n",
    "image_path = \"train/3/\"\n",
    "os.makedirs(image_path)\n",
    "\n",
    "for i in range(0, len(df3)):  \n",
    "    count=count+1\n",
    "    if count<=60: \n",
    "        im=df3.iloc[i].values\n",
    "        ims=np.append(ims,im)\n",
    "    else:\n",
    "        image_count = image_count + 1\n",
    "        ims=np.array(ims).reshape(20,20,3)\n",
    "        array = np.array(ims, dtype=np.uint8)\n",
    "        new_image = Image.fromarray(array)\n",
    "        new_image.save(image_path+str(i)+'.png')\n",
    "        count=0\n",
    "        ims = []\n",
    "    "
   ],
   "id": "c1ed1b2edbfdc194",
   "outputs": [],
   "execution_count": 13
  },
  {
   "metadata": {
    "ExecuteTime": {
     "end_time": "2025-05-14T19:55:04.787602Z",
     "start_time": "2025-05-14T19:55:04.771826Z"
    }
   },
   "cell_type": "code",
   "source": "image_count",
   "id": "3b1132c712c78753",
   "outputs": [
    {
     "data": {
      "text/plain": [
       "127"
      ]
     },
     "execution_count": 14,
     "metadata": {},
     "output_type": "execute_result"
    }
   ],
   "execution_count": 14
  },
  {
   "metadata": {
    "ExecuteTime": {
     "end_time": "2025-05-14T19:55:05.087402Z",
     "start_time": "2025-05-14T19:55:04.819154Z"
    }
   },
   "cell_type": "code",
   "source": [
    "# Generate images for class 4 \n",
    "count=0\n",
    "ims = []\n",
    "\n",
    "image_count = 0\n",
    "\n",
    "image_path = \"train/4/\"\n",
    "os.makedirs(image_path)\n",
    "\n",
    "for i in range(0, len(df4)):  \n",
    "    \n",
    "    count=count+1\n",
    "    if count<=60: \n",
    "        im=df4.iloc[i].values\n",
    "        ims=np.append(ims,im)\n",
    "    else:\n",
    "        image_count = image_count + 1\n",
    "        ims=np.array(ims).reshape(20,20,3)\n",
    "        array = np.array(ims, dtype=np.uint8)\n",
    "        new_image = Image.fromarray(array)\n",
    "        new_image.save(image_path+str(i)+'.png')\n",
    "        count=0\n",
    "        ims = []\n",
    "    "
   ],
   "id": "3bcd9e535fd2fd13",
   "outputs": [],
   "execution_count": 15
  },
  {
   "metadata": {
    "ExecuteTime": {
     "end_time": "2025-05-14T19:55:05.134738Z",
     "start_time": "2025-05-14T19:55:05.118949Z"
    }
   },
   "cell_type": "code",
   "source": "image_count",
   "id": "98527eda15464354",
   "outputs": [
    {
     "data": {
      "text/plain": [
       "95"
      ]
     },
     "execution_count": 16,
     "metadata": {},
     "output_type": "execute_result"
    }
   ],
   "execution_count": 16
  },
  {
   "metadata": {
    "ExecuteTime": {
     "end_time": "2025-05-14T19:55:05.276991Z",
     "start_time": "2025-05-14T19:55:05.261208Z"
    }
   },
   "cell_type": "code",
   "source": [
    "# Create folders to store images\n",
    "Train_Dir='./train/'\n",
    "Val_Dir='./test/'\n",
    "allimgs=[]\n",
    "for subdir in os.listdir(Train_Dir):\n",
    "    for filename in os.listdir(os.path.join(Train_Dir,subdir)):\n",
    "        filepath=os.path.join(Train_Dir,subdir,filename)\n",
    "        allimgs.append(filepath)\n",
    "print(len(allimgs)) # Print the total number of images"
   ],
   "id": "55445e89b94263e6",
   "outputs": [
    {
     "name": "stdout",
     "output_type": "stream",
     "text": [
      "1308\n"
     ]
    }
   ],
   "execution_count": 19
  },
  {
   "metadata": {
    "ExecuteTime": {
     "end_time": "2025-05-14T19:55:05.324484Z",
     "start_time": "2025-05-14T19:55:05.308714Z"
    }
   },
   "cell_type": "code",
   "source": [
    "#split a test set from the dataset, train/test size = 80%/20%\n",
    "Numbers=len(allimgs)//5 \t#size of test set (20%)\n",
    "\n",
    "def mymovefile(srcfile,dstfile):\n",
    "    if not os.path.isfile(srcfile):\n",
    "        print (\"%s not exist!\"%(srcfile))\n",
    "    else:\n",
    "        fpath,fname=os.path.split(dstfile)    \n",
    "        if not os.path.exists(fpath):\n",
    "            os.makedirs(fpath)               \n",
    "        shutil.move(srcfile,dstfile)          \n",
    "        #print (\"move %s -> %s\"%(srcfile,dstfile))"
   ],
   "id": "54452abf93bb6213",
   "outputs": [],
   "execution_count": 20
  },
  {
   "metadata": {
    "ExecuteTime": {
     "end_time": "2025-05-14T19:55:05.372075Z",
     "start_time": "2025-05-14T19:55:05.356299Z"
    }
   },
   "cell_type": "code",
   "source": [
    "# The size of test set\n",
    "Numbers"
   ],
   "id": "e1150cccd90ac865",
   "outputs": [
    {
     "data": {
      "text/plain": [
       "261"
      ]
     },
     "execution_count": 21,
     "metadata": {},
     "output_type": "execute_result"
    }
   ],
   "execution_count": 21
  },
  {
   "metadata": {
    "ExecuteTime": {
     "end_time": "2025-05-14T19:55:05.419408Z",
     "start_time": "2025-05-14T19:55:05.403630Z"
    }
   },
   "cell_type": "code",
   "source": [
    "Numbers = int(Numbers)\n",
    "Numbers"
   ],
   "id": "54d35e227225c05",
   "outputs": [
    {
     "data": {
      "text/plain": [
       "261"
      ]
     },
     "execution_count": 22,
     "metadata": {},
     "output_type": "execute_result"
    }
   ],
   "execution_count": 22
  },
  {
   "metadata": {
    "ExecuteTime": {
     "end_time": "2025-05-14T19:55:05.530081Z",
     "start_time": "2025-05-14T19:55:05.451221Z"
    }
   },
   "cell_type": "code",
   "source": [
    "# Create the test set\n",
    "val_imgs=random.sample(allimgs,Numbers)\n",
    "for img in val_imgs:\n",
    "    dest_path=img.replace(Train_Dir,Val_Dir)\n",
    "    mymovefile(img,dest_path)\n",
    "print('Finish creating test set')"
   ],
   "id": "23799c970bc369ee",
   "outputs": [
    {
     "name": "stdout",
     "output_type": "stream",
     "text": [
      "Finish creating test set\n"
     ]
    }
   ],
   "execution_count": 23
  },
  {
   "metadata": {
    "ExecuteTime": {
     "end_time": "2025-05-14T19:55:05.577163Z",
     "start_time": "2025-05-14T19:55:05.561390Z"
    }
   },
   "cell_type": "code",
   "source": [
    "#resize the images 224*224 for better CNN training\n",
    "def get_224(folder,dstdir):\n",
    "    imgfilepaths=[]\n",
    "    for root,dirs,imgs in os.walk(folder):\n",
    "        for thisimg in imgs:\n",
    "            thisimg_path=os.path.join(root,thisimg)\n",
    "            imgfilepaths.append(thisimg_path)\n",
    "    for thisimg_path in imgfilepaths:\n",
    "        dir_name,filename=os.path.split(thisimg_path)\n",
    "        dir_name=dir_name.replace(folder,dstdir)\n",
    "        new_file_path=os.path.join(dir_name,filename)\n",
    "        if not os.path.exists(dir_name):\n",
    "            os.makedirs(dir_name)\n",
    "        img=cv2.imread(thisimg_path)\n",
    "        img=cv2.resize(img,(224,224))\n",
    "        cv2.imwrite(new_file_path,img)\n",
    "    print('Finish resizing'.format(folder=folder))"
   ],
   "id": "933168fb59e5fa3f",
   "outputs": [],
   "execution_count": 24
  },
  {
   "metadata": {
    "ExecuteTime": {
     "end_time": "2025-05-14T19:55:11.921745Z",
     "start_time": "2025-05-14T19:55:05.608726Z"
    }
   },
   "cell_type": "code",
   "source": [
    "DATA_DIR_224='./train_224/'\n",
    "get_224(folder='./train/',dstdir=DATA_DIR_224)"
   ],
   "id": "b019a1dc5b048418",
   "outputs": [
    {
     "name": "stdout",
     "output_type": "stream",
     "text": [
      "Finish resizing\n"
     ]
    }
   ],
   "execution_count": 25
  },
  {
   "metadata": {
    "ExecuteTime": {
     "end_time": "2025-05-14T19:55:13.546347Z",
     "start_time": "2025-05-14T19:55:11.990816Z"
    }
   },
   "cell_type": "code",
   "source": [
    "DATA_DIR2_224='./test_224/'\n",
    "get_224(folder='./test/',dstdir=DATA_DIR2_224)"
   ],
   "id": "a36cfb53dc4efb92",
   "outputs": [
    {
     "name": "stdout",
     "output_type": "stream",
     "text": [
      "Finish resizing\n"
     ]
    }
   ],
   "execution_count": 26
  },
  {
   "metadata": {
    "ExecuteTime": {
     "end_time": "2025-05-14T19:55:13.609413Z",
     "start_time": "2025-05-14T19:55:13.597645Z"
    }
   },
   "cell_type": "code",
   "source": [
    "end_time = time.time()\n",
    "\n",
    "print(f\"Elapsed time: {end_time-start_time} seconds.\")"
   ],
   "id": "f5f5e417a9f12c81",
   "outputs": [
    {
     "name": "stdout",
     "output_type": "stream",
     "text": [
      "Elapsed time: 12.845379829406738 seconds.\n"
     ]
    }
   ],
   "execution_count": 27
  }
 ],
 "metadata": {
  "kernelspec": {
   "display_name": "Python 3",
   "language": "python",
   "name": "python3"
  },
  "language_info": {
   "codemirror_mode": {
    "name": "ipython",
    "version": 2
   },
   "file_extension": ".py",
   "mimetype": "text/x-python",
   "name": "python",
   "nbconvert_exporter": "python",
   "pygments_lexer": "ipython2",
   "version": "2.7.6"
  }
 },
 "nbformat": 4,
 "nbformat_minor": 5
}
