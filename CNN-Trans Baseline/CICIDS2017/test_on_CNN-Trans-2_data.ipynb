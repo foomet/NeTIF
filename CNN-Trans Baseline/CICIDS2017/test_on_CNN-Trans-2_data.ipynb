{
 "cells": [
  {
   "metadata": {
    "ExecuteTime": {
     "end_time": "2025-05-15T01:46:17.757364Z",
     "start_time": "2025-05-15T01:46:14.861916Z"
    }
   },
   "cell_type": "code",
   "source": [
    "import warnings\n",
    "warnings.filterwarnings(\"ignore\")\n",
    "import tensorflow.keras as keras\n",
    "\n",
    "from tensorflow.keras.models import Model,load_model\n",
    "from tensorflow.keras import Input\n",
    "from tensorflow.keras.layers import concatenate,Dense,Flatten,Dropout\n",
    "from tensorflow.keras.preprocessing.image import  ImageDataGenerator\n",
    "import tensorflow.keras.callbacks as kcallbacks\n",
    "import os\n",
    "import math\n",
    "from tensorflow.keras.utils import plot_model\n",
    "from tensorflow.keras.callbacks import EarlyStopping, ReduceLROnPlateau, ModelCheckpoint, LearningRateScheduler\n",
    "from tensorflow.keras.optimizers import SGD\n",
    "import operator\n",
    "import numpy as np\n",
    "from PIL import Image           # pip install pillow\n",
    "from collections import defaultdict\n",
    "import time\n",
    "import cv2\n",
    "import matplotlib.pyplot as plt\n",
    "import time\n",
    "from sklearn.metrics import accuracy_score,precision_score,recall_score,f1_score\n",
    "from sklearn.metrics import classification_report, confusion_matrix\n",
    "from sklearn.metrics import accuracy_score,precision_score,recall_score,f1_score\n",
    "from sklearn.metrics import classification_report, confusion_matrix\n",
    "from sklearn.metrics import accuracy_score,precision_score,recall_score,f1_score\n",
    "# import tensorflow.keras as keras\n",
    "from tensorflow.keras.models import Model,load_model\n",
    "from tensorflow.keras import Input\n",
    "from tensorflow.keras.layers import concatenate,Dense,Flatten,Dropout,Average\n",
    "from tensorflow.keras.preprocessing.image import  ImageDataGenerator\n",
    "import tensorflow.keras.callbacks as kcallbacks\n",
    "import os\n",
    "import math\n",
    "from tensorflow.keras.utils import plot_model\n",
    "from tensorflow.keras.callbacks import EarlyStopping, ReduceLROnPlateau, ModelCheckpoint, LearningRateScheduler\n",
    "from tensorflow.keras.optimizers import SGD\n",
    "import operator\n",
    "import numpy as np\n",
    "from PIL import Image\n",
    "from collections import defaultdict\n",
    "import tensorflow as tf\n",
    "tf.compat.v1.logging.set_verbosity(tf.compat.v1.logging.ERROR)\n",
    "import os\n",
    "from sklearn.metrics import accuracy_score\n",
    "# import tensorflow.keras as keras\n",
    "from tensorflow.keras.models import Model,load_model\n",
    "from tensorflow.keras import Input\n",
    "from tensorflow.keras.layers import concatenate,Dense,Flatten,Dropout\n",
    "from tensorflow.keras.preprocessing.image import  ImageDataGenerator\n",
    "import tensorflow.keras.callbacks as kcallbacks\n",
    "import os\n",
    "import math\n",
    "from tensorflow.keras.utils import plot_model\n",
    "from tensorflow.keras.callbacks import EarlyStopping, ReduceLROnPlateau, ModelCheckpoint, LearningRateScheduler\n",
    "from tensorflow.keras.optimizers import SGD"
   ],
   "id": "dd228c86a3f6b5df",
   "outputs": [],
   "execution_count": 1
  },
  {
   "metadata": {
    "ExecuteTime": {
     "end_time": "2025-05-15T01:46:17.896450Z",
     "start_time": "2025-05-15T01:46:17.764468Z"
    }
   },
   "cell_type": "code",
   "source": [
    "\n",
    "TARGET_SIZE=(224,224)     \n",
    "INPUT_SIZE=(224,224,3)    \n",
    "BATCHSIZE=32          \n",
    "\n",
    "test_datagen = ImageDataGenerator(rescale=1./255)\n",
    "\n",
    "        \n",
    "validation_generator = test_datagen.flow_from_directory(\n",
    "            './test_224/',\n",
    "            target_size=TARGET_SIZE,\n",
    "            batch_size=BATCHSIZE,\n",
    "            class_mode='categorical')"
   ],
   "id": "6e4b81ac1c677ab9",
   "outputs": [
    {
     "name": "stdout",
     "output_type": "stream",
     "text": [
      "Found 261 images belonging to 5 classes.\n"
     ]
    }
   ],
   "execution_count": 2
  },
  {
   "metadata": {
    "ExecuteTime": {
     "end_time": "2025-05-15T01:46:18.223467Z",
     "start_time": "2025-05-15T01:46:18.209160Z"
    }
   },
   "cell_type": "code",
   "source": [
    "#generate labels indicating class\n",
    "label=validation_generator.class_indices\n",
    "label={v: k for k, v in label.items()}"
   ],
   "id": "841dd6146a732074",
   "outputs": [],
   "execution_count": 3
  },
  {
   "metadata": {
    "ExecuteTime": {
     "end_time": "2025-05-15T01:46:24.519634Z",
     "start_time": "2025-05-15T01:46:18.240581Z"
    }
   },
   "cell_type": "code",
   "source": [
    " #load model 1: xception\n",
    "xception_model = load_model('./xception.h5')\n",
    "#load model 2: VGG16\n",
    "vgg_model = load_model('./VGG16.h5')\n",
    "#load model 3: VGG19\n",
    "vgg19_model = load_model('./VGG19.h5')\n",
    "#load model 4: inception\n",
    "incep_model = load_model('./inception.h5')\n",
    "#load model 5: inceptionresnet\n",
    "inres_model = load_model('./inceptionresnet.h5')"
   ],
   "id": "2f4828f642ff6093",
   "outputs": [],
   "execution_count": 4
  },
  {
   "metadata": {
    "ExecuteTime": {
     "end_time": "2025-05-15T01:46:59.694257Z",
     "start_time": "2025-05-15T01:46:59.603752Z"
    }
   },
   "cell_type": "code",
   "source": [
    "model1=Model(inputs=[xception_model.layers[0].get_input_at(0)],outputs=xception_model.get_layer('dense_1').output,name='xception')\n",
    "model2=Model(inputs=[vgg_model.layers[0].get_input_at(0)],outputs=vgg_model.get_layer('dense_3').output,name='vgg')\n",
    "model3=Model(inputs=[vgg19_model.layers[0].get_input_at(0)],outputs=vgg19_model.get_layer('dense_1').output,name='vgg19')\n",
    "model4=Model(inputs=[incep_model.layers[0].get_input_at(0)],outputs=incep_model.get_layer('dense_3').output,name='incep')\n",
    "model5=Model(inputs=[inres_model.layers[0].get_input_at(0)],outputs=inres_model.get_layer('dense_5').output,name='inres')"
   ],
   "id": "2fa68a266c5af156",
   "outputs": [],
   "execution_count": 6
  },
  {
   "metadata": {
    "ExecuteTime": {
     "end_time": "2025-05-15T01:47:03.220611Z",
     "start_time": "2025-05-15T01:47:01.668326Z"
    }
   },
   "cell_type": "code",
   "source": "ensemble_model=load_model('./ensemble.h5')",
   "id": "57c1587e61388350",
   "outputs": [],
   "execution_count": 7
  },
  {
   "metadata": {
    "ExecuteTime": {
     "end_time": "2025-05-15T01:47:03.251255Z",
     "start_time": "2025-05-15T01:47:03.227733Z"
    }
   },
   "cell_type": "code",
   "source": [
    "#read images from validation folder\n",
    "\n",
    "\n",
    "rootdir = './test_224_shuffled/'\n",
    "\n",
    "test_laels = []\n",
    "test_images=[]\n",
    "for subdir, dirs, files in os.walk(rootdir):\n",
    "    for file in files:\n",
    "        if not (file.endswith(\".jpeg\"))|(file.endswith(\".jpg\"))|(file.endswith(\".png\")):\n",
    "            continue\n",
    "        test_laels.append(subdir.split('/')[-1])\n",
    "        test_images.append(os.path.join(subdir, file))\n",
    "        \n",
    "print(test_laels[0],test_images[0])"
   ],
   "id": "bd46ea136c7972a4",
   "outputs": [
    {
     "name": "stdout",
     "output_type": "stream",
     "text": [
      "0 ./test_224_shuffled/0\\10064.png\n"
     ]
    }
   ],
   "execution_count": 8
  },
  {
   "metadata": {
    "ExecuteTime": {
     "end_time": "2025-05-15T01:48:06.208870Z",
     "start_time": "2025-05-15T01:47:03.267609Z"
    }
   },
   "cell_type": "code",
   "source": [
    "#test the averaging model on the validation set\n",
    "\n",
    "predict=[]\n",
    "length=len(test_images)\n",
    "t1 = time.time()\n",
    "for i in range((length//127)+1):\n",
    "    inputimg=test_images[127*i:127*(i+1)]\n",
    "    test_batch=[]\n",
    "    for path in inputimg:\n",
    "        thisimg=np.array(Image.open(path))/255\n",
    "        test_batch.append(thisimg)\n",
    "    #print(i, np.array(test_batch).shape)\n",
    "    ensemble_model_batch=ensemble_model.predict(np.array(test_batch))\n",
    "    predict_batch=list(np.argmax(ensemble_model_batch,axis=1))\n",
    "    predict_batch=[label[con] for con in predict_batch]\n",
    "    predict.append(predict_batch)\n",
    "\n",
    "predict=sum(predict,[])\n",
    "\n",
    "t2 = time.time()\n",
    "print('The testing time is :%f seconds' % (t2-t1))"
   ],
   "id": "f29ed3173ce9f7f",
   "outputs": [
    {
     "name": "stdout",
     "output_type": "stream",
     "text": [
      "The testing time is :62.931097 seconds\n"
     ]
    }
   ],
   "execution_count": 9
  },
  {
   "metadata": {
    "ExecuteTime": {
     "end_time": "2025-05-15T01:48:06.255140Z",
     "start_time": "2025-05-15T01:48:06.242662Z"
    }
   },
   "cell_type": "code",
   "source": [
    "\n",
    "acc=accuracy_score(test_laels,predict)\n",
    "print('Concatenation accuracy:%s'%acc)"
   ],
   "id": "be84056d138b9763",
   "outputs": [
    {
     "name": "stdout",
     "output_type": "stream",
     "text": [
      "Concatenation accuracy:0.25654450261780104\n"
     ]
    }
   ],
   "execution_count": 10
  },
  {
   "metadata": {
    "ExecuteTime": {
     "end_time": "2025-05-15T01:48:06.301163Z",
     "start_time": "2025-05-15T01:48:06.282510Z"
    }
   },
   "cell_type": "code",
   "source": [
    "acc=accuracy_score(test_laels,predict)\n",
    "pre=precision_score(test_laels,predict,average='weighted')\n",
    "re=recall_score(test_laels,predict,average='weighted')\n",
    "f1=f1_score(test_laels,predict,average='weighted')\n",
    "print('ensemble accuracy: %s'%acc)\n",
    "print('precision: %s'%pre)\n",
    "print('recall: %s'%re)\n",
    "print('f1: %s'%f1)\n",
    "\n",
    "print(confusion_matrix(test_laels, predict))\n",
    "target_names = ['0', '1','2','3','4']\n",
    "print(classification_report(test_laels, predict, target_names=target_names))"
   ],
   "id": "5e16f906e8d517a2",
   "outputs": [
    {
     "name": "stdout",
     "output_type": "stream",
     "text": [
      "ensemble accuracy: 0.25654450261780104\n",
      "precision: 0.22825098280460718\n",
      "recall: 0.25654450261780104\n",
      "f1: 0.21097660272925542\n",
      "[[39  0  6 98  6]\n",
      " [26  0  5 81 10]\n",
      " [16  0  6 54 14]\n",
      " [21  0  8 74  6]\n",
      " [22  0  9 44 28]]\n",
      "              precision    recall  f1-score   support\n",
      "\n",
      "           0       0.31      0.26      0.29       149\n",
      "           1       0.00      0.00      0.00       122\n",
      "           2       0.18      0.07      0.10        90\n",
      "           3       0.21      0.68      0.32       109\n",
      "           4       0.44      0.27      0.34       103\n",
      "\n",
      "    accuracy                           0.26       573\n",
      "   macro avg       0.23      0.26      0.21       573\n",
      "weighted avg       0.23      0.26      0.21       573\n",
      "\n"
     ]
    }
   ],
   "execution_count": 11
  },
  {
   "metadata": {
    "ExecuteTime": {
     "end_time": "2025-05-15T01:48:06.411187Z",
     "start_time": "2025-05-15T01:48:06.395070Z"
    }
   },
   "cell_type": "code",
   "source": "label_map = {0: 'Benign', 1: 'DDoS', 2: 'DoS Hulk', 3: 'FTP-Patator', 4: 'SSH-Patator'}",
   "id": "8498b83c0094bc2e",
   "outputs": [],
   "execution_count": 12
  },
  {
   "metadata": {
    "ExecuteTime": {
     "end_time": "2025-05-15T01:48:06.441534Z",
     "start_time": "2025-05-15T01:48:06.427413Z"
    }
   },
   "cell_type": "code",
   "source": [
    "y_true_list = [int(i) for i in test_laels]\n",
    "y_pred_list = [int(i) for i in predict]"
   ],
   "id": "e5e94aeff0c0164c",
   "outputs": [],
   "execution_count": 13
  },
  {
   "metadata": {
    "ExecuteTime": {
     "end_time": "2025-05-15T01:48:06.488257Z",
     "start_time": "2025-05-15T01:48:06.474139Z"
    }
   },
   "cell_type": "code",
   "source": [
    "\n",
    "y_true_mapped = [label_map[y] for y in y_true_list]\n",
    "y_pred_mapped = [label_map[y] for y in y_pred_list]\n",
    "\n",
    "report = classification_report(y_true_mapped, y_pred_mapped, zero_division=1, output_dict=True)\n",
    "\n",
    "cm = confusion_matrix(y_true_mapped, y_pred_mapped)\n",
    "per_class_accuracy = cm.diagonal() / cm.sum(axis=1)\n",
    "\n",
    "for label, metrics in report.items():\n",
    "    if isinstance(metrics, dict):  # skip accuracy, macro avg, etc.\n",
    "        print(f\"\\nClass: {label}\")\n",
    "        for metric_name, value in metrics.items():\n",
    "            print(f\"  {metric_name}: {value:.3f}\")\n",
    "\n",
    "\n",
    "\n",
    "for class_label, acc in zip(report.keys(), per_class_accuracy):\n",
    "    if class_label not in ['accuracy', 'macro avg', 'weighted avg']:\n",
    "        print(f\"Class {class_label} Accuracy: {acc * 100:.3f}%\")\n",
    "        \n",
    "        \n",
    "        "
   ],
   "id": "b6f945f777c8e9f9",
   "outputs": [
    {
     "name": "stdout",
     "output_type": "stream",
     "text": [
      "\n",
      "Class: Benign\n",
      "  precision: 0.315\n",
      "  recall: 0.262\n",
      "  f1-score: 0.286\n",
      "  support: 149.000\n",
      "\n",
      "Class: DDoS\n",
      "  precision: 1.000\n",
      "  recall: 0.000\n",
      "  f1-score: 0.000\n",
      "  support: 122.000\n",
      "\n",
      "Class: DoS Hulk\n",
      "  precision: 0.176\n",
      "  recall: 0.067\n",
      "  f1-score: 0.097\n",
      "  support: 90.000\n",
      "\n",
      "Class: FTP-Patator\n",
      "  precision: 0.211\n",
      "  recall: 0.679\n",
      "  f1-score: 0.322\n",
      "  support: 109.000\n",
      "\n",
      "Class: SSH-Patator\n",
      "  precision: 0.438\n",
      "  recall: 0.272\n",
      "  f1-score: 0.335\n",
      "  support: 103.000\n",
      "\n",
      "Class: macro avg\n",
      "  precision: 0.428\n",
      "  recall: 0.256\n",
      "  f1-score: 0.208\n",
      "  support: 573.000\n",
      "\n",
      "Class: weighted avg\n",
      "  precision: 0.441\n",
      "  recall: 0.257\n",
      "  f1-score: 0.211\n",
      "  support: 573.000\n",
      "Class Benign Accuracy: 26.174%\n",
      "Class DDoS Accuracy: 0.000%\n",
      "Class DoS Hulk Accuracy: 6.667%\n",
      "Class FTP-Patator Accuracy: 67.890%\n",
      "Class SSH-Patator Accuracy: 27.184%\n"
     ]
    }
   ],
   "execution_count": 14
  },
  {
   "metadata": {},
   "cell_type": "code",
   "outputs": [],
   "execution_count": null,
   "source": "",
   "id": "a923df2c9af42eae"
  }
 ],
 "metadata": {
  "kernelspec": {
   "display_name": "Python 3",
   "language": "python",
   "name": "python3"
  },
  "language_info": {
   "codemirror_mode": {
    "name": "ipython",
    "version": 2
   },
   "file_extension": ".py",
   "mimetype": "text/x-python",
   "name": "python",
   "nbconvert_exporter": "python",
   "pygments_lexer": "ipython2",
   "version": "2.7.6"
  }
 },
 "nbformat": 4,
 "nbformat_minor": 5
}
